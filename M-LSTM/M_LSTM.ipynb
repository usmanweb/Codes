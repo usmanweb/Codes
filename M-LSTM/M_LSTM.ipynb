{
 "cells": [
  {
   "cell_type": "markdown",
   "id": "3ee54cb1-8586-451a-96f2-08fb1550ed7f",
   "metadata": {},
   "source": [
    "### Model Design"
   ]
  },
  {
   "cell_type": "code",
   "execution_count": 1,
   "id": "c5d228b4-3e21-4c61-bc4c-1c01ca3a7983",
   "metadata": {},
   "outputs": [],
   "source": [
    "import torch\n",
    "import torch.nn as nn\n",
    "import torch.optim.lr_scheduler as lr_scheduler\n",
    "\n",
    "import numpy as np\n",
    "import pandas as pd\n",
    "\n",
    "import matplotlib.pyplot as plt\n",
    "\n",
    "from sklearn.model_selection import train_test_split\n",
    "from sklearn.metrics import mean_absolute_error\n",
    "from sklearn.metrics import mean_squared_error"
   ]
  },
  {
   "cell_type": "code",
   "execution_count": 2,
   "id": "dbfe2d75-d793-455e-89b7-625b70cd1cd3",
   "metadata": {},
   "outputs": [
    {
     "data": {
      "text/plain": [
       "Index(['latnum', 'longnum', 'URBAN_RURA', 'pfir', 'country', 'dhsregna',\n",
       "       'ndvi_1', 'ndvi_2', 'ndvi_3', 'ndvi_4', 'ndvi_5', 'ndvi_6', 'ndvi_7',\n",
       "       'ndvi_8', 'ndvi_9', 'ndvi_10', 'ndvi_11', 'ndvi_12', 'ntl', 't_1',\n",
       "       't_2', 't_3', 't_4', 't_5', 't_6', 't_7', 't_8', 't_9', 't_10', 't_11',\n",
       "       't_12', 'rf_1', 'rf_2', 'rf_3', 'rf_4', 'rf_5', 'rf_6', 'rf_7', 'rf_8',\n",
       "       'rf_9', 'rf_10', 'rf_11', 'rf_12', 'next_pfir'],\n",
       "      dtype='object')"
      ]
     },
     "execution_count": 2,
     "metadata": {},
     "output_type": "execute_result"
    }
   ],
   "source": [
    "country = 'India'\n",
    "# Import the data convereted from series format to Time series\n",
    "df_reframed = pd.read_csv(f'./data/reshaped_data/{country}_reframed.csv', index_col='year')\n",
    "# df_reframed = df_reframed.round(4)\n",
    "df_reframed.columns"
   ]
  },
  {
   "cell_type": "code",
   "execution_count": 3,
   "id": "fd23e05a-fd7a-4438-b915-8f1b0c676383",
   "metadata": {},
   "outputs": [
    {
     "data": {
      "text/plain": [
       "(511110, 44)"
      ]
     },
     "execution_count": 3,
     "metadata": {},
     "output_type": "execute_result"
    }
   ],
   "source": [
    "df_reframed.shape"
   ]
  },
  {
   "cell_type": "code",
   "execution_count": 4,
   "id": "83db1101-f7c8-4e90-96c1-8ae84f764e63",
   "metadata": {},
   "outputs": [
    {
     "name": "stdout",
     "output_type": "stream",
     "text": [
      "0.509214\n"
     ]
    },
    {
     "data": {
      "text/plain": [
       "(511110, 44)"
      ]
     },
     "execution_count": 4,
     "metadata": {},
     "output_type": "execute_result"
    }
   ],
   "source": [
    "# Normalizing the Malaria index columns between 0,1\n",
    "max = df_reframed.iloc[:,-1].abs().max()\n",
    "print(max)\n",
    "df_rescaled = df_reframed.copy()\n",
    "df_rescaled.iloc[:,-1] = df_reframed.iloc[:,-1] /max\n",
    "df_rescaled.iloc[:,-1].abs().max()\n",
    "df_rescaled.shape"
   ]
  },
  {
   "cell_type": "code",
   "execution_count": 5,
   "id": "a85b9f43-afaf-41f4-85a9-e7719e057ec2",
   "metadata": {},
   "outputs": [],
   "source": [
    "# Returns number of batches for the total data provided to the function\n",
    "def getNoOfBatches(batch_size, dataset_size):\n",
    "    return int(dataset_size/18)\n",
    "# Returns two data frames X:(Features of all Examples reshaped into batches) and Y:(Target of all Examples turned into batches)\n",
    "def getBatches(df:pd.DataFrame, batch_size=1):\n",
    "    df_ref = df.values\n",
    "\n",
    "    Y = df_ref[:, -1]\n",
    "    Y = Y.reshape(Y.shape[0], 1)\n",
    "    X = df_ref[:, :df_ref.shape[1]-1]\n",
    "    # Here batch size indicates the number of timestamps/ No. of years\n",
    "    no_batches = getNoOfBatches(batch_size = batch_size, dataset_size = X.shape[0])\n",
    "\n",
    "    X = X.reshape(no_batches, batch_size, X.shape[1])\n",
    "    Y = Y.reshape(no_batches, batch_size, Y.shape[1])\n",
    "    return X, Y\n",
    "def get_preprocessed_data(df:pd.DataFrame, batch_size=1):\n",
    "    X, Y = getBatches(df_reframed, batch_size=18)\n",
    "    \n",
    "    X_reshaped = []\n",
    "    for i in range(X.shape[0]):\n",
    "        X_reshaped.append(np.delete(X[i], -1, axis=0))\n",
    "    X_reshaped = np.asarray(X_reshaped)\n",
    "    \n",
    "    Y_reshaped = []\n",
    "    for i in range(Y.shape[0]):\n",
    "        y=[]\n",
    "        for j in range(Y.shape[1]):\n",
    "            if j<17: y.append(Y[i][j+1][0])\n",
    "        Y_reshaped.append(y)\n",
    "    \n",
    "    Y_reshaped = np.asarray(Y_reshaped)\n",
    "    Y_reshaped = Y_reshaped.reshape(Y_reshaped.shape[0], Y_reshaped.shape[1], 1)\n",
    "    return X_reshaped, Y_reshaped"
   ]
  },
  {
   "cell_type": "code",
   "execution_count": 6,
   "id": "4d2f4424-d5fd-42eb-b5dc-c6770bcbc47b",
   "metadata": {},
   "outputs": [
    {
     "name": "stdout",
     "output_type": "stream",
     "text": [
      "28395\n",
      "X_1 shape: torch.Size([28395, 17, 43]) | Y_! shape: torch.Size([28395, 17, 1])\n"
     ]
    }
   ],
   "source": [
    "torch.set_default_dtype(torch.double) \n",
    "batch_size = 17\n",
    "dataset_size = df_reframed.shape[0]\n",
    "example_size = getNoOfBatches(batch_size ,dataset_size)\n",
    "print(example_size)\n",
    "X_1, Y_1 = get_preprocessed_data(df_reframed, batch_size = batch_size)\n",
    "# Converting the dtype of X_1, Y_1 from pd.DataFrame to torch.tensor\n",
    "X_1, Y_1 = torch.tensor(X_1), torch.tensor(Y_1)\n",
    "print(f'X_1 shape: {X_1.shape} | Y_! shape: {Y_1.shape}')"
   ]
  },
  {
   "cell_type": "code",
   "execution_count": 7,
   "id": "60b3163e-0b92-4929-b118-54d3896c3a10",
   "metadata": {},
   "outputs": [],
   "source": [
    "import random\n",
    "example_lst = [i for i in range(example_size)]\n",
    "# example_lst = random.shuffle(example_lst)\n",
    "example_lst = random.sample(example_lst,example_size)\n"
   ]
  },
  {
   "cell_type": "code",
   "execution_count": 8,
   "id": "6e7b22e0-f4d8-45d5-9309-4d8471dd9a2a",
   "metadata": {},
   "outputs": [
    {
     "name": "stdout",
     "output_type": "stream",
     "text": [
      "22716\n",
      "torch.Size([22716, 17, 1])\n"
     ]
    }
   ],
   "source": [
    "# Dividing into training and testing datasets\n",
    "train_split = 0.8\n",
    "train_values = train_split * example_size\n",
    "train_values = int(train_values)\n",
    "split_type = 'Spatial'\n",
    "train_X, test_X = X_1[example_lst[:train_values],:], X_1[example_lst[train_values:],:]\n",
    "train_y, test_y = Y_1[example_lst[:train_values], :], Y_1[example_lst[train_values:], :]\n",
    "print(train_values)\n",
    "# print(example_lst[train_values:])\n",
    "print(train_y.shape)"
   ]
  },
  {
   "cell_type": "code",
   "execution_count": 9,
   "id": "293aae5f-a3af-4ec3-8d03-cfc74c83408c",
   "metadata": {},
   "outputs": [],
   "source": [
    "class MultivariateLSTM(nn.Module):\n",
    "    \n",
    "    def __init__(self, input_size, hidden_size, num_layers, output_size):\n",
    "        super(MultivariateLSTM, self).__init__()\n",
    "\n",
    "        self.lstm = nn.LSTM(input_size, hidden_size, num_layers, batch_first=True)\n",
    "        self.fc1 = nn.Linear(hidden_size, output_size)\n",
    "        \n",
    "    def forward(self, x):\n",
    "        \n",
    "        out, _ = self.lstm(x)\n",
    "        out = self.fc1(out)\n",
    "        out = out[:, -1, :]\n",
    "        return out"
   ]
  },
  {
   "cell_type": "code",
   "execution_count": 10,
   "id": "6d997024-1e69-4988-b601-6041a56ffa24",
   "metadata": {},
   "outputs": [],
   "source": [
    "input_size = X_1.shape[-1] # The number of expected features in the input\n",
    "hidden_size = 100 # The number of hidden states \n",
    "num_layers = 4 # Number of Hidden layers\n",
    "output_size = 1\n",
    "lr=0.0001\n",
    "\n",
    "# Initializing a model Object\n",
    "model = MultivariateLSTM(input_size, hidden_size, num_layers, output_size=1)\n",
    "# Defining loss function\n",
    "criterion = nn.L1Loss()\n",
    "# Selecting an optimizer\n",
    "optimizer = torch.optim.Adam(model.parameters(), lr=lr)\n",
    "# Creating a schedular for adaptive learning rate\n",
    "scheduler = lr_scheduler.LinearLR(optimizer, start_factor=0.3, total_iters=10)"
   ]
  },
  {
   "cell_type": "code",
   "execution_count": 11,
   "id": "468c6b9d-a6af-44e2-b0ad-d684b8f8ecd9",
   "metadata": {},
   "outputs": [],
   "source": [
    "# Load the model if saved already in params folder\n",
    "outputs = 0\n",
    "epochs = 10\n",
    "loss = 0\n",
    "losses = []\n",
    "# In case you are loading the model, his variable specifies the number of epochs used in previously\n",
    "previous_epochs = 0\n",
    "# Stores count of current epochs plus previous ones\n",
    "loaded_model_epochs = epochs+previous_epochs\n",
    "\n",
    "if previous_epochs!=0:\n",
    "    loaded_params = torch.load(f'./Saved_Params/{country}_{str(loaded_model_epochs)}_{str(num_layers)}_{str(hidden_size)}_ep_trained.pt')\n",
    "    \n",
    "    previous_epochs = loaded_params['checkpoint_epoch']\n",
    "    loaded_loss = loaded_params['checkpoint_loss']\n",
    "    loaded_model = loaded_params['model_state_dict']\n",
    "    loaded_optimizer = loaded_params['optim_state_dict']\n",
    "\n",
    "    loss = loaded_loss\n",
    "    model.load_state_dict(loaded_model)\n",
    "    optimizer.load_state_dict(loaded_optimizer)\n",
    "    "
   ]
  },
  {
   "cell_type": "code",
   "execution_count": 12,
   "id": "215ea901-f035-4632-96e4-18febb977a81",
   "metadata": {},
   "outputs": [
    {
     "name": "stdout",
     "output_type": "stream",
     "text": [
      "Training...LSTM\n",
      "Epoch 1/10, Train Loss: 0.009249\n",
      "Epoch 2/10, Train Loss: 0.008949\n",
      "Epoch 3/10, Train Loss: 0.008682\n",
      "Epoch 4/10, Train Loss: 0.008537\n",
      "Epoch 5/10, Train Loss: 0.008444\n",
      "Epoch 6/10, Train Loss: 0.008399\n",
      "Epoch 7/10, Train Loss: 0.008375\n",
      "Epoch 8/10, Train Loss: 0.008418\n",
      "Epoch 9/10, Train Loss: 0.008463\n",
      "Epoch 10/10, Train Loss: 0.008407\n",
      "Training Ended!\n"
     ]
    }
   ],
   "source": [
    "print('Training...LSTM')\n",
    "\n",
    "epochs = [i+1 for i in range(epochs)]\n",
    "for epoch in epochs:\n",
    "    train_loss = 0.0\n",
    "    for i in range(train_X.shape[0]):\n",
    "        \n",
    "        input_batch, target_batch = train_X[i], train_y[i]\n",
    "        input_batch = input_batch.reshape(-1, input_batch.shape[0], input_batch.shape[1])\n",
    "        \n",
    "        outputs = model(input_batch)[0]\n",
    "        target = target_batch[-1]\n",
    "        loss = criterion(outputs, target)\n",
    "        optimizer.zero_grad()\n",
    "        \n",
    "        loss.backward()\n",
    "        optimizer.step()\n",
    "        \n",
    "        train_loss += loss.item() * input_batch.size(0)\n",
    "    scheduler.step()\n",
    "    \n",
    "    train_loss /= train_X.shape[0]\n",
    "    losses.append(train_loss)  \n",
    "    if epoch%1 == 0: print(f'Epoch {epoch+previous_epochs}/{previous_epochs+epochs[-1]}, Train Loss: {train_loss:.6f}')\n",
    "epochs = len(epochs)\n",
    "print('Training Ended!')"
   ]
  },
  {
   "cell_type": "code",
   "execution_count": 13,
   "id": "46495f60-0228-47b1-b1b1-4e036584ee66",
   "metadata": {},
   "outputs": [
    {
     "data": {
      "image/png": "[encoded data removed]",
      "text/plain": [
       "<Figure size 432x288 with 1 Axes>"
      ]
     },
     "metadata": {
      "needs_background": "light"
     },
     "output_type": "display_data"
    }
   ],
   "source": [
    "saved_nm = './Graphs/loss/'+country+'_'+str(loaded_model_epochs)+'_'+str(num_layers)+ '_' + str(hidden_size) + '_plot.png'\n",
    "\n",
    "epoch_lst = [i+1 for i in range(epochs)]\n",
    "plt.plot(epoch_lst, losses)\n",
    "plt.title(f'Loss on {country} over {loaded_model_epochs} epochs using\\n {num_layers} LSTM layers | {hidden_size} hidden states')\n",
    "plt.savefig(saved_nm)\n",
    "plt.show()"
   ]
  },
  {
   "cell_type": "code",
   "execution_count": 14,
   "id": "36007903-2f97-4f04-a673-e89b898b3d2e",
   "metadata": {},
   "outputs": [
    {
     "data": {
      "text/plain": [
       "MultivariateLSTM(\n",
       "  (lstm): LSTM(43, 100, num_layers=4, batch_first=True)\n",
       "  (fc1): Linear(in_features=100, out_features=1, bias=True)\n",
       ")"
      ]
     },
     "execution_count": 14,
     "metadata": {},
     "output_type": "execute_result"
    }
   ],
   "source": [
    "torch.save({\n",
    "    'checkpoint_epoch':loaded_model_epochs,\n",
    "    'checkpoint_loss': loss,\n",
    "    'model_state_dict':model.state_dict(),\n",
    "    'optim_state_dict':optimizer.state_dict()\n",
    "},f'./Saved_Params/{country}_{str(loaded_model_epochs)}_{str(num_layers)}_{str(hidden_size)}_ep_trained.pt')\n",
    "loaded_params = torch.load(f'./Saved_Params/{country}_{str(loaded_model_epochs)}_{str(num_layers)}_{str(hidden_size)}_ep_trained.pt')\n",
    "loaded_model = loaded_params['model_state_dict']\n",
    "model.eval()"
   ]
  },
  {
   "cell_type": "code",
   "execution_count": 15,
   "id": "08cdd2f3-4211-4776-bbe0-c7775bdc46bd",
   "metadata": {},
   "outputs": [
    {
     "name": "stdout",
     "output_type": "stream",
     "text": [
      "For Threshold (0.001) acccuracy: 76.67%\n"
     ]
    }
   ],
   "source": [
    "yhat = []\n",
    "ys = []\n",
    "with torch.no_grad():\n",
    "    for i in range(test_X.shape[0]):\n",
    "        input_batch, target_batch = test_X[i], test_y[i]\n",
    "        input_batch = input_batch.reshape(1, input_batch.shape[0], input_batch.shape[1])\n",
    "\n",
    "        outputs = model(input_batch)\n",
    "        yhat.append(outputs[-1].numpy())\n",
    "        ys.append(target_batch[-1].numpy())\n",
    "\n",
    "yhat = np.multiply(yhat ,max)\n",
    "ys = np.multiply(ys ,max)\n",
    "tol = 1e-3\n",
    "count = 0\n",
    "for i in range(len(yhat)):\n",
    "    if np.isclose(yhat[i], ys[i], rtol=tol, atol=tol):\n",
    "        count+=1\n",
    "acc = 100* count/len(yhat)\n",
    "print(f'For Threshold ({tol}) acccuracy: {acc:.2f}%')"
   ]
  },
  {
   "cell_type": "code",
   "execution_count": 16,
   "id": "37c53679-91b7-4f97-9270-0953c7c9c665",
   "metadata": {},
   "outputs": [
    {
     "data": {
      "image/png": "[encoded data removed]",
      "text/plain": [
       "<Figure size 1440x720 with 1 Axes>"
      ]
     },
     "metadata": {
      "needs_background": "light"
     },
     "output_type": "display_data"
    }
   ],
   "source": [
    "np.asarray(yhat).flatten()\n",
    "np.asarray(ys).flatten()\n",
    "saved_nm = './Graphs/actualVspred/'+country+'_'+str(loaded_model_epochs)+'_'+str(num_layers)+ '_' + str(hidden_size) + '_plot.png'\n",
    "# previous_epochs\n",
    "plt.figure(figsize=(20,10))\n",
    "plt.plot(yhat,'r', label = 'Predicted Malaria index')\n",
    "plt.plot(ys, 'y', label = 'Actual Malaria Index')\n",
    "plt.legend()\n",
    "plt.xlabel('No. of test examples')\n",
    "plt.ylabel('Malaria Incidence rate')\n",
    "plt.title(f'Comparison between Prediction and Actual Plot on {loaded_model_epochs} epochs for {country}.\\n {num_layers} LSTM layers | {hidden_size} hidden states')\n",
    "plt.savefig(saved_nm)\n",
    "plt.show()"
   ]
  },
  {
   "cell_type": "code",
   "execution_count": 17,
   "id": "3580a27e-b589-491c-9e62-a34fc92d50cb",
   "metadata": {},
   "outputs": [],
   "source": [
    "# Reset the Model_log.csv file\n",
    "def create_new_log():\n",
    "    df_log = pd.DataFrame(columns = [])\n",
    "    df_log.to_csv('model_log.csv')\n",
    "# Uncomment the following to create new log file\n",
    "# create_new_log()"
   ]
  },
  {
   "cell_type": "code",
   "execution_count": 18,
   "id": "bfea0928-9fa6-4fdd-b93a-b0a553cffc78",
   "metadata": {},
   "outputs": [
    {
     "name": "stdout",
     "output_type": "stream",
     "text": [
      "Mean Absolute Error =  0.004441626481242439\n"
     ]
    }
   ],
   "source": [
    "mae_loss = mean_absolute_error(ys,yhat)\n",
    "print('Mean Absolute Error = ', mae_loss)"
   ]
  },
  {
   "cell_type": "code",
   "execution_count": 19,
   "id": "67f6af62-389a-430a-a875-faec8c61d4dd",
   "metadata": {},
   "outputs": [
    {
     "name": "stdout",
     "output_type": "stream",
     "text": [
      "Mean Squared Error =  0.00027506594866925086\n"
     ]
    }
   ],
   "source": [
    "mse_loss = mean_squared_error(ys,yhat)\n",
    "print('Mean Squared Error = ', mse_loss)"
   ]
  },
  {
   "cell_type": "code",
   "execution_count": 20,
   "id": "7e4762f3-773e-4df3-bcad-d2a105c07b8d",
   "metadata": {},
   "outputs": [
    {
     "name": "stdout",
     "output_type": "stream",
     "text": [
      "Root Mean Squared Error =  0.01658511225977234\n"
     ]
    }
   ],
   "source": [
    "rmse_loss = np.sqrt(mean_squared_error(ys,yhat))\n",
    "print('Root Mean Squared Error = ', rmse_loss)"
   ]
  },
  {
   "cell_type": "code",
   "execution_count": 21,
   "id": "9ec83d0f-9dd2-4192-832b-9a7b7fc93c9b",
   "metadata": {},
   "outputs": [
    {
     "data": {
      "text/html": [
       "<div>\n",
       "<style scoped>\n",
       "    .dataframe tbody tr th:only-of-type {\n",
       "        vertical-align: middle;\n",
       "    }\n",
       "\n",
       "    .dataframe tbody tr th {\n",
       "        vertical-align: top;\n",
       "    }\n",
       "\n",
       "    .dataframe thead th {\n",
       "        text-align: right;\n",
       "    }\n",
       "</style>\n",
       "<table border=\"1\" class=\"dataframe\">\n",
       "  <thead>\n",
       "    <tr style=\"text-align: right;\">\n",
       "      <th></th>\n",
       "      <th>country</th>\n",
       "      <th>epochs</th>\n",
       "      <th>accuracy(%)</th>\n",
       "      <th>root_mean_sqr_err</th>\n",
       "      <th>lstm_units</th>\n",
       "      <th>lstm_layers</th>\n",
       "    </tr>\n",
       "  </thead>\n",
       "  <tbody>\n",
       "    <tr>\n",
       "      <th>0</th>\n",
       "      <td>Pakistan</td>\n",
       "      <td>10</td>\n",
       "      <td>8.881579</td>\n",
       "      <td>0.012768</td>\n",
       "      <td>100</td>\n",
       "      <td>1</td>\n",
       "    </tr>\n",
       "    <tr>\n",
       "      <th>0</th>\n",
       "      <td>Pakistan</td>\n",
       "      <td>10</td>\n",
       "      <td>42.434211</td>\n",
       "      <td>0.008125</td>\n",
       "      <td>100</td>\n",
       "      <td>2</td>\n",
       "    </tr>\n",
       "    <tr>\n",
       "      <th>0</th>\n",
       "      <td>Pakistan</td>\n",
       "      <td>10</td>\n",
       "      <td>73.684211</td>\n",
       "      <td>0.009521</td>\n",
       "      <td>100</td>\n",
       "      <td>3</td>\n",
       "    </tr>\n",
       "    <tr>\n",
       "      <th>0</th>\n",
       "      <td>Pakistan</td>\n",
       "      <td>10</td>\n",
       "      <td>80.592105</td>\n",
       "      <td>0.007671</td>\n",
       "      <td>100</td>\n",
       "      <td>4</td>\n",
       "    </tr>\n",
       "    <tr>\n",
       "      <th>0</th>\n",
       "      <td>Pakistan</td>\n",
       "      <td>10</td>\n",
       "      <td>6.907895</td>\n",
       "      <td>0.012322</td>\n",
       "      <td>200</td>\n",
       "      <td>1</td>\n",
       "    </tr>\n",
       "    <tr>\n",
       "      <th>0</th>\n",
       "      <td>Pakistan</td>\n",
       "      <td>10</td>\n",
       "      <td>17.105263</td>\n",
       "      <td>0.008812</td>\n",
       "      <td>200</td>\n",
       "      <td>2</td>\n",
       "    </tr>\n",
       "    <tr>\n",
       "      <th>0</th>\n",
       "      <td>Pakistan</td>\n",
       "      <td>10</td>\n",
       "      <td>70.065789</td>\n",
       "      <td>0.007452</td>\n",
       "      <td>200</td>\n",
       "      <td>3</td>\n",
       "    </tr>\n",
       "    <tr>\n",
       "      <th>0</th>\n",
       "      <td>Pakistan</td>\n",
       "      <td>10</td>\n",
       "      <td>63.157895</td>\n",
       "      <td>0.009317</td>\n",
       "      <td>200</td>\n",
       "      <td>4</td>\n",
       "    </tr>\n",
       "    <tr>\n",
       "      <th>0</th>\n",
       "      <td>Pakistan</td>\n",
       "      <td>20</td>\n",
       "      <td>81.250000</td>\n",
       "      <td>0.008418</td>\n",
       "      <td>200</td>\n",
       "      <td>4</td>\n",
       "    </tr>\n",
       "    <tr>\n",
       "      <th>0</th>\n",
       "      <td>Bangladesh</td>\n",
       "      <td>10</td>\n",
       "      <td>99.115044</td>\n",
       "      <td>0.001608</td>\n",
       "      <td>100</td>\n",
       "      <td>4</td>\n",
       "    </tr>\n",
       "    <tr>\n",
       "      <th>0</th>\n",
       "      <td>India</td>\n",
       "      <td>10</td>\n",
       "      <td>76.668428</td>\n",
       "      <td>0.016585</td>\n",
       "      <td>100</td>\n",
       "      <td>4</td>\n",
       "    </tr>\n",
       "  </tbody>\n",
       "</table>\n",
       "</div>"
      ],
      "text/plain": [
       "      country  epochs  accuracy(%)  root_mean_sqr_err  lstm_units  lstm_layers\n",
       "0    Pakistan      10     8.881579           0.012768         100            1\n",
       "0    Pakistan      10    42.434211           0.008125         100            2\n",
       "0    Pakistan      10    73.684211           0.009521         100            3\n",
       "0    Pakistan      10    80.592105           0.007671         100            4\n",
       "0    Pakistan      10     6.907895           0.012322         200            1\n",
       "0    Pakistan      10    17.105263           0.008812         200            2\n",
       "0    Pakistan      10    70.065789           0.007452         200            3\n",
       "0    Pakistan      10    63.157895           0.009317         200            4\n",
       "0    Pakistan      20    81.250000           0.008418         200            4\n",
       "0  Bangladesh      10    99.115044           0.001608         100            4\n",
       "0       India      10    76.668428           0.016585         100            4"
      ]
     },
     "execution_count": 21,
     "metadata": {},
     "output_type": "execute_result"
    }
   ],
   "source": [
    "# Add a row entry in the model_log.csv file\n",
    "dict = [{\n",
    "    'country':country,\n",
    "    'epochs': loaded_model_epochs,\n",
    "    # 'threshold': tol,\n",
    "    # 'train_loss': loss.item(),\n",
    "    'accuracy(%)': acc,\n",
    "    # 'mean_abs_err': mae_loss,\n",
    "    # 'mean_sqr_err': mse_loss,\n",
    "    'root_mean_sqr_err': rmse_loss,\n",
    "    'lstm_units':hidden_size,\n",
    "    'lstm_layers':num_layers,\n",
    "    # 'Split type': split_type,\n",
    "    # 'Train Split': train_split,\n",
    "    # 'Test Split': 1-train_split\n",
    "}]\n",
    "df_entry = pd.DataFrame(dict)\n",
    "# Reading recorded log\n",
    "df_log = pd.read_csv('model_log.csv', index_col=0)\n",
    "# Adding to the recorded log\n",
    "df_log = pd.concat([df_log, df_entry])\n",
    "df_log.to_csv('model_log.csv')\n",
    "df_log"
   ]
  },
  {
   "cell_type": "code",
   "execution_count": 22,
   "id": "c28af9f6-0de8-45a2-b27d-815566b88a85",
   "metadata": {},
   "outputs": [],
   "source": [
    "test_size = test_X.shape[0]\n",
    "ser_lst = []\n",
    "for i in range(test_size):\n",
    "    ser={\n",
    "        'latnum':test_X[i][-1][0].item(),\n",
    "        'longnum':test_X[i][-1][1].item(),\n",
    "        'actual':ys[i][0],\n",
    "        'predicted':yhat[i][0]\n",
    "    }\n",
    "    ser_lst.append(ser)"
   ]
  },
  {
   "cell_type": "code",
   "execution_count": 23,
   "id": "4ff522c6-d90d-419b-bb58-5ab173a50170",
   "metadata": {},
   "outputs": [],
   "source": [
    "df_comp = pd.DataFrame(ser_lst)\n",
    "df_comp.to_csv(f'./saved_results/{country}_{str(loaded_model_epochs)}_{str(num_layers)}_{str(hidden_size)}_actualVsPred.csv')"
   ]
  }
 ],
 "metadata": {
  "kernelspec": {
   "display_name": "Python 3 (ipykernel)",
   "language": "python",
   "name": "python3"
  },
  "language_info": {
   "codemirror_mode": {
    "name": "ipython",
    "version": 3
   },
   "file_extension": ".py",
   "mimetype": "text/x-python",
   "name": "python",
   "nbconvert_exporter": "python",
   "pygments_lexer": "ipython3",
   "version": "3.10.12"
  }
 },
 "nbformat": 4,
 "nbformat_minor": 5
}
