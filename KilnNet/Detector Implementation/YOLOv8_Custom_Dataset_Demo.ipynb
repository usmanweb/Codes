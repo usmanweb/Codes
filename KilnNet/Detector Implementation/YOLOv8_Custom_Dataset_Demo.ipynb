{
  "nbformat": 4,
  "nbformat_minor": 0,
  "metadata": {
    "colab": {
      "provenance": [],
      "gpuType": "T4"
    },
    "kernelspec": {
      "name": "python3",
      "display_name": "Python 3"
    },
    "language_info": {
      "name": "python"
    },
    "accelerator": "GPU"
  },
  "cells": [
    {
      "cell_type": "code",
      "execution_count": 1,
      "metadata": {
        "id": "vvIxljhloWTr",
        "colab": {
          "base_uri": "https://localhost:8080/"
        },
        "outputId": "63d23028-dced-4746-88ba-c91e715ff6b8"
      },
      "outputs": [
        {
          "output_type": "stream",
          "name": "stdout",
          "text": [
            "\u001b[?25l     \u001b[90m━━━━━━━━━━━━━━━━━━━━━━━━━━━━━━━━━━━━━━━━\u001b[0m \u001b[32m0.0/663.2 kB\u001b[0m \u001b[31m?\u001b[0m eta \u001b[36m-:--:--\u001b[0m\r\u001b[2K     \u001b[91m━━━━━━\u001b[0m\u001b[91m╸\u001b[0m\u001b[90m━━━━━━━━━━━━━━━━━━━━━━━━━━━━━━━━━\u001b[0m \u001b[32m112.6/663.2 kB\u001b[0m \u001b[31m3.4 MB/s\u001b[0m eta \u001b[36m0:00:01\u001b[0m\r\u001b[2K     \u001b[91m━━━━━━━━━━━━━━━━━━━━━━━━━\u001b[0m\u001b[90m╺\u001b[0m\u001b[90m━━━━━━━━━━━━━━\u001b[0m \u001b[32m419.8/663.2 kB\u001b[0m \u001b[31m6.3 MB/s\u001b[0m eta \u001b[36m0:00:01\u001b[0m\r\u001b[2K     \u001b[90m━━━━━━━━━━━━━━━━━━━━━━━━━━━━━━━━━━━━━━━━\u001b[0m \u001b[32m663.2/663.2 kB\u001b[0m \u001b[31m6.5 MB/s\u001b[0m eta \u001b[36m0:00:00\u001b[0m\n",
            "\u001b[?25h"
          ]
        }
      ],
      "source": [
        "!pip install ultralytics -q"
      ]
    },
    {
      "cell_type": "code",
      "source": [
        "from ultralytics import YOLO"
      ],
      "metadata": {
        "id": "VYF3HEpThnBK"
      },
      "execution_count": 2,
      "outputs": []
    },
    {
      "cell_type": "code",
      "source": [
        "model = YOLO(\"yolov8x.pt\")"
      ],
      "metadata": {
        "colab": {
          "base_uri": "https://localhost:8080/"
        },
        "id": "s3x9K2yehtie",
        "outputId": "475abd3c-4abc-4ce8-c143-6f3d73c83cef"
      },
      "execution_count": 3,
      "outputs": [
        {
          "output_type": "stream",
          "name": "stdout",
          "text": [
            "Downloading https://github.com/ultralytics/assets/releases/download/v0.0.0/yolov8x.pt to 'yolov8x.pt'...\n"
          ]
        },
        {
          "output_type": "stream",
          "name": "stderr",
          "text": [
            "100%|██████████| 131M/131M [00:00<00:00, 195MB/s]\n"
          ]
        }
      ]
    },
    {
      "cell_type": "code",
      "source": [
        "model.train(data=\"/content/data.yaml\", epochs=10)"
      ],
      "metadata": {
        "colab": {
          "base_uri": "https://localhost:8080/"
        },
        "id": "YgoqP5YeiCAD",
        "outputId": "d07d48a3-2bae-46c2-c3dd-50c85ece477c"
      },
      "execution_count": 5,
      "outputs": [
        {
          "output_type": "stream",
          "name": "stdout",
          "text": [
            "Ultralytics YOLOv8.0.232 🚀 Python-3.10.12 torch-2.1.0+cu121 CUDA:0 (Tesla T4, 15102MiB)\n",
            "\u001b[34m\u001b[1mengine/trainer: \u001b[0mtask=detect, mode=train, model=yolov8x.pt, data=/content/data.yaml, epochs=10, time=None, patience=50, batch=16, imgsz=640, save=True, save_period=-1, cache=False, device=None, workers=8, project=None, name=train, exist_ok=False, pretrained=True, optimizer=auto, verbose=True, seed=0, deterministic=True, single_cls=False, rect=False, cos_lr=False, close_mosaic=10, resume=False, amp=True, fraction=1.0, profile=False, freeze=None, overlap_mask=True, mask_ratio=4, dropout=0.0, val=True, split=val, save_json=False, save_hybrid=False, conf=None, iou=0.7, max_det=300, half=False, dnn=False, plots=True, source=None, vid_stride=1, stream_buffer=False, visualize=False, augment=False, agnostic_nms=False, classes=None, retina_masks=False, embed=None, show=False, save_frames=False, save_txt=False, save_conf=False, save_crop=False, show_labels=True, show_conf=True, show_boxes=True, line_width=None, format=torchscript, keras=False, optimize=False, int8=False, dynamic=False, simplify=False, opset=None, workspace=4, nms=False, lr0=0.01, lrf=0.01, momentum=0.937, weight_decay=0.0005, warmup_epochs=3.0, warmup_momentum=0.8, warmup_bias_lr=0.1, box=7.5, cls=0.5, dfl=1.5, pose=12.0, kobj=1.0, label_smoothing=0.0, nbs=64, hsv_h=0.015, hsv_s=0.7, hsv_v=0.4, degrees=0.0, translate=0.1, scale=0.5, shear=0.0, perspective=0.0, flipud=0.0, fliplr=0.5, mosaic=1.0, mixup=0.0, copy_paste=0.0, cfg=None, tracker=botsort.yaml, save_dir=runs/detect/train\n",
            "Downloading https://ultralytics.com/assets/Arial.ttf to '/root/.config/Ultralytics/Arial.ttf'...\n"
          ]
        },
        {
          "output_type": "stream",
          "name": "stderr",
          "text": [
            "100%|██████████| 755k/755k [00:00<00:00, 16.1MB/s]\n"
          ]
        },
        {
          "output_type": "stream",
          "name": "stdout",
          "text": [
            "Overriding model.yaml nc=80 with nc=1\n",
            "\n",
            "                   from  n    params  module                                       arguments                     \n",
            "  0                  -1  1      2320  ultralytics.nn.modules.conv.Conv             [3, 80, 3, 2]                 \n",
            "  1                  -1  1    115520  ultralytics.nn.modules.conv.Conv             [80, 160, 3, 2]               \n",
            "  2                  -1  3    436800  ultralytics.nn.modules.block.C2f             [160, 160, 3, True]           \n",
            "  3                  -1  1    461440  ultralytics.nn.modules.conv.Conv             [160, 320, 3, 2]              \n",
            "  4                  -1  6   3281920  ultralytics.nn.modules.block.C2f             [320, 320, 6, True]           \n",
            "  5                  -1  1   1844480  ultralytics.nn.modules.conv.Conv             [320, 640, 3, 2]              \n",
            "  6                  -1  6  13117440  ultralytics.nn.modules.block.C2f             [640, 640, 6, True]           \n",
            "  7                  -1  1   3687680  ultralytics.nn.modules.conv.Conv             [640, 640, 3, 2]              \n",
            "  8                  -1  3   6969600  ultralytics.nn.modules.block.C2f             [640, 640, 3, True]           \n",
            "  9                  -1  1   1025920  ultralytics.nn.modules.block.SPPF            [640, 640, 5]                 \n",
            " 10                  -1  1         0  torch.nn.modules.upsampling.Upsample         [None, 2, 'nearest']          \n",
            " 11             [-1, 6]  1         0  ultralytics.nn.modules.conv.Concat           [1]                           \n",
            " 12                  -1  3   7379200  ultralytics.nn.modules.block.C2f             [1280, 640, 3]                \n",
            " 13                  -1  1         0  torch.nn.modules.upsampling.Upsample         [None, 2, 'nearest']          \n",
            " 14             [-1, 4]  1         0  ultralytics.nn.modules.conv.Concat           [1]                           \n",
            " 15                  -1  3   1948800  ultralytics.nn.modules.block.C2f             [960, 320, 3]                 \n",
            " 16                  -1  1    922240  ultralytics.nn.modules.conv.Conv             [320, 320, 3, 2]              \n",
            " 17            [-1, 12]  1         0  ultralytics.nn.modules.conv.Concat           [1]                           \n",
            " 18                  -1  3   7174400  ultralytics.nn.modules.block.C2f             [960, 640, 3]                 \n",
            " 19                  -1  1   3687680  ultralytics.nn.modules.conv.Conv             [640, 640, 3, 2]              \n",
            " 20             [-1, 9]  1         0  ultralytics.nn.modules.conv.Concat           [1]                           \n",
            " 21                  -1  3   7379200  ultralytics.nn.modules.block.C2f             [1280, 640, 3]                \n",
            " 22        [15, 18, 21]  1   8718931  ultralytics.nn.modules.head.Detect           [1, [320, 640, 640]]          \n",
            "Model summary: 365 layers, 68153571 parameters, 68153555 gradients, 258.1 GFLOPs\n",
            "\n",
            "Transferred 589/595 items from pretrained weights\n",
            "\u001b[34m\u001b[1mTensorBoard: \u001b[0mStart with 'tensorboard --logdir runs/detect/train', view at http://localhost:6006/\n",
            "Freezing layer 'model.22.dfl.conv.weight'\n",
            "\u001b[34m\u001b[1mAMP: \u001b[0mrunning Automatic Mixed Precision (AMP) checks with YOLOv8n...\n",
            "Downloading https://github.com/ultralytics/assets/releases/download/v0.0.0/yolov8n.pt to 'yolov8n.pt'...\n"
          ]
        },
        {
          "output_type": "stream",
          "name": "stderr",
          "text": [
            "100%|██████████| 6.23M/6.23M [00:00<00:00, 79.2MB/s]\n"
          ]
        },
        {
          "output_type": "stream",
          "name": "stdout",
          "text": [
            "WARNING ⚠️ NMS time limit 0.550s exceeded\n",
            "\u001b[34m\u001b[1mAMP: \u001b[0mchecks passed ✅\n"
          ]
        },
        {
          "output_type": "stream",
          "name": "stderr",
          "text": [
            "\u001b[34m\u001b[1mtrain: \u001b[0mScanning /content/drive/MyDrive/Object-Detection/data/train/labels.cache... 50 images, 0 backgrounds, 0 corrupt: 100%|██████████| 50/50 [00:00<?, ?it/s]\n"
          ]
        },
        {
          "output_type": "stream",
          "name": "stdout",
          "text": [
            "\u001b[34m\u001b[1malbumentations: \u001b[0mBlur(p=0.01, blur_limit=(3, 7)), MedianBlur(p=0.01, blur_limit=(3, 7)), ToGray(p=0.01), CLAHE(p=0.01, clip_limit=(1, 4.0), tile_grid_size=(8, 8))\n"
          ]
        },
        {
          "output_type": "stream",
          "name": "stderr",
          "text": [
            "\u001b[34m\u001b[1mval: \u001b[0mScanning /content/drive/MyDrive/Object-Detection/data/val/labels.cache... 5 images, 0 backgrounds, 0 corrupt: 100%|██████████| 5/5 [00:00<?, ?it/s]\n"
          ]
        },
        {
          "output_type": "stream",
          "name": "stdout",
          "text": [
            "Plotting labels to runs/detect/train/labels.jpg... \n",
            "\u001b[34m\u001b[1moptimizer:\u001b[0m 'optimizer=auto' found, ignoring 'lr0=0.01' and 'momentum=0.937' and determining best 'optimizer', 'lr0' and 'momentum' automatically... \n",
            "\u001b[34m\u001b[1moptimizer:\u001b[0m AdamW(lr=0.002, momentum=0.9) with parameter groups 97 weight(decay=0.0), 104 weight(decay=0.0005), 103 bias(decay=0.0)\n",
            "10 epochs...\n",
            "Closing dataloader mosaic\n",
            "\u001b[34m\u001b[1malbumentations: \u001b[0mBlur(p=0.01, blur_limit=(3, 7)), MedianBlur(p=0.01, blur_limit=(3, 7)), ToGray(p=0.01), CLAHE(p=0.01, clip_limit=(1, 4.0), tile_grid_size=(8, 8))\n",
            "\n",
            "      Epoch    GPU_mem   box_loss   cls_loss   dfl_loss  Instances       Size\n"
          ]
        },
        {
          "output_type": "stream",
          "name": "stderr",
          "text": [
            "       1/10      13.4G      1.315      3.507      2.107          2        640: 100%|██████████| 4/4 [00:07<00:00,  1.80s/it]\n",
            "                 Class     Images  Instances      Box(P          R      mAP50  mAP50-95): 100%|██████████| 1/1 [00:03<00:00,  3.30s/it]"
          ]
        },
        {
          "output_type": "stream",
          "name": "stdout",
          "text": [
            "                   all          5          5      0.973        0.6      0.609      0.223\n"
          ]
        },
        {
          "output_type": "stream",
          "name": "stderr",
          "text": [
            "\n"
          ]
        },
        {
          "output_type": "stream",
          "name": "stdout",
          "text": [
            "\n",
            "      Epoch    GPU_mem   box_loss   cls_loss   dfl_loss  Instances       Size\n"
          ]
        },
        {
          "output_type": "stream",
          "name": "stderr",
          "text": [
            "       2/10      13.4G      1.524      3.745       2.36          2        640: 100%|██████████| 4/4 [00:03<00:00,  1.04it/s]\n",
            "                 Class     Images  Instances      Box(P          R      mAP50  mAP50-95): 100%|██████████| 1/1 [00:00<00:00,  5.74it/s]\n"
          ]
        },
        {
          "output_type": "stream",
          "name": "stdout",
          "text": [
            "                   all          5          5      0.154        0.8      0.142     0.0486\n",
            "\n",
            "      Epoch    GPU_mem   box_loss   cls_loss   dfl_loss  Instances       Size\n"
          ]
        },
        {
          "output_type": "stream",
          "name": "stderr",
          "text": [
            "       3/10        14G       1.41       7.79      1.956          2        640: 100%|██████████| 4/4 [00:03<00:00,  1.05it/s]\n",
            "                 Class     Images  Instances      Box(P          R      mAP50  mAP50-95): 100%|██████████| 1/1 [00:00<00:00,  5.21it/s]\n"
          ]
        },
        {
          "output_type": "stream",
          "name": "stdout",
          "text": [
            "                   all          5          5     0.0667        0.4      0.249      0.112\n",
            "\n",
            "      Epoch    GPU_mem   box_loss   cls_loss   dfl_loss  Instances       Size\n"
          ]
        },
        {
          "output_type": "stream",
          "name": "stderr",
          "text": [
            "       4/10        14G      1.513      5.109      1.895          2        640: 100%|██████████| 4/4 [00:03<00:00,  1.07it/s]\n",
            "                 Class     Images  Instances      Box(P          R      mAP50  mAP50-95): 100%|██████████| 1/1 [00:00<00:00,  5.69it/s]\n"
          ]
        },
        {
          "output_type": "stream",
          "name": "stdout",
          "text": [
            "                   all          5          5      0.429        0.6      0.305     0.0528\n",
            "\n",
            "      Epoch    GPU_mem   box_loss   cls_loss   dfl_loss  Instances       Size\n"
          ]
        },
        {
          "output_type": "stream",
          "name": "stderr",
          "text": [
            "       5/10        14G      1.963      3.603       2.58          2        640: 100%|██████████| 4/4 [00:03<00:00,  1.10it/s]\n",
            "                 Class     Images  Instances      Box(P          R      mAP50  mAP50-95): 100%|██████████| 1/1 [00:00<00:00,  5.70it/s]"
          ]
        },
        {
          "output_type": "stream",
          "name": "stdout",
          "text": [
            "                   all          5          5      0.167        0.4      0.346      0.112\n"
          ]
        },
        {
          "output_type": "stream",
          "name": "stderr",
          "text": [
            "\n"
          ]
        },
        {
          "output_type": "stream",
          "name": "stdout",
          "text": [
            "\n",
            "      Epoch    GPU_mem   box_loss   cls_loss   dfl_loss  Instances       Size\n"
          ]
        },
        {
          "output_type": "stream",
          "name": "stderr",
          "text": [
            "       6/10        14G      1.783      3.247      2.216          2        640: 100%|██████████| 4/4 [00:03<00:00,  1.07it/s]\n",
            "                 Class     Images  Instances      Box(P          R      mAP50  mAP50-95): 100%|██████████| 1/1 [00:00<00:00,  4.31it/s]"
          ]
        },
        {
          "output_type": "stream",
          "name": "stdout",
          "text": [
            "                   all          5          5     0.0107        0.4     0.0171     0.0133\n"
          ]
        },
        {
          "output_type": "stream",
          "name": "stderr",
          "text": [
            "\n"
          ]
        },
        {
          "output_type": "stream",
          "name": "stdout",
          "text": [
            "\n",
            "      Epoch    GPU_mem   box_loss   cls_loss   dfl_loss  Instances       Size\n"
          ]
        },
        {
          "output_type": "stream",
          "name": "stderr",
          "text": [
            "       7/10        14G      1.522      2.997      1.953          2        640: 100%|██████████| 4/4 [00:03<00:00,  1.10it/s]\n",
            "                 Class     Images  Instances      Box(P          R      mAP50  mAP50-95): 100%|██████████| 1/1 [00:00<00:00,  5.74it/s]\n"
          ]
        },
        {
          "output_type": "stream",
          "name": "stdout",
          "text": [
            "                   all          5          5     0.0138        0.4     0.0135    0.00791\n",
            "\n",
            "      Epoch    GPU_mem   box_loss   cls_loss   dfl_loss  Instances       Size\n"
          ]
        },
        {
          "output_type": "stream",
          "name": "stderr",
          "text": [
            "       8/10        14G      1.427      2.571      2.056          2        640: 100%|██████████| 4/4 [00:03<00:00,  1.09it/s]\n",
            "                 Class     Images  Instances      Box(P          R      mAP50  mAP50-95): 100%|██████████| 1/1 [00:00<00:00,  5.80it/s]\n"
          ]
        },
        {
          "output_type": "stream",
          "name": "stdout",
          "text": [
            "                   all          5          5       0.02        0.4      0.127      0.113\n",
            "\n",
            "      Epoch    GPU_mem   box_loss   cls_loss   dfl_loss  Instances       Size\n"
          ]
        },
        {
          "output_type": "stream",
          "name": "stderr",
          "text": [
            "       9/10        14G      1.536      2.511      2.043         11        640: 100%|██████████| 4/4 [00:03<00:00,  1.07it/s]\n",
            "                 Class     Images  Instances      Box(P          R      mAP50  mAP50-95): 100%|██████████| 1/1 [00:00<00:00,  4.33it/s]"
          ]
        },
        {
          "output_type": "stream",
          "name": "stdout",
          "text": [
            "                   all          5          5    0.00628        0.8    0.00614    0.00371\n"
          ]
        },
        {
          "output_type": "stream",
          "name": "stderr",
          "text": [
            "\n"
          ]
        },
        {
          "output_type": "stream",
          "name": "stdout",
          "text": [
            "\n",
            "      Epoch    GPU_mem   box_loss   cls_loss   dfl_loss  Instances       Size\n"
          ]
        },
        {
          "output_type": "stream",
          "name": "stderr",
          "text": [
            "      10/10        14G      1.431      2.347      1.861          2        640: 100%|██████████| 4/4 [00:03<00:00,  1.09it/s]\n",
            "                 Class     Images  Instances      Box(P          R      mAP50  mAP50-95): 100%|██████████| 1/1 [00:00<00:00,  5.84it/s]"
          ]
        },
        {
          "output_type": "stream",
          "name": "stdout",
          "text": [
            "                   all          5          5     0.0137        0.8     0.0143    0.00933\n"
          ]
        },
        {
          "output_type": "stream",
          "name": "stderr",
          "text": [
            "\n"
          ]
        },
        {
          "output_type": "stream",
          "name": "stdout",
          "text": [
            "\n",
            "10 epochs completed in 0.028 hours.\n",
            "Optimizer stripped from runs/detect/train/weights/last.pt, 136.7MB\n",
            "Optimizer stripped from runs/detect/train/weights/best.pt, 136.7MB\n",
            "\n",
            "Validating runs/detect/train/weights/best.pt...\n",
            "Ultralytics YOLOv8.0.232 🚀 Python-3.10.12 torch-2.1.0+cu121 CUDA:0 (Tesla T4, 15102MiB)\n",
            "Model summary (fused): 268 layers, 68124531 parameters, 0 gradients, 257.4 GFLOPs\n"
          ]
        },
        {
          "output_type": "stream",
          "name": "stderr",
          "text": [
            "                 Class     Images  Instances      Box(P          R      mAP50  mAP50-95): 100%|██████████| 1/1 [00:00<00:00,  3.73it/s]\n"
          ]
        },
        {
          "output_type": "stream",
          "name": "stdout",
          "text": [
            "                   all          5          5      0.973        0.6      0.609      0.223\n",
            "Speed: 0.3ms preprocess, 39.9ms inference, 0.0ms loss, 1.7ms postprocess per image\n",
            "Results saved to \u001b[1mruns/detect/train\u001b[0m\n"
          ]
        },
        {
          "output_type": "execute_result",
          "data": {
            "text/plain": [
              "ultralytics.utils.metrics.DetMetrics object with attributes:\n",
              "\n",
              "ap_class_index: array([0])\n",
              "box: ultralytics.utils.metrics.Metric object\n",
              "confusion_matrix: <ultralytics.utils.metrics.ConfusionMatrix object at 0x7de2f1b568f0>\n",
              "curves: ['Precision-Recall(B)', 'F1-Confidence(B)', 'Precision-Confidence(B)', 'Recall-Confidence(B)']\n",
              "curves_results: [[array([          0,    0.001001,    0.002002,    0.003003,    0.004004,    0.005005,    0.006006,    0.007007,    0.008008,    0.009009,     0.01001,    0.011011,    0.012012,    0.013013,    0.014014,    0.015015,    0.016016,    0.017017,    0.018018,    0.019019,     0.02002,    0.021021,    0.022022,    0.023023,\n",
              "          0.024024,    0.025025,    0.026026,    0.027027,    0.028028,    0.029029,     0.03003,    0.031031,    0.032032,    0.033033,    0.034034,    0.035035,    0.036036,    0.037037,    0.038038,    0.039039,     0.04004,    0.041041,    0.042042,    0.043043,    0.044044,    0.045045,    0.046046,    0.047047,\n",
              "          0.048048,    0.049049,     0.05005,    0.051051,    0.052052,    0.053053,    0.054054,    0.055055,    0.056056,    0.057057,    0.058058,    0.059059,     0.06006,    0.061061,    0.062062,    0.063063,    0.064064,    0.065065,    0.066066,    0.067067,    0.068068,    0.069069,     0.07007,    0.071071,\n",
              "          0.072072,    0.073073,    0.074074,    0.075075,    0.076076,    0.077077,    0.078078,    0.079079,     0.08008,    0.081081,    0.082082,    0.083083,    0.084084,    0.085085,    0.086086,    0.087087,    0.088088,    0.089089,     0.09009,    0.091091,    0.092092,    0.093093,    0.094094,    0.095095,\n",
              "          0.096096,    0.097097,    0.098098,    0.099099,      0.1001,      0.1011,      0.1021,      0.1031,      0.1041,     0.10511,     0.10611,     0.10711,     0.10811,     0.10911,     0.11011,     0.11111,     0.11211,     0.11311,     0.11411,     0.11512,     0.11612,     0.11712,     0.11812,     0.11912,\n",
              "           0.12012,     0.12112,     0.12212,     0.12312,     0.12412,     0.12513,     0.12613,     0.12713,     0.12813,     0.12913,     0.13013,     0.13113,     0.13213,     0.13313,     0.13413,     0.13514,     0.13614,     0.13714,     0.13814,     0.13914,     0.14014,     0.14114,     0.14214,     0.14314,\n",
              "           0.14414,     0.14515,     0.14615,     0.14715,     0.14815,     0.14915,     0.15015,     0.15115,     0.15215,     0.15315,     0.15415,     0.15516,     0.15616,     0.15716,     0.15816,     0.15916,     0.16016,     0.16116,     0.16216,     0.16316,     0.16416,     0.16517,     0.16617,     0.16717,\n",
              "           0.16817,     0.16917,     0.17017,     0.17117,     0.17217,     0.17317,     0.17417,     0.17518,     0.17618,     0.17718,     0.17818,     0.17918,     0.18018,     0.18118,     0.18218,     0.18318,     0.18418,     0.18519,     0.18619,     0.18719,     0.18819,     0.18919,     0.19019,     0.19119,\n",
              "           0.19219,     0.19319,     0.19419,      0.1952,      0.1962,      0.1972,      0.1982,      0.1992,      0.2002,      0.2012,      0.2022,      0.2032,      0.2042,     0.20521,     0.20621,     0.20721,     0.20821,     0.20921,     0.21021,     0.21121,     0.21221,     0.21321,     0.21421,     0.21522,\n",
              "           0.21622,     0.21722,     0.21822,     0.21922,     0.22022,     0.22122,     0.22222,     0.22322,     0.22422,     0.22523,     0.22623,     0.22723,     0.22823,     0.22923,     0.23023,     0.23123,     0.23223,     0.23323,     0.23423,     0.23524,     0.23624,     0.23724,     0.23824,     0.23924,\n",
              "           0.24024,     0.24124,     0.24224,     0.24324,     0.24424,     0.24525,     0.24625,     0.24725,     0.24825,     0.24925,     0.25025,     0.25125,     0.25225,     0.25325,     0.25425,     0.25526,     0.25626,     0.25726,     0.25826,     0.25926,     0.26026,     0.26126,     0.26226,     0.26326,\n",
              "           0.26426,     0.26527,     0.26627,     0.26727,     0.26827,     0.26927,     0.27027,     0.27127,     0.27227,     0.27327,     0.27427,     0.27528,     0.27628,     0.27728,     0.27828,     0.27928,     0.28028,     0.28128,     0.28228,     0.28328,     0.28428,     0.28529,     0.28629,     0.28729,\n",
              "           0.28829,     0.28929,     0.29029,     0.29129,     0.29229,     0.29329,     0.29429,      0.2953,      0.2963,      0.2973,      0.2983,      0.2993,      0.3003,      0.3013,      0.3023,      0.3033,      0.3043,     0.30531,     0.30631,     0.30731,     0.30831,     0.30931,     0.31031,     0.31131,\n",
              "           0.31231,     0.31331,     0.31431,     0.31532,     0.31632,     0.31732,     0.31832,     0.31932,     0.32032,     0.32132,     0.32232,     0.32332,     0.32432,     0.32533,     0.32633,     0.32733,     0.32833,     0.32933,     0.33033,     0.33133,     0.33233,     0.33333,     0.33433,     0.33534,\n",
              "           0.33634,     0.33734,     0.33834,     0.33934,     0.34034,     0.34134,     0.34234,     0.34334,     0.34434,     0.34535,     0.34635,     0.34735,     0.34835,     0.34935,     0.35035,     0.35135,     0.35235,     0.35335,     0.35435,     0.35536,     0.35636,     0.35736,     0.35836,     0.35936,\n",
              "           0.36036,     0.36136,     0.36236,     0.36336,     0.36436,     0.36537,     0.36637,     0.36737,     0.36837,     0.36937,     0.37037,     0.37137,     0.37237,     0.37337,     0.37437,     0.37538,     0.37638,     0.37738,     0.37838,     0.37938,     0.38038,     0.38138,     0.38238,     0.38338,\n",
              "           0.38438,     0.38539,     0.38639,     0.38739,     0.38839,     0.38939,     0.39039,     0.39139,     0.39239,     0.39339,     0.39439,      0.3954,      0.3964,      0.3974,      0.3984,      0.3994,      0.4004,      0.4014,      0.4024,      0.4034,      0.4044,     0.40541,     0.40641,     0.40741,\n",
              "           0.40841,     0.40941,     0.41041,     0.41141,     0.41241,     0.41341,     0.41441,     0.41542,     0.41642,     0.41742,     0.41842,     0.41942,     0.42042,     0.42142,     0.42242,     0.42342,     0.42442,     0.42543,     0.42643,     0.42743,     0.42843,     0.42943,     0.43043,     0.43143,\n",
              "           0.43243,     0.43343,     0.43443,     0.43544,     0.43644,     0.43744,     0.43844,     0.43944,     0.44044,     0.44144,     0.44244,     0.44344,     0.44444,     0.44545,     0.44645,     0.44745,     0.44845,     0.44945,     0.45045,     0.45145,     0.45245,     0.45345,     0.45445,     0.45546,\n",
              "           0.45646,     0.45746,     0.45846,     0.45946,     0.46046,     0.46146,     0.46246,     0.46346,     0.46446,     0.46547,     0.46647,     0.46747,     0.46847,     0.46947,     0.47047,     0.47147,     0.47247,     0.47347,     0.47447,     0.47548,     0.47648,     0.47748,     0.47848,     0.47948,\n",
              "           0.48048,     0.48148,     0.48248,     0.48348,     0.48448,     0.48549,     0.48649,     0.48749,     0.48849,     0.48949,     0.49049,     0.49149,     0.49249,     0.49349,     0.49449,      0.4955,      0.4965,      0.4975,      0.4985,      0.4995,      0.5005,      0.5015,      0.5025,      0.5035,\n",
              "            0.5045,     0.50551,     0.50651,     0.50751,     0.50851,     0.50951,     0.51051,     0.51151,     0.51251,     0.51351,     0.51451,     0.51552,     0.51652,     0.51752,     0.51852,     0.51952,     0.52052,     0.52152,     0.52252,     0.52352,     0.52452,     0.52553,     0.52653,     0.52753,\n",
              "           0.52853,     0.52953,     0.53053,     0.53153,     0.53253,     0.53353,     0.53453,     0.53554,     0.53654,     0.53754,     0.53854,     0.53954,     0.54054,     0.54154,     0.54254,     0.54354,     0.54454,     0.54555,     0.54655,     0.54755,     0.54855,     0.54955,     0.55055,     0.55155,\n",
              "           0.55255,     0.55355,     0.55455,     0.55556,     0.55656,     0.55756,     0.55856,     0.55956,     0.56056,     0.56156,     0.56256,     0.56356,     0.56456,     0.56557,     0.56657,     0.56757,     0.56857,     0.56957,     0.57057,     0.57157,     0.57257,     0.57357,     0.57457,     0.57558,\n",
              "           0.57658,     0.57758,     0.57858,     0.57958,     0.58058,     0.58158,     0.58258,     0.58358,     0.58458,     0.58559,     0.58659,     0.58759,     0.58859,     0.58959,     0.59059,     0.59159,     0.59259,     0.59359,     0.59459,      0.5956,      0.5966,      0.5976,      0.5986,      0.5996,\n",
              "            0.6006,      0.6016,      0.6026,      0.6036,      0.6046,     0.60561,     0.60661,     0.60761,     0.60861,     0.60961,     0.61061,     0.61161,     0.61261,     0.61361,     0.61461,     0.61562,     0.61662,     0.61762,     0.61862,     0.61962,     0.62062,     0.62162,     0.62262,     0.62362,\n",
              "           0.62462,     0.62563,     0.62663,     0.62763,     0.62863,     0.62963,     0.63063,     0.63163,     0.63263,     0.63363,     0.63463,     0.63564,     0.63664,     0.63764,     0.63864,     0.63964,     0.64064,     0.64164,     0.64264,     0.64364,     0.64464,     0.64565,     0.64665,     0.64765,\n",
              "           0.64865,     0.64965,     0.65065,     0.65165,     0.65265,     0.65365,     0.65465,     0.65566,     0.65666,     0.65766,     0.65866,     0.65966,     0.66066,     0.66166,     0.66266,     0.66366,     0.66466,     0.66567,     0.66667,     0.66767,     0.66867,     0.66967,     0.67067,     0.67167,\n",
              "           0.67267,     0.67367,     0.67467,     0.67568,     0.67668,     0.67768,     0.67868,     0.67968,     0.68068,     0.68168,     0.68268,     0.68368,     0.68468,     0.68569,     0.68669,     0.68769,     0.68869,     0.68969,     0.69069,     0.69169,     0.69269,     0.69369,     0.69469,      0.6957,\n",
              "            0.6967,      0.6977,      0.6987,      0.6997,      0.7007,      0.7017,      0.7027,      0.7037,      0.7047,     0.70571,     0.70671,     0.70771,     0.70871,     0.70971,     0.71071,     0.71171,     0.71271,     0.71371,     0.71471,     0.71572,     0.71672,     0.71772,     0.71872,     0.71972,\n",
              "           0.72072,     0.72172,     0.72272,     0.72372,     0.72472,     0.72573,     0.72673,     0.72773,     0.72873,     0.72973,     0.73073,     0.73173,     0.73273,     0.73373,     0.73473,     0.73574,     0.73674,     0.73774,     0.73874,     0.73974,     0.74074,     0.74174,     0.74274,     0.74374,\n",
              "           0.74474,     0.74575,     0.74675,     0.74775,     0.74875,     0.74975,     0.75075,     0.75175,     0.75275,     0.75375,     0.75475,     0.75576,     0.75676,     0.75776,     0.75876,     0.75976,     0.76076,     0.76176,     0.76276,     0.76376,     0.76476,     0.76577,     0.76677,     0.76777,\n",
              "           0.76877,     0.76977,     0.77077,     0.77177,     0.77277,     0.77377,     0.77477,     0.77578,     0.77678,     0.77778,     0.77878,     0.77978,     0.78078,     0.78178,     0.78278,     0.78378,     0.78478,     0.78579,     0.78679,     0.78779,     0.78879,     0.78979,     0.79079,     0.79179,\n",
              "           0.79279,     0.79379,     0.79479,      0.7958,      0.7968,      0.7978,      0.7988,      0.7998,      0.8008,      0.8018,      0.8028,      0.8038,      0.8048,     0.80581,     0.80681,     0.80781,     0.80881,     0.80981,     0.81081,     0.81181,     0.81281,     0.81381,     0.81481,     0.81582,\n",
              "           0.81682,     0.81782,     0.81882,     0.81982,     0.82082,     0.82182,     0.82282,     0.82382,     0.82482,     0.82583,     0.82683,     0.82783,     0.82883,     0.82983,     0.83083,     0.83183,     0.83283,     0.83383,     0.83483,     0.83584,     0.83684,     0.83784,     0.83884,     0.83984,\n",
              "           0.84084,     0.84184,     0.84284,     0.84384,     0.84484,     0.84585,     0.84685,     0.84785,     0.84885,     0.84985,     0.85085,     0.85185,     0.85285,     0.85385,     0.85485,     0.85586,     0.85686,     0.85786,     0.85886,     0.85986,     0.86086,     0.86186,     0.86286,     0.86386,\n",
              "           0.86486,     0.86587,     0.86687,     0.86787,     0.86887,     0.86987,     0.87087,     0.87187,     0.87287,     0.87387,     0.87487,     0.87588,     0.87688,     0.87788,     0.87888,     0.87988,     0.88088,     0.88188,     0.88288,     0.88388,     0.88488,     0.88589,     0.88689,     0.88789,\n",
              "           0.88889,     0.88989,     0.89089,     0.89189,     0.89289,     0.89389,     0.89489,      0.8959,      0.8969,      0.8979,      0.8989,      0.8999,      0.9009,      0.9019,      0.9029,      0.9039,      0.9049,     0.90591,     0.90691,     0.90791,     0.90891,     0.90991,     0.91091,     0.91191,\n",
              "           0.91291,     0.91391,     0.91491,     0.91592,     0.91692,     0.91792,     0.91892,     0.91992,     0.92092,     0.92192,     0.92292,     0.92392,     0.92492,     0.92593,     0.92693,     0.92793,     0.92893,     0.92993,     0.93093,     0.93193,     0.93293,     0.93393,     0.93493,     0.93594,\n",
              "           0.93694,     0.93794,     0.93894,     0.93994,     0.94094,     0.94194,     0.94294,     0.94394,     0.94494,     0.94595,     0.94695,     0.94795,     0.94895,     0.94995,     0.95095,     0.95195,     0.95295,     0.95395,     0.95495,     0.95596,     0.95696,     0.95796,     0.95896,     0.95996,\n",
              "           0.96096,     0.96196,     0.96296,     0.96396,     0.96496,     0.96597,     0.96697,     0.96797,     0.96897,     0.96997,     0.97097,     0.97197,     0.97297,     0.97397,     0.97497,     0.97598,     0.97698,     0.97798,     0.97898,     0.97998,     0.98098,     0.98198,     0.98298,     0.98398,\n",
              "           0.98498,     0.98599,     0.98699,     0.98799,     0.98899,     0.98999,     0.99099,     0.99199,     0.99299,     0.99399,     0.99499,       0.996,       0.997,       0.998,       0.999,           1]), array([[          1,           1,           1,           1,           1,           1,           1,           1,           1,           1,           1,           1,           1,           1,           1,           1,           1,           1,           1,           1,           1,           1,           1,\n",
              "                  1,           1,           1,           1,           1,           1,           1,           1,           1,           1,           1,           1,           1,           1,           1,           1,           1,           1,           1,           1,           1,           1,           1,\n",
              "                  1,           1,           1,           1,           1,           1,           1,           1,           1,           1,           1,           1,           1,           1,           1,           1,           1,           1,           1,           1,           1,           1,           1,\n",
              "                  1,           1,           1,           1,           1,           1,           1,           1,           1,           1,           1,           1,           1,           1,           1,           1,           1,           1,           1,           1,           1,           1,           1,\n",
              "                  1,           1,           1,           1,           1,           1,           1,           1,           1,           1,           1,           1,           1,           1,           1,           1,           1,           1,           1,           1,           1,           1,           1,\n",
              "                  1,           1,           1,           1,           1,           1,           1,           1,           1,           1,           1,           1,           1,           1,           1,           1,           1,           1,           1,           1,           1,           1,           1,\n",
              "                  1,           1,           1,           1,           1,           1,           1,           1,           1,           1,           1,           1,           1,           1,           1,           1,           1,           1,           1,           1,           1,           1,           1,\n",
              "                  1,           1,           1,           1,           1,           1,           1,           1,           1,           1,           1,           1,           1,           1,           1,           1,           1,           1,           1,           1,           1,           1,           1,\n",
              "                  1,           1,           1,           1,           1,           1,           1,           1,           1,           1,           1,           1,           1,           1,           1,           1,           1,           1,           1,           1,           1,           1,           1,\n",
              "                  1,           1,           1,           1,           1,           1,           1,           1,           1,           1,           1,           1,           1,           1,           1,           1,           1,           1,           1,           1,           1,           1,           1,\n",
              "                  1,           1,           1,           1,           1,           1,           1,           1,           1,           1,           1,           1,           1,           1,           1,           1,           1,           1,           1,           1,           1,           1,           1,\n",
              "                  1,           1,           1,           1,           1,           1,           1,           1,           1,           1,           1,           1,           1,           1,           1,           1,           1,           1,           1,           1,           1,           1,           1,\n",
              "                  1,           1,           1,           1,           1,           1,           1,           1,           1,           1,           1,           1,           1,           1,           1,           1,           1,           1,           1,           1,           1,           1,           1,\n",
              "                  1,           1,           1,           1,           1,           1,           1,           1,           1,           1,           1,           1,           1,           1,           1,           1,           1,           1,           1,           1,           1,           1,           1,\n",
              "                  1,           1,           1,           1,           1,           1,           1,           1,           1,           1,           1,           1,           1,           1,           1,           1,           1,           1,           1,           1,           1,           1,           1,\n",
              "                  1,           1,           1,           1,           1,           1,           1,           1,           1,           1,           1,           1,           1,           1,           1,           1,           1,           1,           1,           1,           1,           1,           1,\n",
              "                  1,           1,           1,           1,           1,           1,           1,           1,           1,           1,           1,           1,           1,           1,           1,           1,           1,           1,           1,           1,           1,           1,           1,\n",
              "                  1,           1,           1,           1,           1,           1,           1,           1,           1,           1,           1,           1,           1,           1,           1,           1,           1,           1,           1,           1,           1,           1,           1,\n",
              "                  1,           1,           1,           1,           1,           1,           1,           1,           1,           1,           1,           1,           1,           1,           1,           1,           1,           1,           1,           1,           1,           1,           1,\n",
              "                  1,           1,           1,           1,           1,           1,           1,           1,           1,           1,           1,           1,           1,           1,           1,           1,           1,           1,           1,           1,           1,           1,           1,\n",
              "                  1,           1,           1,           1,           1,           1,           1,           1,           1,           1,           1,           1,           1,           1,           1,           1,           1,           1,           1,           1,           1,           1,           1,\n",
              "                  1,           1,           1,           1,           1,           1,           1,           1,           1,           1,           1,           1,           1,           1,           1,           1,           1,           1,           1,           1,           1,           1,           1,\n",
              "                  1,           1,           1,           1,           1,           1,           1,           1,           1,           1,           1,           1,           1,           1,           1,           1,           1,           1,           1,           1,           1,           1,           1,\n",
              "                  1,           1,           1,           1,           1,           1,           1,           1,           1,           1,           1,           1,           1,           1,           1,           1,           1,           1,           1,           1,           1,           1,           1,\n",
              "                  1,           1,           1,           1,           1,           1,           1,           1,           1,           1,           1,           1,           1,           1,           1,           1,           1,           1,           1,           1,           1,           1,           1,\n",
              "                  1,           1,           1,           1,           1,           1,           1,           1,           1,           1,           1,           1,           1,           1,           1,           1,           1,           1,           1,           1,           1,           1,           1,\n",
              "                  1,           1,    0.058824,    0.058824,    0.058824,    0.058824,    0.058824,    0.058824,    0.058824,    0.058824,    0.058824,    0.058824,    0.058824,    0.058824,    0.058824,    0.058824,    0.058824,    0.058824,    0.058824,    0.058824,    0.058824,    0.058824,    0.058824,\n",
              "           0.058824,    0.058824,    0.058824,    0.058824,    0.058824,    0.058824,    0.058824,    0.058824,    0.058824,    0.058824,    0.058824,    0.058824,    0.058824,    0.058824,    0.058824,    0.058824,    0.058824,    0.058824,    0.058824,    0.058824,    0.058824,    0.058824,    0.058824,\n",
              "           0.058824,    0.058824,    0.058824,    0.058824,    0.058824,    0.058824,    0.058824,    0.058824,    0.058824,    0.058824,    0.058824,    0.058824,    0.058824,    0.058824,    0.058824,    0.058824,    0.058824,    0.058824,    0.058824,    0.058824,    0.058824,    0.058824,    0.058824,\n",
              "           0.058824,    0.058824,    0.058824,    0.058824,    0.058824,    0.058824,    0.058824,    0.058824,    0.058824,    0.058824,    0.058824,    0.058824,    0.058824,    0.058824,    0.058824,    0.058824,    0.058824,    0.058824,    0.058824,    0.058824,    0.058824,    0.058824,    0.058824,\n",
              "           0.058824,    0.058824,    0.058824,    0.058824,    0.058824,    0.058824,    0.058824,    0.058824,    0.058824,    0.058824,    0.058824,    0.058824,    0.058824,    0.058824,    0.058824,    0.058824,    0.058824,    0.058824,    0.058824,    0.058824,    0.058824,    0.058824,    0.058824,\n",
              "           0.058824,    0.058824,    0.058824,    0.058824,    0.058824,    0.058824,    0.058824,    0.058824,    0.058824,    0.058824,    0.058824,    0.058824,    0.058824,    0.058824,    0.058824,    0.058824,    0.058824,    0.058824,    0.058824,    0.058824,    0.058824,    0.058824,    0.058824,\n",
              "           0.058824,    0.058824,    0.058824,    0.058824,    0.058824,    0.058824,    0.058824,    0.058824,    0.058824,    0.058824,    0.058824,    0.058824,    0.058824,    0.058824,    0.058824,    0.058824,    0.058824,    0.058824,    0.058824,    0.058824,    0.058824,    0.058824,    0.058824,\n",
              "           0.058824,    0.058824,    0.058824,    0.058824,    0.058824,    0.058824,    0.058824,    0.058824,    0.058824,    0.058824,    0.058824,    0.058824,    0.058824,    0.058824,    0.058824,    0.058824,    0.058824,    0.058824,    0.058824,    0.058824,    0.058824,    0.058824,    0.058824,\n",
              "           0.058824,    0.058824,    0.058824,    0.058824,    0.058824,    0.058824,    0.058824,    0.058824,    0.058824,    0.058824,    0.058824,    0.058824,    0.058824,    0.058824,    0.058824,    0.058824,    0.058824,    0.058824,   0.0089928,   0.0089928,   0.0089928,   0.0089928,   0.0089928,\n",
              "          0.0089928,   0.0089928,   0.0089928,   0.0089928,   0.0089928,   0.0089928,   0.0089928,   0.0089928,   0.0089928,   0.0089928,   0.0089928,   0.0089928,   0.0089928,   0.0089928,   0.0089928,   0.0089928,   0.0089928,   0.0089928,   0.0089928,   0.0089928,   0.0089928,   0.0089928,   0.0089928,\n",
              "          0.0089928,   0.0089928,   0.0089928,   0.0089928,   0.0089928,   0.0089928,   0.0089928,   0.0089928,   0.0089928,   0.0089928,   0.0089928,   0.0089928,   0.0089928,   0.0089928,   0.0089928,   0.0089928,   0.0089928,   0.0089928,   0.0089928,   0.0089928,   0.0089928,   0.0089928,   0.0089928,\n",
              "          0.0089928,   0.0089928,   0.0089928,   0.0089928,   0.0089928,   0.0089928,   0.0089928,   0.0089928,   0.0089928,   0.0089928,   0.0089928,   0.0089928,   0.0089928,   0.0089928,   0.0089928,   0.0089928,   0.0089928,   0.0089928,   0.0089928,   0.0089928,   0.0089928,   0.0089928,   0.0089928,\n",
              "          0.0089928,   0.0089928,   0.0089928,   0.0089928,   0.0089928,   0.0089928,   0.0089928,   0.0089928,   0.0089928,   0.0089928,   0.0089928,   0.0089928,   0.0089928,   0.0089928,   0.0089928,   0.0089928,   0.0089928,   0.0089928,   0.0089928,   0.0089928,   0.0089928,   0.0089928,   0.0089928,\n",
              "          0.0089928,   0.0089928,   0.0089928,   0.0089928,   0.0089928,   0.0089928,   0.0089928,   0.0089928,   0.0089928,   0.0089928,   0.0089928,   0.0089928,   0.0089928,   0.0089928,   0.0089928,   0.0089928,   0.0089928,   0.0089928,   0.0089928,   0.0089928,   0.0089928,   0.0089928,   0.0089928,\n",
              "          0.0089928,   0.0089928,   0.0089928,   0.0089928,   0.0089928,   0.0089928,   0.0089928,   0.0089928,   0.0089928,   0.0089928,   0.0089928,   0.0089928,   0.0089928,   0.0089928,   0.0089928,   0.0089928,   0.0089928,   0.0089928,   0.0089928,   0.0089928,   0.0089928,   0.0089928,   0.0089928,\n",
              "          0.0089928,   0.0089928,   0.0089928,   0.0089928,   0.0089928,   0.0089928,   0.0089928,   0.0089928,   0.0089928,   0.0089928,   0.0089928,   0.0089928,   0.0089928,   0.0089928,   0.0089928,   0.0089928,   0.0089928,   0.0089928,   0.0089928,   0.0089928,   0.0089928,   0.0089928,   0.0089928,\n",
              "          0.0089928,   0.0089928,   0.0089928,   0.0089928,   0.0089928,   0.0089928,   0.0089928,   0.0089928,   0.0089928,   0.0089928,   0.0089928,   0.0089928,   0.0089928,   0.0089928,   0.0089928,   0.0089928,   0.0089928,   0.0089928,   0.0089928,   0.0089928,   0.0089928,   0.0089928,   0.0089928,\n",
              "          0.0089928,   0.0089928,   0.0089928,   0.0089928,   0.0089928,   0.0089928,   0.0089928,   0.0089928,   0.0089928,   0.0089928,           0]]), 'Recall', 'Precision'], [array([          0,    0.001001,    0.002002,    0.003003,    0.004004,    0.005005,    0.006006,    0.007007,    0.008008,    0.009009,     0.01001,    0.011011,    0.012012,    0.013013,    0.014014,    0.015015,    0.016016,    0.017017,    0.018018,    0.019019,     0.02002,    0.021021,    0.022022,    0.023023,\n",
              "          0.024024,    0.025025,    0.026026,    0.027027,    0.028028,    0.029029,     0.03003,    0.031031,    0.032032,    0.033033,    0.034034,    0.035035,    0.036036,    0.037037,    0.038038,    0.039039,     0.04004,    0.041041,    0.042042,    0.043043,    0.044044,    0.045045,    0.046046,    0.047047,\n",
              "          0.048048,    0.049049,     0.05005,    0.051051,    0.052052,    0.053053,    0.054054,    0.055055,    0.056056,    0.057057,    0.058058,    0.059059,     0.06006,    0.061061,    0.062062,    0.063063,    0.064064,    0.065065,    0.066066,    0.067067,    0.068068,    0.069069,     0.07007,    0.071071,\n",
              "          0.072072,    0.073073,    0.074074,    0.075075,    0.076076,    0.077077,    0.078078,    0.079079,     0.08008,    0.081081,    0.082082,    0.083083,    0.084084,    0.085085,    0.086086,    0.087087,    0.088088,    0.089089,     0.09009,    0.091091,    0.092092,    0.093093,    0.094094,    0.095095,\n",
              "          0.096096,    0.097097,    0.098098,    0.099099,      0.1001,      0.1011,      0.1021,      0.1031,      0.1041,     0.10511,     0.10611,     0.10711,     0.10811,     0.10911,     0.11011,     0.11111,     0.11211,     0.11311,     0.11411,     0.11512,     0.11612,     0.11712,     0.11812,     0.11912,\n",
              "           0.12012,     0.12112,     0.12212,     0.12312,     0.12412,     0.12513,     0.12613,     0.12713,     0.12813,     0.12913,     0.13013,     0.13113,     0.13213,     0.13313,     0.13413,     0.13514,     0.13614,     0.13714,     0.13814,     0.13914,     0.14014,     0.14114,     0.14214,     0.14314,\n",
              "           0.14414,     0.14515,     0.14615,     0.14715,     0.14815,     0.14915,     0.15015,     0.15115,     0.15215,     0.15315,     0.15415,     0.15516,     0.15616,     0.15716,     0.15816,     0.15916,     0.16016,     0.16116,     0.16216,     0.16316,     0.16416,     0.16517,     0.16617,     0.16717,\n",
              "           0.16817,     0.16917,     0.17017,     0.17117,     0.17217,     0.17317,     0.17417,     0.17518,     0.17618,     0.17718,     0.17818,     0.17918,     0.18018,     0.18118,     0.18218,     0.18318,     0.18418,     0.18519,     0.18619,     0.18719,     0.18819,     0.18919,     0.19019,     0.19119,\n",
              "           0.19219,     0.19319,     0.19419,      0.1952,      0.1962,      0.1972,      0.1982,      0.1992,      0.2002,      0.2012,      0.2022,      0.2032,      0.2042,     0.20521,     0.20621,     0.20721,     0.20821,     0.20921,     0.21021,     0.21121,     0.21221,     0.21321,     0.21421,     0.21522,\n",
              "           0.21622,     0.21722,     0.21822,     0.21922,     0.22022,     0.22122,     0.22222,     0.22322,     0.22422,     0.22523,     0.22623,     0.22723,     0.22823,     0.22923,     0.23023,     0.23123,     0.23223,     0.23323,     0.23423,     0.23524,     0.23624,     0.23724,     0.23824,     0.23924,\n",
              "           0.24024,     0.24124,     0.24224,     0.24324,     0.24424,     0.24525,     0.24625,     0.24725,     0.24825,     0.24925,     0.25025,     0.25125,     0.25225,     0.25325,     0.25425,     0.25526,     0.25626,     0.25726,     0.25826,     0.25926,     0.26026,     0.26126,     0.26226,     0.26326,\n",
              "           0.26426,     0.26527,     0.26627,     0.26727,     0.26827,     0.26927,     0.27027,     0.27127,     0.27227,     0.27327,     0.27427,     0.27528,     0.27628,     0.27728,     0.27828,     0.27928,     0.28028,     0.28128,     0.28228,     0.28328,     0.28428,     0.28529,     0.28629,     0.28729,\n",
              "           0.28829,     0.28929,     0.29029,     0.29129,     0.29229,     0.29329,     0.29429,      0.2953,      0.2963,      0.2973,      0.2983,      0.2993,      0.3003,      0.3013,      0.3023,      0.3033,      0.3043,     0.30531,     0.30631,     0.30731,     0.30831,     0.30931,     0.31031,     0.31131,\n",
              "           0.31231,     0.31331,     0.31431,     0.31532,     0.31632,     0.31732,     0.31832,     0.31932,     0.32032,     0.32132,     0.32232,     0.32332,     0.32432,     0.32533,     0.32633,     0.32733,     0.32833,     0.32933,     0.33033,     0.33133,     0.33233,     0.33333,     0.33433,     0.33534,\n",
              "           0.33634,     0.33734,     0.33834,     0.33934,     0.34034,     0.34134,     0.34234,     0.34334,     0.34434,     0.34535,     0.34635,     0.34735,     0.34835,     0.34935,     0.35035,     0.35135,     0.35235,     0.35335,     0.35435,     0.35536,     0.35636,     0.35736,     0.35836,     0.35936,\n",
              "           0.36036,     0.36136,     0.36236,     0.36336,     0.36436,     0.36537,     0.36637,     0.36737,     0.36837,     0.36937,     0.37037,     0.37137,     0.37237,     0.37337,     0.37437,     0.37538,     0.37638,     0.37738,     0.37838,     0.37938,     0.38038,     0.38138,     0.38238,     0.38338,\n",
              "           0.38438,     0.38539,     0.38639,     0.38739,     0.38839,     0.38939,     0.39039,     0.39139,     0.39239,     0.39339,     0.39439,      0.3954,      0.3964,      0.3974,      0.3984,      0.3994,      0.4004,      0.4014,      0.4024,      0.4034,      0.4044,     0.40541,     0.40641,     0.40741,\n",
              "           0.40841,     0.40941,     0.41041,     0.41141,     0.41241,     0.41341,     0.41441,     0.41542,     0.41642,     0.41742,     0.41842,     0.41942,     0.42042,     0.42142,     0.42242,     0.42342,     0.42442,     0.42543,     0.42643,     0.42743,     0.42843,     0.42943,     0.43043,     0.43143,\n",
              "           0.43243,     0.43343,     0.43443,     0.43544,     0.43644,     0.43744,     0.43844,     0.43944,     0.44044,     0.44144,     0.44244,     0.44344,     0.44444,     0.44545,     0.44645,     0.44745,     0.44845,     0.44945,     0.45045,     0.45145,     0.45245,     0.45345,     0.45445,     0.45546,\n",
              "           0.45646,     0.45746,     0.45846,     0.45946,     0.46046,     0.46146,     0.46246,     0.46346,     0.46446,     0.46547,     0.46647,     0.46747,     0.46847,     0.46947,     0.47047,     0.47147,     0.47247,     0.47347,     0.47447,     0.47548,     0.47648,     0.47748,     0.47848,     0.47948,\n",
              "           0.48048,     0.48148,     0.48248,     0.48348,     0.48448,     0.48549,     0.48649,     0.48749,     0.48849,     0.48949,     0.49049,     0.49149,     0.49249,     0.49349,     0.49449,      0.4955,      0.4965,      0.4975,      0.4985,      0.4995,      0.5005,      0.5015,      0.5025,      0.5035,\n",
              "            0.5045,     0.50551,     0.50651,     0.50751,     0.50851,     0.50951,     0.51051,     0.51151,     0.51251,     0.51351,     0.51451,     0.51552,     0.51652,     0.51752,     0.51852,     0.51952,     0.52052,     0.52152,     0.52252,     0.52352,     0.52452,     0.52553,     0.52653,     0.52753,\n",
              "           0.52853,     0.52953,     0.53053,     0.53153,     0.53253,     0.53353,     0.53453,     0.53554,     0.53654,     0.53754,     0.53854,     0.53954,     0.54054,     0.54154,     0.54254,     0.54354,     0.54454,     0.54555,     0.54655,     0.54755,     0.54855,     0.54955,     0.55055,     0.55155,\n",
              "           0.55255,     0.55355,     0.55455,     0.55556,     0.55656,     0.55756,     0.55856,     0.55956,     0.56056,     0.56156,     0.56256,     0.56356,     0.56456,     0.56557,     0.56657,     0.56757,     0.56857,     0.56957,     0.57057,     0.57157,     0.57257,     0.57357,     0.57457,     0.57558,\n",
              "           0.57658,     0.57758,     0.57858,     0.57958,     0.58058,     0.58158,     0.58258,     0.58358,     0.58458,     0.58559,     0.58659,     0.58759,     0.58859,     0.58959,     0.59059,     0.59159,     0.59259,     0.59359,     0.59459,      0.5956,      0.5966,      0.5976,      0.5986,      0.5996,\n",
              "            0.6006,      0.6016,      0.6026,      0.6036,      0.6046,     0.60561,     0.60661,     0.60761,     0.60861,     0.60961,     0.61061,     0.61161,     0.61261,     0.61361,     0.61461,     0.61562,     0.61662,     0.61762,     0.61862,     0.61962,     0.62062,     0.62162,     0.62262,     0.62362,\n",
              "           0.62462,     0.62563,     0.62663,     0.62763,     0.62863,     0.62963,     0.63063,     0.63163,     0.63263,     0.63363,     0.63463,     0.63564,     0.63664,     0.63764,     0.63864,     0.63964,     0.64064,     0.64164,     0.64264,     0.64364,     0.64464,     0.64565,     0.64665,     0.64765,\n",
              "           0.64865,     0.64965,     0.65065,     0.65165,     0.65265,     0.65365,     0.65465,     0.65566,     0.65666,     0.65766,     0.65866,     0.65966,     0.66066,     0.66166,     0.66266,     0.66366,     0.66466,     0.66567,     0.66667,     0.66767,     0.66867,     0.66967,     0.67067,     0.67167,\n",
              "           0.67267,     0.67367,     0.67467,     0.67568,     0.67668,     0.67768,     0.67868,     0.67968,     0.68068,     0.68168,     0.68268,     0.68368,     0.68468,     0.68569,     0.68669,     0.68769,     0.68869,     0.68969,     0.69069,     0.69169,     0.69269,     0.69369,     0.69469,      0.6957,\n",
              "            0.6967,      0.6977,      0.6987,      0.6997,      0.7007,      0.7017,      0.7027,      0.7037,      0.7047,     0.70571,     0.70671,     0.70771,     0.70871,     0.70971,     0.71071,     0.71171,     0.71271,     0.71371,     0.71471,     0.71572,     0.71672,     0.71772,     0.71872,     0.71972,\n",
              "           0.72072,     0.72172,     0.72272,     0.72372,     0.72472,     0.72573,     0.72673,     0.72773,     0.72873,     0.72973,     0.73073,     0.73173,     0.73273,     0.73373,     0.73473,     0.73574,     0.73674,     0.73774,     0.73874,     0.73974,     0.74074,     0.74174,     0.74274,     0.74374,\n",
              "           0.74474,     0.74575,     0.74675,     0.74775,     0.74875,     0.74975,     0.75075,     0.75175,     0.75275,     0.75375,     0.75475,     0.75576,     0.75676,     0.75776,     0.75876,     0.75976,     0.76076,     0.76176,     0.76276,     0.76376,     0.76476,     0.76577,     0.76677,     0.76777,\n",
              "           0.76877,     0.76977,     0.77077,     0.77177,     0.77277,     0.77377,     0.77477,     0.77578,     0.77678,     0.77778,     0.77878,     0.77978,     0.78078,     0.78178,     0.78278,     0.78378,     0.78478,     0.78579,     0.78679,     0.78779,     0.78879,     0.78979,     0.79079,     0.79179,\n",
              "           0.79279,     0.79379,     0.79479,      0.7958,      0.7968,      0.7978,      0.7988,      0.7998,      0.8008,      0.8018,      0.8028,      0.8038,      0.8048,     0.80581,     0.80681,     0.80781,     0.80881,     0.80981,     0.81081,     0.81181,     0.81281,     0.81381,     0.81481,     0.81582,\n",
              "           0.81682,     0.81782,     0.81882,     0.81982,     0.82082,     0.82182,     0.82282,     0.82382,     0.82482,     0.82583,     0.82683,     0.82783,     0.82883,     0.82983,     0.83083,     0.83183,     0.83283,     0.83383,     0.83483,     0.83584,     0.83684,     0.83784,     0.83884,     0.83984,\n",
              "           0.84084,     0.84184,     0.84284,     0.84384,     0.84484,     0.84585,     0.84685,     0.84785,     0.84885,     0.84985,     0.85085,     0.85185,     0.85285,     0.85385,     0.85485,     0.85586,     0.85686,     0.85786,     0.85886,     0.85986,     0.86086,     0.86186,     0.86286,     0.86386,\n",
              "           0.86486,     0.86587,     0.86687,     0.86787,     0.86887,     0.86987,     0.87087,     0.87187,     0.87287,     0.87387,     0.87487,     0.87588,     0.87688,     0.87788,     0.87888,     0.87988,     0.88088,     0.88188,     0.88288,     0.88388,     0.88488,     0.88589,     0.88689,     0.88789,\n",
              "           0.88889,     0.88989,     0.89089,     0.89189,     0.89289,     0.89389,     0.89489,      0.8959,      0.8969,      0.8979,      0.8989,      0.8999,      0.9009,      0.9019,      0.9029,      0.9039,      0.9049,     0.90591,     0.90691,     0.90791,     0.90891,     0.90991,     0.91091,     0.91191,\n",
              "           0.91291,     0.91391,     0.91491,     0.91592,     0.91692,     0.91792,     0.91892,     0.91992,     0.92092,     0.92192,     0.92292,     0.92392,     0.92492,     0.92593,     0.92693,     0.92793,     0.92893,     0.92993,     0.93093,     0.93193,     0.93293,     0.93393,     0.93493,     0.93594,\n",
              "           0.93694,     0.93794,     0.93894,     0.93994,     0.94094,     0.94194,     0.94294,     0.94394,     0.94494,     0.94595,     0.94695,     0.94795,     0.94895,     0.94995,     0.95095,     0.95195,     0.95295,     0.95395,     0.95495,     0.95596,     0.95696,     0.95796,     0.95896,     0.95996,\n",
              "           0.96096,     0.96196,     0.96296,     0.96396,     0.96496,     0.96597,     0.96697,     0.96797,     0.96897,     0.96997,     0.97097,     0.97197,     0.97297,     0.97397,     0.97497,     0.97598,     0.97698,     0.97798,     0.97898,     0.97998,     0.98098,     0.98198,     0.98298,     0.98398,\n",
              "           0.98498,     0.98599,     0.98699,     0.98799,     0.98899,     0.98999,     0.99099,     0.99199,     0.99299,     0.99399,     0.99499,       0.996,       0.997,       0.998,       0.999,           1]), array([[  0.0066445,   0.0066445,   0.0066445,   0.0066445,   0.0066445,   0.0066445,   0.0066445,   0.0066445,    0.007263,   0.0096405,    0.013774,    0.014996,    0.020729,    0.027286,    0.036718,    0.051284,    0.064468,    0.083143,     0.09933,    0.088777,     0.10057,     0.11745,     0.12754,\n",
              "            0.13467,     0.13915,     0.14625,     0.15695,     0.16924,     0.17825,     0.18379,     0.19333,     0.19858,     0.20768,     0.20987,     0.21205,     0.21422,     0.22307,     0.22411,     0.22514,     0.22618,     0.22721,     0.22823,     0.22926,     0.23028,     0.24191,     0.25508,\n",
              "            0.27406,     0.28605,     0.28749,     0.28893,     0.29037,      0.2918,     0.29322,     0.29464,     0.29606,     0.29747,     0.29888,     0.30237,     0.31387,     0.31974,     0.32444,      0.3291,     0.33344,     0.33482,     0.33619,     0.33756,     0.33893,     0.34029,     0.34164,\n",
              "            0.34299,     0.34434,     0.34568,     0.34702,     0.34835,     0.34968,     0.35101,     0.35233,     0.35322,     0.35374,     0.35426,     0.35478,      0.3553,     0.35582,     0.35634,     0.35686,     0.35737,     0.35789,      0.3584,     0.35892,     0.35943,     0.35995,     0.36046,\n",
              "            0.36097,     0.36148,     0.36199,      0.3625,     0.36301,     0.36352,     0.36403,     0.36454,     0.36505,     0.36555,     0.36606,     0.36656,     0.36707,     0.36757,     0.36808,     0.36858,     0.36908,     0.36958,     0.37008,     0.37058,     0.37108,     0.37158,     0.37208,\n",
              "            0.37258,     0.37308,     0.37357,     0.37407,     0.37457,     0.37977,     0.41088,     0.42868,     0.42913,     0.42958,     0.43003,     0.43048,     0.43093,     0.43138,     0.43183,     0.43228,     0.43272,     0.43317,     0.43362,     0.43406,     0.43451,     0.43496,      0.4354,\n",
              "            0.43584,     0.43629,     0.43673,     0.43717,     0.43761,     0.43806,      0.4385,     0.43894,     0.43938,     0.43982,     0.44026,     0.44069,     0.44113,     0.44157,     0.44201,     0.44244,     0.44288,     0.44331,     0.44375,     0.44418,     0.44462,     0.44505,     0.44548,\n",
              "            0.44591,     0.44635,     0.44678,     0.44721,     0.44764,     0.44807,      0.4485,     0.44893,     0.44936,     0.44978,     0.45021,     0.45064,     0.45106,     0.45149,     0.45192,     0.45234,     0.45277,     0.45319,     0.45361,     0.45404,     0.45446,     0.45488,      0.4553,\n",
              "            0.45572,     0.45614,     0.45656,     0.45698,      0.4574,     0.45782,     0.45824,     0.45866,     0.45908,     0.45949,     0.45991,     0.46033,     0.46074,     0.46116,     0.46326,      0.4847,     0.50013,     0.50063,     0.50114,     0.50164,     0.50215,     0.50265,     0.50315,\n",
              "            0.50366,     0.50416,     0.50466,     0.50516,     0.50566,     0.50616,     0.50666,     0.50715,     0.50765,     0.50814,     0.50864,     0.50913,     0.50963,     0.51012,     0.51061,      0.5111,      0.5116,     0.51209,     0.51257,     0.51306,     0.51355,     0.51404,     0.51453,\n",
              "            0.51501,      0.5155,     0.51598,     0.51647,     0.51695,     0.51743,     0.51791,     0.51839,     0.51887,     0.51935,     0.51983,     0.52031,     0.52079,     0.52127,     0.52174,     0.52222,     0.52269,     0.52317,     0.52364,     0.52412,     0.52459,     0.52506,     0.52553,\n",
              "              0.526,     0.52647,     0.52694,     0.52741,     0.52788,     0.52834,     0.52881,     0.52928,     0.52974,     0.53021,     0.53067,     0.53113,      0.5316,     0.53206,     0.53252,     0.53298,     0.53344,      0.5339,     0.53436,     0.53482,     0.53528,     0.53573,     0.53619,\n",
              "            0.53665,      0.5371,     0.53755,     0.53801,     0.53846,     0.53891,     0.53937,     0.53982,     0.54027,     0.54072,     0.54117,     0.54162,     0.54207,     0.54251,     0.54296,     0.54341,     0.54385,      0.5443,     0.54474,     0.54519,     0.54564,     0.54612,     0.54659,\n",
              "            0.54706,     0.54753,       0.548,     0.54847,     0.54894,     0.54941,     0.54988,     0.55034,     0.55081,     0.55128,     0.55174,      0.5522,     0.55267,     0.55313,     0.55359,     0.55406,     0.55452,     0.55498,     0.55544,      0.5559,     0.55635,     0.55681,     0.55727,\n",
              "            0.55773,     0.55818,     0.55864,     0.55909,     0.55954,        0.56,     0.56045,      0.5609,     0.56135,      0.5618,     0.56225,      0.5627,     0.56315,      0.5636,     0.56405,      0.5645,     0.56494,     0.56539,     0.56583,     0.56628,     0.56672,     0.56716,     0.56761,\n",
              "            0.56805,     0.56849,     0.56893,     0.56937,     0.56981,     0.57025,     0.57069,     0.57112,     0.57156,       0.572,     0.57243,     0.57287,      0.5733,     0.57374,     0.57417,      0.5746,     0.57504,     0.57547,      0.5759,     0.57633,     0.57676,     0.57719,     0.57762,\n",
              "            0.57804,     0.57847,      0.5789,     0.57932,     0.57975,     0.58018,      0.5806,     0.58102,     0.58145,     0.58187,     0.58229,     0.58271,     0.58313,     0.58356,     0.58398,     0.58439,     0.58481,     0.58523,     0.58565,     0.58607,     0.58648,      0.5869,     0.58731,\n",
              "            0.58773,     0.58814,     0.58856,     0.58897,     0.58938,     0.58979,     0.59021,     0.59062,     0.59103,     0.59144,     0.59185,     0.59225,     0.59266,     0.59307,     0.59348,     0.59388,     0.59429,      0.5947,      0.5951,      0.5955,     0.59591,     0.59631,     0.59671,\n",
              "            0.59712,     0.59752,     0.59792,     0.59832,     0.59872,     0.59912,     0.59952,     0.59992,      0.6056,     0.61254,     0.61932,     0.62594,     0.63241,     0.63874,     0.64493,     0.65098,      0.6569,      0.6627,     0.66674,     0.66699,     0.66724,     0.66749,     0.66773,\n",
              "            0.66798,     0.66823,     0.66847,     0.66872,     0.66897,     0.66921,     0.66946,      0.6697,     0.66995,     0.67019,     0.67044,     0.67068,     0.67093,     0.67117,     0.67141,     0.67166,      0.6719,     0.67214,     0.67239,     0.67263,     0.67287,     0.67311,     0.67336,\n",
              "             0.6736,     0.67384,     0.67408,     0.67432,     0.67456,      0.6748,     0.67504,     0.67528,     0.67552,     0.67576,       0.676,     0.67624,     0.67648,     0.67672,     0.67696,      0.6772,     0.67744,     0.67768,     0.67791,     0.67815,     0.67839,     0.67863,     0.67886,\n",
              "             0.6791,     0.67934,     0.67957,     0.67981,     0.68004,     0.68028,     0.68052,     0.68075,     0.68099,     0.68122,     0.68146,     0.68169,     0.68192,     0.68216,     0.68239,     0.68263,     0.68286,     0.68309,     0.68333,     0.68356,     0.68379,     0.68402,     0.68426,\n",
              "            0.68449,     0.68472,     0.68495,     0.68518,     0.68541,     0.68564,     0.68587,     0.68611,     0.68634,     0.68657,      0.6868,     0.68702,     0.68725,     0.68748,     0.68771,     0.68794,     0.68817,      0.6884,     0.68863,     0.68885,     0.68908,     0.68931,     0.68954,\n",
              "            0.68976,     0.68999,     0.69022,     0.69045,     0.69067,      0.6909,     0.69112,     0.69135,     0.69158,      0.6918,     0.69203,     0.69225,     0.69248,      0.6927,     0.69292,     0.69315,     0.69337,      0.6936,     0.69382,     0.69404,     0.69427,     0.69449,     0.69471,\n",
              "            0.69494,     0.69516,     0.69538,      0.6956,     0.69582,     0.69605,     0.69627,     0.69649,     0.69671,     0.69693,     0.69715,     0.69737,     0.69759,     0.69781,     0.69803,     0.69825,     0.69847,     0.69869,     0.69891,     0.69913,     0.69935,     0.69957,     0.69978,\n",
              "                0.7,     0.70022,     0.70044,     0.70066,     0.70087,     0.70109,     0.70131,     0.70152,     0.70174,     0.70196,     0.70217,     0.70239,     0.70261,     0.70282,     0.70304,     0.70325,     0.70347,     0.70368,      0.7039,     0.70411,     0.70433,     0.70454,     0.70475,\n",
              "            0.70497,     0.70518,      0.7054,     0.70561,     0.70582,     0.70603,     0.70625,     0.70646,     0.70667,     0.70688,      0.7071,     0.70731,     0.70752,     0.70773,     0.70794,     0.70815,     0.70836,     0.70858,     0.70879,       0.709,     0.70921,     0.70942,     0.70963,\n",
              "            0.70984,     0.71005,     0.71026,     0.71046,     0.71067,     0.71088,     0.71109,      0.7113,     0.71151,     0.71172,     0.71192,     0.71213,     0.71234,     0.71255,     0.71275,     0.71296,     0.71317,     0.71337,     0.71358,     0.71379,     0.71399,      0.7142,      0.7144,\n",
              "            0.71461,     0.71482,     0.71502,     0.71523,     0.71543,     0.71564,     0.71584,     0.71604,     0.71625,     0.71645,     0.71666,     0.71686,     0.71706,     0.71727,     0.71747,     0.71767,     0.71788,     0.71808,     0.71828,     0.71848,     0.71869,     0.71889,     0.71909,\n",
              "            0.71929,     0.71949,     0.71969,      0.7199,      0.7201,      0.7203,      0.7205,      0.7207,      0.7209,      0.7211,      0.7213,      0.7215,      0.7217,      0.7219,      0.7221,      0.7223,      0.7225,     0.72269,     0.72289,     0.72309,     0.72329,     0.72349,     0.72369,\n",
              "            0.72388,     0.72408,     0.72428,     0.72448,     0.72467,     0.72487,     0.72507,     0.72526,     0.72546,     0.72566,     0.72585,     0.72605,     0.72624,     0.72644,     0.72664,     0.72683,     0.72703,     0.72722,     0.72742,     0.72761,     0.72781,       0.728,     0.72819,\n",
              "            0.72839,     0.72858,     0.72878,     0.72897,     0.72916,     0.72936,     0.72955,     0.72974,     0.72994,     0.73013,     0.73032,     0.73051,     0.73071,      0.7309,     0.73109,     0.73128,     0.73147,     0.73166,     0.73186,     0.73205,     0.73224,     0.73243,     0.73262,\n",
              "            0.73281,       0.733,     0.73319,     0.73338,     0.73357,     0.73376,     0.73395,     0.73414,     0.73433,     0.73452,     0.73471,     0.73489,     0.73508,     0.73527,     0.73546,     0.73565,     0.73584,     0.73602,     0.73621,      0.7364,     0.73659,     0.73677,     0.73696,\n",
              "            0.73715,     0.73733,     0.73752,     0.73771,     0.73789,     0.73808,     0.73827,     0.73845,     0.73864,     0.73882,     0.73901,     0.73919,     0.73938,     0.73956,     0.73975,     0.73993,     0.74012,      0.7403,     0.74049,     0.74067,     0.74086,     0.74104,     0.74122,\n",
              "            0.74141,     0.74159,     0.74177,     0.74196,     0.74214,     0.74232,      0.7425,     0.74269,     0.74287,     0.74305,     0.74323,     0.74342,      0.7436,     0.74378,     0.74396,     0.74414,     0.74432,      0.7445,     0.74469,     0.74487,     0.74505,     0.74523,     0.74541,\n",
              "            0.74559,     0.74577,     0.74595,     0.74613,     0.74631,     0.74649,     0.74667,     0.74685,     0.74702,      0.7472,     0.74738,     0.74756,     0.74774,     0.74792,      0.7481,     0.74827,     0.74845,     0.74863,     0.74881,     0.74898,     0.74916,     0.74934,     0.74952,\n",
              "            0.74969,     0.74987,     0.74937,     0.74697,     0.74456,     0.74215,     0.73972,     0.73729,     0.73484,     0.73239,     0.72993,     0.72746,     0.72497,     0.72248,     0.71998,     0.71747,     0.71495,     0.71241,     0.70987,     0.70732,     0.70476,     0.70219,     0.69961,\n",
              "            0.69701,     0.69441,      0.6918,     0.68918,     0.68654,      0.6839,     0.68124,     0.67858,      0.6759,     0.67321,     0.67051,      0.6678,     0.66508,     0.66235,     0.65961,     0.65685,     0.65409,     0.65131,     0.64852,     0.64572,     0.64291,     0.64009,     0.63725,\n",
              "             0.6344,     0.63154,     0.62867,     0.62579,      0.6229,     0.61999,     0.61707,     0.61414,     0.61119,     0.60823,     0.60526,     0.60228,     0.59929,     0.59628,     0.59326,     0.59022,     0.58718,     0.58412,     0.58104,     0.57796,     0.57486,     0.57174,     0.56853,\n",
              "            0.56529,     0.56203,     0.55877,     0.55548,     0.55219,     0.54887,     0.54554,      0.5422,     0.53884,     0.53547,     0.53208,     0.52867,     0.52525,     0.52181,     0.51836,     0.51489,      0.5114,      0.5079,     0.50438,     0.50084,     0.49729,     0.49372,     0.49013,\n",
              "            0.48653,     0.48291,     0.47927,     0.47562,     0.47194,     0.46825,     0.46454,     0.46082,     0.45707,     0.45331,     0.44953,     0.44573,     0.44191,     0.43807,     0.43421,     0.43034,     0.42644,     0.42253,     0.41859,     0.41464,     0.41067,     0.40667,     0.40266,\n",
              "            0.39863,     0.39457,      0.3905,      0.3864,     0.38228,     0.37815,     0.37399,     0.36981,     0.36561,     0.36138,     0.35714,     0.35287,     0.34858,     0.34427,     0.33994,     0.33558,           0,           0,           0,           0,           0,           0,           0,\n",
              "                  0,           0,           0,           0,           0,           0,           0,           0,           0,           0,           0,           0,           0,           0,           0,           0,           0,           0,           0,           0,           0,           0,           0,\n",
              "                  0,           0,           0,           0,           0,           0,           0,           0,           0,           0,           0]]), 'Confidence', 'F1'], [array([          0,    0.001001,    0.002002,    0.003003,    0.004004,    0.005005,    0.006006,    0.007007,    0.008008,    0.009009,     0.01001,    0.011011,    0.012012,    0.013013,    0.014014,    0.015015,    0.016016,    0.017017,    0.018018,    0.019019,     0.02002,    0.021021,    0.022022,    0.023023,\n",
              "          0.024024,    0.025025,    0.026026,    0.027027,    0.028028,    0.029029,     0.03003,    0.031031,    0.032032,    0.033033,    0.034034,    0.035035,    0.036036,    0.037037,    0.038038,    0.039039,     0.04004,    0.041041,    0.042042,    0.043043,    0.044044,    0.045045,    0.046046,    0.047047,\n",
              "          0.048048,    0.049049,     0.05005,    0.051051,    0.052052,    0.053053,    0.054054,    0.055055,    0.056056,    0.057057,    0.058058,    0.059059,     0.06006,    0.061061,    0.062062,    0.063063,    0.064064,    0.065065,    0.066066,    0.067067,    0.068068,    0.069069,     0.07007,    0.071071,\n",
              "          0.072072,    0.073073,    0.074074,    0.075075,    0.076076,    0.077077,    0.078078,    0.079079,     0.08008,    0.081081,    0.082082,    0.083083,    0.084084,    0.085085,    0.086086,    0.087087,    0.088088,    0.089089,     0.09009,    0.091091,    0.092092,    0.093093,    0.094094,    0.095095,\n",
              "          0.096096,    0.097097,    0.098098,    0.099099,      0.1001,      0.1011,      0.1021,      0.1031,      0.1041,     0.10511,     0.10611,     0.10711,     0.10811,     0.10911,     0.11011,     0.11111,     0.11211,     0.11311,     0.11411,     0.11512,     0.11612,     0.11712,     0.11812,     0.11912,\n",
              "           0.12012,     0.12112,     0.12212,     0.12312,     0.12412,     0.12513,     0.12613,     0.12713,     0.12813,     0.12913,     0.13013,     0.13113,     0.13213,     0.13313,     0.13413,     0.13514,     0.13614,     0.13714,     0.13814,     0.13914,     0.14014,     0.14114,     0.14214,     0.14314,\n",
              "           0.14414,     0.14515,     0.14615,     0.14715,     0.14815,     0.14915,     0.15015,     0.15115,     0.15215,     0.15315,     0.15415,     0.15516,     0.15616,     0.15716,     0.15816,     0.15916,     0.16016,     0.16116,     0.16216,     0.16316,     0.16416,     0.16517,     0.16617,     0.16717,\n",
              "           0.16817,     0.16917,     0.17017,     0.17117,     0.17217,     0.17317,     0.17417,     0.17518,     0.17618,     0.17718,     0.17818,     0.17918,     0.18018,     0.18118,     0.18218,     0.18318,     0.18418,     0.18519,     0.18619,     0.18719,     0.18819,     0.18919,     0.19019,     0.19119,\n",
              "           0.19219,     0.19319,     0.19419,      0.1952,      0.1962,      0.1972,      0.1982,      0.1992,      0.2002,      0.2012,      0.2022,      0.2032,      0.2042,     0.20521,     0.20621,     0.20721,     0.20821,     0.20921,     0.21021,     0.21121,     0.21221,     0.21321,     0.21421,     0.21522,\n",
              "           0.21622,     0.21722,     0.21822,     0.21922,     0.22022,     0.22122,     0.22222,     0.22322,     0.22422,     0.22523,     0.22623,     0.22723,     0.22823,     0.22923,     0.23023,     0.23123,     0.23223,     0.23323,     0.23423,     0.23524,     0.23624,     0.23724,     0.23824,     0.23924,\n",
              "           0.24024,     0.24124,     0.24224,     0.24324,     0.24424,     0.24525,     0.24625,     0.24725,     0.24825,     0.24925,     0.25025,     0.25125,     0.25225,     0.25325,     0.25425,     0.25526,     0.25626,     0.25726,     0.25826,     0.25926,     0.26026,     0.26126,     0.26226,     0.26326,\n",
              "           0.26426,     0.26527,     0.26627,     0.26727,     0.26827,     0.26927,     0.27027,     0.27127,     0.27227,     0.27327,     0.27427,     0.27528,     0.27628,     0.27728,     0.27828,     0.27928,     0.28028,     0.28128,     0.28228,     0.28328,     0.28428,     0.28529,     0.28629,     0.28729,\n",
              "           0.28829,     0.28929,     0.29029,     0.29129,     0.29229,     0.29329,     0.29429,      0.2953,      0.2963,      0.2973,      0.2983,      0.2993,      0.3003,      0.3013,      0.3023,      0.3033,      0.3043,     0.30531,     0.30631,     0.30731,     0.30831,     0.30931,     0.31031,     0.31131,\n",
              "           0.31231,     0.31331,     0.31431,     0.31532,     0.31632,     0.31732,     0.31832,     0.31932,     0.32032,     0.32132,     0.32232,     0.32332,     0.32432,     0.32533,     0.32633,     0.32733,     0.32833,     0.32933,     0.33033,     0.33133,     0.33233,     0.33333,     0.33433,     0.33534,\n",
              "           0.33634,     0.33734,     0.33834,     0.33934,     0.34034,     0.34134,     0.34234,     0.34334,     0.34434,     0.34535,     0.34635,     0.34735,     0.34835,     0.34935,     0.35035,     0.35135,     0.35235,     0.35335,     0.35435,     0.35536,     0.35636,     0.35736,     0.35836,     0.35936,\n",
              "           0.36036,     0.36136,     0.36236,     0.36336,     0.36436,     0.36537,     0.36637,     0.36737,     0.36837,     0.36937,     0.37037,     0.37137,     0.37237,     0.37337,     0.37437,     0.37538,     0.37638,     0.37738,     0.37838,     0.37938,     0.38038,     0.38138,     0.38238,     0.38338,\n",
              "           0.38438,     0.38539,     0.38639,     0.38739,     0.38839,     0.38939,     0.39039,     0.39139,     0.39239,     0.39339,     0.39439,      0.3954,      0.3964,      0.3974,      0.3984,      0.3994,      0.4004,      0.4014,      0.4024,      0.4034,      0.4044,     0.40541,     0.40641,     0.40741,\n",
              "           0.40841,     0.40941,     0.41041,     0.41141,     0.41241,     0.41341,     0.41441,     0.41542,     0.41642,     0.41742,     0.41842,     0.41942,     0.42042,     0.42142,     0.42242,     0.42342,     0.42442,     0.42543,     0.42643,     0.42743,     0.42843,     0.42943,     0.43043,     0.43143,\n",
              "           0.43243,     0.43343,     0.43443,     0.43544,     0.43644,     0.43744,     0.43844,     0.43944,     0.44044,     0.44144,     0.44244,     0.44344,     0.44444,     0.44545,     0.44645,     0.44745,     0.44845,     0.44945,     0.45045,     0.45145,     0.45245,     0.45345,     0.45445,     0.45546,\n",
              "           0.45646,     0.45746,     0.45846,     0.45946,     0.46046,     0.46146,     0.46246,     0.46346,     0.46446,     0.46547,     0.46647,     0.46747,     0.46847,     0.46947,     0.47047,     0.47147,     0.47247,     0.47347,     0.47447,     0.47548,     0.47648,     0.47748,     0.47848,     0.47948,\n",
              "           0.48048,     0.48148,     0.48248,     0.48348,     0.48448,     0.48549,     0.48649,     0.48749,     0.48849,     0.48949,     0.49049,     0.49149,     0.49249,     0.49349,     0.49449,      0.4955,      0.4965,      0.4975,      0.4985,      0.4995,      0.5005,      0.5015,      0.5025,      0.5035,\n",
              "            0.5045,     0.50551,     0.50651,     0.50751,     0.50851,     0.50951,     0.51051,     0.51151,     0.51251,     0.51351,     0.51451,     0.51552,     0.51652,     0.51752,     0.51852,     0.51952,     0.52052,     0.52152,     0.52252,     0.52352,     0.52452,     0.52553,     0.52653,     0.52753,\n",
              "           0.52853,     0.52953,     0.53053,     0.53153,     0.53253,     0.53353,     0.53453,     0.53554,     0.53654,     0.53754,     0.53854,     0.53954,     0.54054,     0.54154,     0.54254,     0.54354,     0.54454,     0.54555,     0.54655,     0.54755,     0.54855,     0.54955,     0.55055,     0.55155,\n",
              "           0.55255,     0.55355,     0.55455,     0.55556,     0.55656,     0.55756,     0.55856,     0.55956,     0.56056,     0.56156,     0.56256,     0.56356,     0.56456,     0.56557,     0.56657,     0.56757,     0.56857,     0.56957,     0.57057,     0.57157,     0.57257,     0.57357,     0.57457,     0.57558,\n",
              "           0.57658,     0.57758,     0.57858,     0.57958,     0.58058,     0.58158,     0.58258,     0.58358,     0.58458,     0.58559,     0.58659,     0.58759,     0.58859,     0.58959,     0.59059,     0.59159,     0.59259,     0.59359,     0.59459,      0.5956,      0.5966,      0.5976,      0.5986,      0.5996,\n",
              "            0.6006,      0.6016,      0.6026,      0.6036,      0.6046,     0.60561,     0.60661,     0.60761,     0.60861,     0.60961,     0.61061,     0.61161,     0.61261,     0.61361,     0.61461,     0.61562,     0.61662,     0.61762,     0.61862,     0.61962,     0.62062,     0.62162,     0.62262,     0.62362,\n",
              "           0.62462,     0.62563,     0.62663,     0.62763,     0.62863,     0.62963,     0.63063,     0.63163,     0.63263,     0.63363,     0.63463,     0.63564,     0.63664,     0.63764,     0.63864,     0.63964,     0.64064,     0.64164,     0.64264,     0.64364,     0.64464,     0.64565,     0.64665,     0.64765,\n",
              "           0.64865,     0.64965,     0.65065,     0.65165,     0.65265,     0.65365,     0.65465,     0.65566,     0.65666,     0.65766,     0.65866,     0.65966,     0.66066,     0.66166,     0.66266,     0.66366,     0.66466,     0.66567,     0.66667,     0.66767,     0.66867,     0.66967,     0.67067,     0.67167,\n",
              "           0.67267,     0.67367,     0.67467,     0.67568,     0.67668,     0.67768,     0.67868,     0.67968,     0.68068,     0.68168,     0.68268,     0.68368,     0.68468,     0.68569,     0.68669,     0.68769,     0.68869,     0.68969,     0.69069,     0.69169,     0.69269,     0.69369,     0.69469,      0.6957,\n",
              "            0.6967,      0.6977,      0.6987,      0.6997,      0.7007,      0.7017,      0.7027,      0.7037,      0.7047,     0.70571,     0.70671,     0.70771,     0.70871,     0.70971,     0.71071,     0.71171,     0.71271,     0.71371,     0.71471,     0.71572,     0.71672,     0.71772,     0.71872,     0.71972,\n",
              "           0.72072,     0.72172,     0.72272,     0.72372,     0.72472,     0.72573,     0.72673,     0.72773,     0.72873,     0.72973,     0.73073,     0.73173,     0.73273,     0.73373,     0.73473,     0.73574,     0.73674,     0.73774,     0.73874,     0.73974,     0.74074,     0.74174,     0.74274,     0.74374,\n",
              "           0.74474,     0.74575,     0.74675,     0.74775,     0.74875,     0.74975,     0.75075,     0.75175,     0.75275,     0.75375,     0.75475,     0.75576,     0.75676,     0.75776,     0.75876,     0.75976,     0.76076,     0.76176,     0.76276,     0.76376,     0.76476,     0.76577,     0.76677,     0.76777,\n",
              "           0.76877,     0.76977,     0.77077,     0.77177,     0.77277,     0.77377,     0.77477,     0.77578,     0.77678,     0.77778,     0.77878,     0.77978,     0.78078,     0.78178,     0.78278,     0.78378,     0.78478,     0.78579,     0.78679,     0.78779,     0.78879,     0.78979,     0.79079,     0.79179,\n",
              "           0.79279,     0.79379,     0.79479,      0.7958,      0.7968,      0.7978,      0.7988,      0.7998,      0.8008,      0.8018,      0.8028,      0.8038,      0.8048,     0.80581,     0.80681,     0.80781,     0.80881,     0.80981,     0.81081,     0.81181,     0.81281,     0.81381,     0.81481,     0.81582,\n",
              "           0.81682,     0.81782,     0.81882,     0.81982,     0.82082,     0.82182,     0.82282,     0.82382,     0.82482,     0.82583,     0.82683,     0.82783,     0.82883,     0.82983,     0.83083,     0.83183,     0.83283,     0.83383,     0.83483,     0.83584,     0.83684,     0.83784,     0.83884,     0.83984,\n",
              "           0.84084,     0.84184,     0.84284,     0.84384,     0.84484,     0.84585,     0.84685,     0.84785,     0.84885,     0.84985,     0.85085,     0.85185,     0.85285,     0.85385,     0.85485,     0.85586,     0.85686,     0.85786,     0.85886,     0.85986,     0.86086,     0.86186,     0.86286,     0.86386,\n",
              "           0.86486,     0.86587,     0.86687,     0.86787,     0.86887,     0.86987,     0.87087,     0.87187,     0.87287,     0.87387,     0.87487,     0.87588,     0.87688,     0.87788,     0.87888,     0.87988,     0.88088,     0.88188,     0.88288,     0.88388,     0.88488,     0.88589,     0.88689,     0.88789,\n",
              "           0.88889,     0.88989,     0.89089,     0.89189,     0.89289,     0.89389,     0.89489,      0.8959,      0.8969,      0.8979,      0.8989,      0.8999,      0.9009,      0.9019,      0.9029,      0.9039,      0.9049,     0.90591,     0.90691,     0.90791,     0.90891,     0.90991,     0.91091,     0.91191,\n",
              "           0.91291,     0.91391,     0.91491,     0.91592,     0.91692,     0.91792,     0.91892,     0.91992,     0.92092,     0.92192,     0.92292,     0.92392,     0.92492,     0.92593,     0.92693,     0.92793,     0.92893,     0.92993,     0.93093,     0.93193,     0.93293,     0.93393,     0.93493,     0.93594,\n",
              "           0.93694,     0.93794,     0.93894,     0.93994,     0.94094,     0.94194,     0.94294,     0.94394,     0.94494,     0.94595,     0.94695,     0.94795,     0.94895,     0.94995,     0.95095,     0.95195,     0.95295,     0.95395,     0.95495,     0.95596,     0.95696,     0.95796,     0.95896,     0.95996,\n",
              "           0.96096,     0.96196,     0.96296,     0.96396,     0.96496,     0.96597,     0.96697,     0.96797,     0.96897,     0.96997,     0.97097,     0.97197,     0.97297,     0.97397,     0.97497,     0.97598,     0.97698,     0.97798,     0.97898,     0.97998,     0.98098,     0.98198,     0.98298,     0.98398,\n",
              "           0.98498,     0.98599,     0.98699,     0.98799,     0.98899,     0.98999,     0.99099,     0.99199,     0.99299,     0.99399,     0.99499,       0.996,       0.997,       0.998,       0.999,           1]), array([[  0.0033333,   0.0033333,   0.0033333,   0.0033333,   0.0033333,   0.0033333,   0.0033333,   0.0033333,   0.0036447,   0.0048436,   0.0069349,   0.0075692,    0.010501,     0.01388,     0.01879,    0.026491,    0.033587,     0.04385,    0.052952,    0.047935,    0.054884,    0.065099,    0.071354,\n",
              "            0.07585,      0.0787,    0.083275,    0.090286,    0.098512,     0.10467,     0.10852,     0.11523,     0.11898,     0.12557,     0.12718,     0.12878,     0.13039,       0.137,     0.13779,     0.13857,     0.13935,     0.14014,     0.14092,      0.1417,     0.14249,     0.15149,     0.16197,\n",
              "            0.17759,     0.18779,     0.18904,     0.19028,     0.19153,     0.19278,     0.19402,     0.19527,     0.19651,     0.19776,     0.19901,     0.20211,     0.21252,     0.21794,     0.22233,     0.22673,     0.23088,      0.2322,     0.23352,     0.23484,     0.23617,     0.23749,     0.23881,\n",
              "            0.24013,     0.24146,     0.24278,      0.2441,     0.24542,     0.24674,     0.24807,     0.24939,     0.25028,     0.25081,     0.25133,     0.25185,     0.25238,      0.2529,     0.25342,     0.25395,     0.25447,     0.25499,     0.25552,     0.25604,     0.25656,     0.25709,     0.25761,\n",
              "            0.25813,     0.25866,     0.25918,      0.2597,     0.26023,     0.26075,     0.26128,      0.2618,     0.26232,     0.26285,     0.26337,     0.26389,     0.26442,     0.26494,     0.26546,     0.26599,     0.26651,     0.26703,     0.26756,     0.26808,      0.2686,     0.26913,     0.26965,\n",
              "            0.27018,      0.2707,     0.27122,     0.27175,     0.27227,     0.27781,     0.31241,     0.33346,     0.33401,     0.33456,      0.3351,     0.33565,      0.3362,     0.33674,     0.33729,     0.33784,     0.33839,     0.33893,     0.33948,     0.34003,     0.34057,     0.34112,     0.34167,\n",
              "            0.34222,     0.34276,     0.34331,     0.34386,      0.3444,     0.34495,      0.3455,     0.34605,     0.34659,     0.34714,     0.34769,     0.34823,     0.34878,     0.34933,     0.34988,     0.35042,     0.35097,     0.35152,     0.35206,     0.35261,     0.35316,     0.35371,     0.35425,\n",
              "             0.3548,     0.35535,     0.35589,     0.35644,     0.35699,     0.35753,     0.35808,     0.35863,     0.35918,     0.35972,     0.36027,     0.36082,     0.36136,     0.36191,     0.36246,     0.36301,     0.36355,      0.3641,     0.36465,     0.36519,     0.36574,     0.36629,     0.36684,\n",
              "            0.36738,     0.36793,     0.36848,     0.36902,     0.36957,     0.37012,     0.37067,     0.37121,     0.37176,     0.37231,     0.37285,      0.3734,     0.37395,      0.3745,     0.37728,     0.40657,     0.42876,      0.4295,     0.43025,     0.43099,     0.43174,     0.43248,     0.43323,\n",
              "            0.43397,     0.43472,     0.43546,     0.43621,     0.43695,      0.4377,     0.43844,     0.43919,     0.43993,     0.44068,     0.44143,     0.44217,     0.44292,     0.44366,     0.44441,     0.44515,      0.4459,     0.44664,     0.44739,     0.44813,     0.44888,     0.44962,     0.45037,\n",
              "            0.45111,     0.45186,      0.4526,     0.45335,     0.45409,     0.45484,     0.45558,     0.45633,     0.45707,     0.45782,     0.45856,     0.45931,     0.46006,      0.4608,     0.46155,     0.46229,     0.46304,     0.46378,     0.46453,     0.46527,     0.46602,     0.46676,     0.46751,\n",
              "            0.46825,       0.469,     0.46974,     0.47049,     0.47123,     0.47198,     0.47272,     0.47347,     0.47421,     0.47496,      0.4757,     0.47645,     0.47719,     0.47794,     0.47869,     0.47943,     0.48018,     0.48092,     0.48167,     0.48241,     0.48316,      0.4839,     0.48465,\n",
              "            0.48539,     0.48614,     0.48688,     0.48763,     0.48837,     0.48912,     0.48986,     0.49061,     0.49135,      0.4921,     0.49284,     0.49359,     0.49433,     0.49508,     0.49582,     0.49657,     0.49732,     0.49806,     0.49881,     0.49955,     0.50032,     0.50111,     0.50191,\n",
              "             0.5027,      0.5035,      0.5043,     0.50509,     0.50589,     0.50669,     0.50748,     0.50828,     0.50907,     0.50987,     0.51067,     0.51146,     0.51226,     0.51305,     0.51385,     0.51465,     0.51544,     0.51624,     0.51704,     0.51783,     0.51863,     0.51942,     0.52022,\n",
              "            0.52102,     0.52181,     0.52261,      0.5234,      0.5242,       0.525,     0.52579,     0.52659,     0.52739,     0.52818,     0.52898,     0.52977,     0.53057,     0.53137,     0.53216,     0.53296,     0.53375,     0.53455,     0.53535,     0.53614,     0.53694,     0.53773,     0.53853,\n",
              "            0.53933,     0.54012,     0.54092,     0.54172,     0.54251,     0.54331,      0.5441,      0.5449,      0.5457,     0.54649,     0.54729,     0.54808,     0.54888,     0.54968,     0.55047,     0.55127,     0.55207,     0.55286,     0.55366,     0.55445,     0.55525,     0.55605,     0.55684,\n",
              "            0.55764,     0.55843,     0.55923,     0.56003,     0.56082,     0.56162,     0.56242,     0.56321,     0.56401,      0.5648,      0.5656,      0.5664,     0.56719,     0.56799,     0.56878,     0.56958,     0.57038,     0.57117,     0.57197,     0.57276,     0.57356,     0.57436,     0.57515,\n",
              "            0.57595,     0.57675,     0.57754,     0.57834,     0.57913,     0.57993,     0.58073,     0.58152,     0.58232,     0.58311,     0.58391,     0.58471,      0.5855,      0.5863,      0.5871,     0.58789,     0.58869,     0.58948,     0.59028,     0.59108,     0.59187,     0.59267,     0.59346,\n",
              "            0.59426,     0.59506,     0.59585,     0.59665,     0.59745,     0.59824,     0.59904,     0.59983,     0.61131,     0.62561,     0.63992,     0.65422,     0.66852,     0.68282,     0.69713,     0.71143,     0.72573,     0.74003,     0.75019,     0.75082,     0.75145,     0.75207,      0.7527,\n",
              "            0.75333,     0.75396,     0.75459,     0.75522,     0.75584,     0.75647,      0.7571,     0.75773,     0.75836,     0.75898,     0.75961,     0.76024,     0.76087,      0.7615,     0.76212,     0.76275,     0.76338,     0.76401,     0.76464,     0.76526,     0.76589,     0.76652,     0.76715,\n",
              "            0.76778,      0.7684,     0.76903,     0.76966,     0.77029,     0.77092,     0.77155,     0.77217,      0.7728,     0.77343,     0.77406,     0.77469,     0.77531,     0.77594,     0.77657,      0.7772,     0.77783,     0.77845,     0.77908,     0.77971,     0.78034,     0.78097,     0.78159,\n",
              "            0.78222,     0.78285,     0.78348,     0.78411,     0.78473,     0.78536,     0.78599,     0.78662,     0.78725,     0.78788,      0.7885,     0.78913,     0.78976,     0.79039,     0.79102,     0.79164,     0.79227,      0.7929,     0.79353,     0.79416,     0.79478,     0.79541,     0.79604,\n",
              "            0.79667,      0.7973,     0.79792,     0.79855,     0.79918,     0.79981,     0.80044,     0.80106,     0.80169,     0.80232,     0.80295,     0.80358,     0.80421,     0.80483,     0.80546,     0.80609,     0.80672,     0.80735,     0.80797,      0.8086,     0.80923,     0.80986,     0.81049,\n",
              "            0.81111,     0.81174,     0.81237,       0.813,     0.81363,     0.81425,     0.81488,     0.81551,     0.81614,     0.81677,     0.81739,     0.81802,     0.81865,     0.81928,     0.81991,     0.82054,     0.82116,     0.82179,     0.82242,     0.82305,     0.82368,      0.8243,     0.82493,\n",
              "            0.82556,     0.82619,     0.82682,     0.82744,     0.82807,      0.8287,     0.82933,     0.82996,     0.83058,     0.83121,     0.83184,     0.83247,      0.8331,     0.83372,     0.83435,     0.83498,     0.83561,     0.83624,     0.83687,     0.83749,     0.83812,     0.83875,     0.83938,\n",
              "            0.84001,     0.84063,     0.84126,     0.84189,     0.84252,     0.84315,     0.84377,      0.8444,     0.84503,     0.84566,     0.84629,     0.84691,     0.84754,     0.84817,      0.8488,     0.84943,     0.85006,     0.85068,     0.85131,     0.85194,     0.85257,      0.8532,     0.85382,\n",
              "            0.85445,     0.85508,     0.85571,     0.85634,     0.85696,     0.85759,     0.85822,     0.85885,     0.85948,      0.8601,     0.86073,     0.86136,     0.86199,     0.86262,     0.86324,     0.86387,      0.8645,     0.86513,     0.86576,     0.86639,     0.86701,     0.86764,     0.86827,\n",
              "             0.8689,     0.86953,     0.87015,     0.87078,     0.87141,     0.87204,     0.87267,     0.87329,     0.87392,     0.87455,     0.87518,     0.87581,     0.87643,     0.87706,     0.87769,     0.87832,     0.87895,     0.87957,      0.8802,     0.88083,     0.88146,     0.88209,     0.88272,\n",
              "            0.88334,     0.88397,      0.8846,     0.88523,     0.88586,     0.88648,     0.88711,     0.88774,     0.88837,       0.889,     0.88962,     0.89025,     0.89088,     0.89151,     0.89214,     0.89276,     0.89339,     0.89402,     0.89465,     0.89528,      0.8959,     0.89653,     0.89716,\n",
              "            0.89779,     0.89842,     0.89905,     0.89967,      0.9003,     0.90093,     0.90156,     0.90219,     0.90281,     0.90344,     0.90407,      0.9047,     0.90533,     0.90595,     0.90658,     0.90721,     0.90784,     0.90847,     0.90909,     0.90972,     0.91035,     0.91098,     0.91161,\n",
              "            0.91223,     0.91286,     0.91349,     0.91412,     0.91475,     0.91538,       0.916,     0.91663,     0.91726,     0.91789,     0.91852,     0.91914,     0.91977,      0.9204,     0.92103,     0.92166,     0.92228,     0.92291,     0.92354,     0.92417,      0.9248,     0.92542,     0.92605,\n",
              "            0.92668,     0.92731,     0.92794,     0.92856,     0.92919,     0.92982,     0.93045,     0.93108,     0.93171,     0.93233,     0.93296,     0.93359,     0.93422,     0.93485,     0.93547,      0.9361,     0.93673,     0.93736,     0.93799,     0.93861,     0.93924,     0.93987,      0.9405,\n",
              "            0.94113,     0.94175,     0.94238,     0.94301,     0.94364,     0.94427,     0.94489,     0.94552,     0.94615,     0.94678,     0.94741,     0.94804,     0.94866,     0.94929,     0.94992,     0.95055,     0.95118,      0.9518,     0.95243,     0.95306,     0.95369,     0.95432,     0.95494,\n",
              "            0.95557,      0.9562,     0.95683,     0.95746,     0.95808,     0.95871,     0.95934,     0.95997,      0.9606,     0.96123,     0.96185,     0.96248,     0.96311,     0.96374,     0.96437,     0.96499,     0.96562,     0.96625,     0.96688,     0.96751,     0.96813,     0.96876,     0.96939,\n",
              "            0.97002,     0.97065,     0.97127,      0.9719,     0.97253,     0.97316,     0.97379,     0.97441,     0.97504,     0.97567,      0.9763,     0.97693,     0.97756,     0.97818,     0.97881,     0.97944,     0.98007,      0.9807,     0.98132,     0.98195,     0.98258,     0.98321,     0.98384,\n",
              "            0.98446,     0.98509,     0.98572,     0.98635,     0.98698,      0.9876,     0.98823,     0.98886,     0.98949,     0.99012,     0.99074,     0.99137,       0.992,     0.99263,     0.99326,     0.99389,     0.99451,     0.99514,     0.99577,      0.9964,     0.99703,     0.99765,     0.99828,\n",
              "            0.99891,     0.99954,           1,           1,           1,           1,           1,           1,           1,           1,           1,           1,           1,           1,           1,           1,           1,           1,           1,           1,           1,           1,           1,\n",
              "                  1,           1,           1,           1,           1,           1,           1,           1,           1,           1,           1,           1,           1,           1,           1,           1,           1,           1,           1,           1,           1,           1,           1,\n",
              "                  1,           1,           1,           1,           1,           1,           1,           1,           1,           1,           1,           1,           1,           1,           1,           1,           1,           1,           1,           1,           1,           1,           1,\n",
              "                  1,           1,           1,           1,           1,           1,           1,           1,           1,           1,           1,           1,           1,           1,           1,           1,           1,           1,           1,           1,           1,           1,           1,\n",
              "                  1,           1,           1,           1,           1,           1,           1,           1,           1,           1,           1,           1,           1,           1,           1,           1,           1,           1,           1,           1,           1,           1,           1,\n",
              "                  1,           1,           1,           1,           1,           1,           1,           1,           1,           1,           1,           1,           1,           1,           1,           1,           1,           1,           1,           1,           1,           1,           1,\n",
              "                  1,           1,           1,           1,           1,           1,           1,           1,           1,           1,           1,           1,           1,           1,           1,           1,           1,           1,           1,           1,           1,           1,           1,\n",
              "                  1,           1,           1,           1,           1,           1,           1,           1,           1,           1,           1]]), 'Confidence', 'Precision'], [array([          0,    0.001001,    0.002002,    0.003003,    0.004004,    0.005005,    0.006006,    0.007007,    0.008008,    0.009009,     0.01001,    0.011011,    0.012012,    0.013013,    0.014014,    0.015015,    0.016016,    0.017017,    0.018018,    0.019019,     0.02002,    0.021021,    0.022022,    0.023023,\n",
              "          0.024024,    0.025025,    0.026026,    0.027027,    0.028028,    0.029029,     0.03003,    0.031031,    0.032032,    0.033033,    0.034034,    0.035035,    0.036036,    0.037037,    0.038038,    0.039039,     0.04004,    0.041041,    0.042042,    0.043043,    0.044044,    0.045045,    0.046046,    0.047047,\n",
              "          0.048048,    0.049049,     0.05005,    0.051051,    0.052052,    0.053053,    0.054054,    0.055055,    0.056056,    0.057057,    0.058058,    0.059059,     0.06006,    0.061061,    0.062062,    0.063063,    0.064064,    0.065065,    0.066066,    0.067067,    0.068068,    0.069069,     0.07007,    0.071071,\n",
              "          0.072072,    0.073073,    0.074074,    0.075075,    0.076076,    0.077077,    0.078078,    0.079079,     0.08008,    0.081081,    0.082082,    0.083083,    0.084084,    0.085085,    0.086086,    0.087087,    0.088088,    0.089089,     0.09009,    0.091091,    0.092092,    0.093093,    0.094094,    0.095095,\n",
              "          0.096096,    0.097097,    0.098098,    0.099099,      0.1001,      0.1011,      0.1021,      0.1031,      0.1041,     0.10511,     0.10611,     0.10711,     0.10811,     0.10911,     0.11011,     0.11111,     0.11211,     0.11311,     0.11411,     0.11512,     0.11612,     0.11712,     0.11812,     0.11912,\n",
              "           0.12012,     0.12112,     0.12212,     0.12312,     0.12412,     0.12513,     0.12613,     0.12713,     0.12813,     0.12913,     0.13013,     0.13113,     0.13213,     0.13313,     0.13413,     0.13514,     0.13614,     0.13714,     0.13814,     0.13914,     0.14014,     0.14114,     0.14214,     0.14314,\n",
              "           0.14414,     0.14515,     0.14615,     0.14715,     0.14815,     0.14915,     0.15015,     0.15115,     0.15215,     0.15315,     0.15415,     0.15516,     0.15616,     0.15716,     0.15816,     0.15916,     0.16016,     0.16116,     0.16216,     0.16316,     0.16416,     0.16517,     0.16617,     0.16717,\n",
              "           0.16817,     0.16917,     0.17017,     0.17117,     0.17217,     0.17317,     0.17417,     0.17518,     0.17618,     0.17718,     0.17818,     0.17918,     0.18018,     0.18118,     0.18218,     0.18318,     0.18418,     0.18519,     0.18619,     0.18719,     0.18819,     0.18919,     0.19019,     0.19119,\n",
              "           0.19219,     0.19319,     0.19419,      0.1952,      0.1962,      0.1972,      0.1982,      0.1992,      0.2002,      0.2012,      0.2022,      0.2032,      0.2042,     0.20521,     0.20621,     0.20721,     0.20821,     0.20921,     0.21021,     0.21121,     0.21221,     0.21321,     0.21421,     0.21522,\n",
              "           0.21622,     0.21722,     0.21822,     0.21922,     0.22022,     0.22122,     0.22222,     0.22322,     0.22422,     0.22523,     0.22623,     0.22723,     0.22823,     0.22923,     0.23023,     0.23123,     0.23223,     0.23323,     0.23423,     0.23524,     0.23624,     0.23724,     0.23824,     0.23924,\n",
              "           0.24024,     0.24124,     0.24224,     0.24324,     0.24424,     0.24525,     0.24625,     0.24725,     0.24825,     0.24925,     0.25025,     0.25125,     0.25225,     0.25325,     0.25425,     0.25526,     0.25626,     0.25726,     0.25826,     0.25926,     0.26026,     0.26126,     0.26226,     0.26326,\n",
              "           0.26426,     0.26527,     0.26627,     0.26727,     0.26827,     0.26927,     0.27027,     0.27127,     0.27227,     0.27327,     0.27427,     0.27528,     0.27628,     0.27728,     0.27828,     0.27928,     0.28028,     0.28128,     0.28228,     0.28328,     0.28428,     0.28529,     0.28629,     0.28729,\n",
              "           0.28829,     0.28929,     0.29029,     0.29129,     0.29229,     0.29329,     0.29429,      0.2953,      0.2963,      0.2973,      0.2983,      0.2993,      0.3003,      0.3013,      0.3023,      0.3033,      0.3043,     0.30531,     0.30631,     0.30731,     0.30831,     0.30931,     0.31031,     0.31131,\n",
              "           0.31231,     0.31331,     0.31431,     0.31532,     0.31632,     0.31732,     0.31832,     0.31932,     0.32032,     0.32132,     0.32232,     0.32332,     0.32432,     0.32533,     0.32633,     0.32733,     0.32833,     0.32933,     0.33033,     0.33133,     0.33233,     0.33333,     0.33433,     0.33534,\n",
              "           0.33634,     0.33734,     0.33834,     0.33934,     0.34034,     0.34134,     0.34234,     0.34334,     0.34434,     0.34535,     0.34635,     0.34735,     0.34835,     0.34935,     0.35035,     0.35135,     0.35235,     0.35335,     0.35435,     0.35536,     0.35636,     0.35736,     0.35836,     0.35936,\n",
              "           0.36036,     0.36136,     0.36236,     0.36336,     0.36436,     0.36537,     0.36637,     0.36737,     0.36837,     0.36937,     0.37037,     0.37137,     0.37237,     0.37337,     0.37437,     0.37538,     0.37638,     0.37738,     0.37838,     0.37938,     0.38038,     0.38138,     0.38238,     0.38338,\n",
              "           0.38438,     0.38539,     0.38639,     0.38739,     0.38839,     0.38939,     0.39039,     0.39139,     0.39239,     0.39339,     0.39439,      0.3954,      0.3964,      0.3974,      0.3984,      0.3994,      0.4004,      0.4014,      0.4024,      0.4034,      0.4044,     0.40541,     0.40641,     0.40741,\n",
              "           0.40841,     0.40941,     0.41041,     0.41141,     0.41241,     0.41341,     0.41441,     0.41542,     0.41642,     0.41742,     0.41842,     0.41942,     0.42042,     0.42142,     0.42242,     0.42342,     0.42442,     0.42543,     0.42643,     0.42743,     0.42843,     0.42943,     0.43043,     0.43143,\n",
              "           0.43243,     0.43343,     0.43443,     0.43544,     0.43644,     0.43744,     0.43844,     0.43944,     0.44044,     0.44144,     0.44244,     0.44344,     0.44444,     0.44545,     0.44645,     0.44745,     0.44845,     0.44945,     0.45045,     0.45145,     0.45245,     0.45345,     0.45445,     0.45546,\n",
              "           0.45646,     0.45746,     0.45846,     0.45946,     0.46046,     0.46146,     0.46246,     0.46346,     0.46446,     0.46547,     0.46647,     0.46747,     0.46847,     0.46947,     0.47047,     0.47147,     0.47247,     0.47347,     0.47447,     0.47548,     0.47648,     0.47748,     0.47848,     0.47948,\n",
              "           0.48048,     0.48148,     0.48248,     0.48348,     0.48448,     0.48549,     0.48649,     0.48749,     0.48849,     0.48949,     0.49049,     0.49149,     0.49249,     0.49349,     0.49449,      0.4955,      0.4965,      0.4975,      0.4985,      0.4995,      0.5005,      0.5015,      0.5025,      0.5035,\n",
              "            0.5045,     0.50551,     0.50651,     0.50751,     0.50851,     0.50951,     0.51051,     0.51151,     0.51251,     0.51351,     0.51451,     0.51552,     0.51652,     0.51752,     0.51852,     0.51952,     0.52052,     0.52152,     0.52252,     0.52352,     0.52452,     0.52553,     0.52653,     0.52753,\n",
              "           0.52853,     0.52953,     0.53053,     0.53153,     0.53253,     0.53353,     0.53453,     0.53554,     0.53654,     0.53754,     0.53854,     0.53954,     0.54054,     0.54154,     0.54254,     0.54354,     0.54454,     0.54555,     0.54655,     0.54755,     0.54855,     0.54955,     0.55055,     0.55155,\n",
              "           0.55255,     0.55355,     0.55455,     0.55556,     0.55656,     0.55756,     0.55856,     0.55956,     0.56056,     0.56156,     0.56256,     0.56356,     0.56456,     0.56557,     0.56657,     0.56757,     0.56857,     0.56957,     0.57057,     0.57157,     0.57257,     0.57357,     0.57457,     0.57558,\n",
              "           0.57658,     0.57758,     0.57858,     0.57958,     0.58058,     0.58158,     0.58258,     0.58358,     0.58458,     0.58559,     0.58659,     0.58759,     0.58859,     0.58959,     0.59059,     0.59159,     0.59259,     0.59359,     0.59459,      0.5956,      0.5966,      0.5976,      0.5986,      0.5996,\n",
              "            0.6006,      0.6016,      0.6026,      0.6036,      0.6046,     0.60561,     0.60661,     0.60761,     0.60861,     0.60961,     0.61061,     0.61161,     0.61261,     0.61361,     0.61461,     0.61562,     0.61662,     0.61762,     0.61862,     0.61962,     0.62062,     0.62162,     0.62262,     0.62362,\n",
              "           0.62462,     0.62563,     0.62663,     0.62763,     0.62863,     0.62963,     0.63063,     0.63163,     0.63263,     0.63363,     0.63463,     0.63564,     0.63664,     0.63764,     0.63864,     0.63964,     0.64064,     0.64164,     0.64264,     0.64364,     0.64464,     0.64565,     0.64665,     0.64765,\n",
              "           0.64865,     0.64965,     0.65065,     0.65165,     0.65265,     0.65365,     0.65465,     0.65566,     0.65666,     0.65766,     0.65866,     0.65966,     0.66066,     0.66166,     0.66266,     0.66366,     0.66466,     0.66567,     0.66667,     0.66767,     0.66867,     0.66967,     0.67067,     0.67167,\n",
              "           0.67267,     0.67367,     0.67467,     0.67568,     0.67668,     0.67768,     0.67868,     0.67968,     0.68068,     0.68168,     0.68268,     0.68368,     0.68468,     0.68569,     0.68669,     0.68769,     0.68869,     0.68969,     0.69069,     0.69169,     0.69269,     0.69369,     0.69469,      0.6957,\n",
              "            0.6967,      0.6977,      0.6987,      0.6997,      0.7007,      0.7017,      0.7027,      0.7037,      0.7047,     0.70571,     0.70671,     0.70771,     0.70871,     0.70971,     0.71071,     0.71171,     0.71271,     0.71371,     0.71471,     0.71572,     0.71672,     0.71772,     0.71872,     0.71972,\n",
              "           0.72072,     0.72172,     0.72272,     0.72372,     0.72472,     0.72573,     0.72673,     0.72773,     0.72873,     0.72973,     0.73073,     0.73173,     0.73273,     0.73373,     0.73473,     0.73574,     0.73674,     0.73774,     0.73874,     0.73974,     0.74074,     0.74174,     0.74274,     0.74374,\n",
              "           0.74474,     0.74575,     0.74675,     0.74775,     0.74875,     0.74975,     0.75075,     0.75175,     0.75275,     0.75375,     0.75475,     0.75576,     0.75676,     0.75776,     0.75876,     0.75976,     0.76076,     0.76176,     0.76276,     0.76376,     0.76476,     0.76577,     0.76677,     0.76777,\n",
              "           0.76877,     0.76977,     0.77077,     0.77177,     0.77277,     0.77377,     0.77477,     0.77578,     0.77678,     0.77778,     0.77878,     0.77978,     0.78078,     0.78178,     0.78278,     0.78378,     0.78478,     0.78579,     0.78679,     0.78779,     0.78879,     0.78979,     0.79079,     0.79179,\n",
              "           0.79279,     0.79379,     0.79479,      0.7958,      0.7968,      0.7978,      0.7988,      0.7998,      0.8008,      0.8018,      0.8028,      0.8038,      0.8048,     0.80581,     0.80681,     0.80781,     0.80881,     0.80981,     0.81081,     0.81181,     0.81281,     0.81381,     0.81481,     0.81582,\n",
              "           0.81682,     0.81782,     0.81882,     0.81982,     0.82082,     0.82182,     0.82282,     0.82382,     0.82482,     0.82583,     0.82683,     0.82783,     0.82883,     0.82983,     0.83083,     0.83183,     0.83283,     0.83383,     0.83483,     0.83584,     0.83684,     0.83784,     0.83884,     0.83984,\n",
              "           0.84084,     0.84184,     0.84284,     0.84384,     0.84484,     0.84585,     0.84685,     0.84785,     0.84885,     0.84985,     0.85085,     0.85185,     0.85285,     0.85385,     0.85485,     0.85586,     0.85686,     0.85786,     0.85886,     0.85986,     0.86086,     0.86186,     0.86286,     0.86386,\n",
              "           0.86486,     0.86587,     0.86687,     0.86787,     0.86887,     0.86987,     0.87087,     0.87187,     0.87287,     0.87387,     0.87487,     0.87588,     0.87688,     0.87788,     0.87888,     0.87988,     0.88088,     0.88188,     0.88288,     0.88388,     0.88488,     0.88589,     0.88689,     0.88789,\n",
              "           0.88889,     0.88989,     0.89089,     0.89189,     0.89289,     0.89389,     0.89489,      0.8959,      0.8969,      0.8979,      0.8989,      0.8999,      0.9009,      0.9019,      0.9029,      0.9039,      0.9049,     0.90591,     0.90691,     0.90791,     0.90891,     0.90991,     0.91091,     0.91191,\n",
              "           0.91291,     0.91391,     0.91491,     0.91592,     0.91692,     0.91792,     0.91892,     0.91992,     0.92092,     0.92192,     0.92292,     0.92392,     0.92492,     0.92593,     0.92693,     0.92793,     0.92893,     0.92993,     0.93093,     0.93193,     0.93293,     0.93393,     0.93493,     0.93594,\n",
              "           0.93694,     0.93794,     0.93894,     0.93994,     0.94094,     0.94194,     0.94294,     0.94394,     0.94494,     0.94595,     0.94695,     0.94795,     0.94895,     0.94995,     0.95095,     0.95195,     0.95295,     0.95395,     0.95495,     0.95596,     0.95696,     0.95796,     0.95896,     0.95996,\n",
              "           0.96096,     0.96196,     0.96296,     0.96396,     0.96496,     0.96597,     0.96697,     0.96797,     0.96897,     0.96997,     0.97097,     0.97197,     0.97297,     0.97397,     0.97497,     0.97598,     0.97698,     0.97798,     0.97898,     0.97998,     0.98098,     0.98198,     0.98298,     0.98398,\n",
              "           0.98498,     0.98599,     0.98699,     0.98799,     0.98899,     0.98999,     0.99099,     0.99199,     0.99299,     0.99399,     0.99499,       0.996,       0.997,       0.998,       0.999,           1]), array([[          1,           1,           1,           1,           1,           1,           1,           1,           1,           1,           1,         0.8,         0.8,         0.8,         0.8,         0.8,         0.8,         0.8,         0.8,         0.6,         0.6,         0.6,         0.6,\n",
              "                0.6,         0.6,         0.6,         0.6,         0.6,         0.6,         0.6,         0.6,         0.6,         0.6,         0.6,         0.6,         0.6,         0.6,         0.6,         0.6,         0.6,         0.6,         0.6,         0.6,         0.6,         0.6,         0.6,\n",
              "                0.6,         0.6,         0.6,         0.6,         0.6,         0.6,         0.6,         0.6,         0.6,         0.6,         0.6,         0.6,         0.6,         0.6,         0.6,         0.6,         0.6,         0.6,         0.6,         0.6,         0.6,         0.6,         0.6,\n",
              "                0.6,         0.6,         0.6,         0.6,         0.6,         0.6,         0.6,         0.6,         0.6,         0.6,         0.6,         0.6,         0.6,         0.6,         0.6,         0.6,         0.6,         0.6,         0.6,         0.6,         0.6,         0.6,         0.6,\n",
              "                0.6,         0.6,         0.6,         0.6,         0.6,         0.6,         0.6,         0.6,         0.6,         0.6,         0.6,         0.6,         0.6,         0.6,         0.6,         0.6,         0.6,         0.6,         0.6,         0.6,         0.6,         0.6,         0.6,\n",
              "                0.6,         0.6,         0.6,         0.6,         0.6,         0.6,         0.6,         0.6,         0.6,         0.6,         0.6,         0.6,         0.6,         0.6,         0.6,         0.6,         0.6,         0.6,         0.6,         0.6,         0.6,         0.6,         0.6,\n",
              "                0.6,         0.6,         0.6,         0.6,         0.6,         0.6,         0.6,         0.6,         0.6,         0.6,         0.6,         0.6,         0.6,         0.6,         0.6,         0.6,         0.6,         0.6,         0.6,         0.6,         0.6,         0.6,         0.6,\n",
              "                0.6,         0.6,         0.6,         0.6,         0.6,         0.6,         0.6,         0.6,         0.6,         0.6,         0.6,         0.6,         0.6,         0.6,         0.6,         0.6,         0.6,         0.6,         0.6,         0.6,         0.6,         0.6,         0.6,\n",
              "                0.6,         0.6,         0.6,         0.6,         0.6,         0.6,         0.6,         0.6,         0.6,         0.6,         0.6,         0.6,         0.6,         0.6,         0.6,         0.6,         0.6,         0.6,         0.6,         0.6,         0.6,         0.6,         0.6,\n",
              "                0.6,         0.6,         0.6,         0.6,         0.6,         0.6,         0.6,         0.6,         0.6,         0.6,         0.6,         0.6,         0.6,         0.6,         0.6,         0.6,         0.6,         0.6,         0.6,         0.6,         0.6,         0.6,         0.6,\n",
              "                0.6,         0.6,         0.6,         0.6,         0.6,         0.6,         0.6,         0.6,         0.6,         0.6,         0.6,         0.6,         0.6,         0.6,         0.6,         0.6,         0.6,         0.6,         0.6,         0.6,         0.6,         0.6,         0.6,\n",
              "                0.6,         0.6,         0.6,         0.6,         0.6,         0.6,         0.6,         0.6,         0.6,         0.6,         0.6,         0.6,         0.6,         0.6,         0.6,         0.6,         0.6,         0.6,         0.6,         0.6,         0.6,         0.6,         0.6,\n",
              "                0.6,         0.6,         0.6,         0.6,         0.6,         0.6,         0.6,         0.6,         0.6,         0.6,         0.6,         0.6,         0.6,         0.6,         0.6,         0.6,         0.6,         0.6,         0.6,         0.6,         0.6,         0.6,         0.6,\n",
              "                0.6,         0.6,         0.6,         0.6,         0.6,         0.6,         0.6,         0.6,         0.6,         0.6,         0.6,         0.6,         0.6,         0.6,         0.6,         0.6,         0.6,         0.6,         0.6,         0.6,         0.6,         0.6,         0.6,\n",
              "                0.6,         0.6,         0.6,         0.6,         0.6,         0.6,         0.6,         0.6,         0.6,         0.6,         0.6,         0.6,         0.6,         0.6,         0.6,         0.6,         0.6,         0.6,         0.6,         0.6,         0.6,         0.6,         0.6,\n",
              "                0.6,         0.6,         0.6,         0.6,         0.6,         0.6,         0.6,         0.6,         0.6,         0.6,         0.6,         0.6,         0.6,         0.6,         0.6,         0.6,         0.6,         0.6,         0.6,         0.6,         0.6,         0.6,         0.6,\n",
              "                0.6,         0.6,         0.6,         0.6,         0.6,         0.6,         0.6,         0.6,         0.6,         0.6,         0.6,         0.6,         0.6,         0.6,         0.6,         0.6,         0.6,         0.6,         0.6,         0.6,         0.6,         0.6,         0.6,\n",
              "                0.6,         0.6,         0.6,         0.6,         0.6,         0.6,         0.6,         0.6,         0.6,         0.6,         0.6,         0.6,         0.6,         0.6,         0.6,         0.6,         0.6,         0.6,         0.6,         0.6,         0.6,         0.6,         0.6,\n",
              "                0.6,         0.6,         0.6,         0.6,         0.6,         0.6,         0.6,         0.6,         0.6,         0.6,         0.6,         0.6,         0.6,         0.6,         0.6,         0.6,         0.6,         0.6,         0.6,         0.6,         0.6,         0.6,         0.6,\n",
              "                0.6,         0.6,         0.6,         0.6,         0.6,         0.6,         0.6,         0.6,         0.6,         0.6,         0.6,         0.6,         0.6,         0.6,         0.6,         0.6,         0.6,         0.6,         0.6,         0.6,         0.6,         0.6,         0.6,\n",
              "                0.6,         0.6,         0.6,         0.6,         0.6,         0.6,         0.6,         0.6,         0.6,         0.6,         0.6,         0.6,         0.6,         0.6,         0.6,         0.6,         0.6,         0.6,         0.6,         0.6,         0.6,         0.6,         0.6,\n",
              "                0.6,         0.6,         0.6,         0.6,         0.6,         0.6,         0.6,         0.6,         0.6,         0.6,         0.6,         0.6,         0.6,         0.6,         0.6,         0.6,         0.6,         0.6,         0.6,         0.6,         0.6,         0.6,         0.6,\n",
              "                0.6,         0.6,         0.6,         0.6,         0.6,         0.6,         0.6,         0.6,         0.6,         0.6,         0.6,         0.6,         0.6,         0.6,         0.6,         0.6,         0.6,         0.6,         0.6,         0.6,         0.6,         0.6,         0.6,\n",
              "                0.6,         0.6,         0.6,         0.6,         0.6,         0.6,         0.6,         0.6,         0.6,         0.6,         0.6,         0.6,         0.6,         0.6,         0.6,         0.6,         0.6,         0.6,         0.6,         0.6,         0.6,         0.6,         0.6,\n",
              "                0.6,         0.6,         0.6,         0.6,         0.6,         0.6,         0.6,         0.6,         0.6,         0.6,         0.6,         0.6,         0.6,         0.6,         0.6,         0.6,         0.6,         0.6,         0.6,         0.6,         0.6,         0.6,         0.6,\n",
              "                0.6,         0.6,         0.6,         0.6,         0.6,         0.6,         0.6,         0.6,         0.6,         0.6,         0.6,         0.6,         0.6,         0.6,         0.6,         0.6,         0.6,         0.6,         0.6,         0.6,         0.6,         0.6,         0.6,\n",
              "                0.6,         0.6,         0.6,         0.6,         0.6,         0.6,         0.6,         0.6,         0.6,         0.6,         0.6,         0.6,         0.6,         0.6,         0.6,         0.6,         0.6,         0.6,         0.6,         0.6,         0.6,         0.6,         0.6,\n",
              "                0.6,         0.6,         0.6,         0.6,         0.6,         0.6,         0.6,         0.6,         0.6,         0.6,         0.6,         0.6,         0.6,         0.6,         0.6,         0.6,         0.6,         0.6,         0.6,         0.6,         0.6,         0.6,         0.6,\n",
              "                0.6,         0.6,         0.6,         0.6,         0.6,         0.6,         0.6,         0.6,         0.6,         0.6,         0.6,         0.6,         0.6,         0.6,         0.6,         0.6,         0.6,         0.6,         0.6,         0.6,         0.6,         0.6,         0.6,\n",
              "                0.6,         0.6,         0.6,         0.6,         0.6,         0.6,         0.6,         0.6,         0.6,         0.6,         0.6,         0.6,         0.6,         0.6,         0.6,         0.6,         0.6,         0.6,         0.6,         0.6,         0.6,         0.6,         0.6,\n",
              "                0.6,         0.6,         0.6,         0.6,         0.6,         0.6,         0.6,         0.6,         0.6,         0.6,         0.6,         0.6,         0.6,         0.6,         0.6,         0.6,         0.6,         0.6,         0.6,         0.6,         0.6,         0.6,         0.6,\n",
              "                0.6,         0.6,         0.6,         0.6,         0.6,         0.6,         0.6,         0.6,         0.6,         0.6,         0.6,         0.6,         0.6,         0.6,         0.6,         0.6,         0.6,         0.6,         0.6,         0.6,         0.6,         0.6,         0.6,\n",
              "                0.6,         0.6,         0.6,         0.6,         0.6,         0.6,         0.6,         0.6,         0.6,         0.6,         0.6,         0.6,         0.6,         0.6,         0.6,         0.6,         0.6,         0.6,         0.6,         0.6,         0.6,         0.6,         0.6,\n",
              "                0.6,         0.6,         0.6,         0.6,         0.6,         0.6,         0.6,         0.6,         0.6,         0.6,         0.6,         0.6,         0.6,         0.6,         0.6,         0.6,         0.6,         0.6,         0.6,         0.6,         0.6,         0.6,         0.6,\n",
              "                0.6,         0.6,         0.6,         0.6,         0.6,         0.6,         0.6,         0.6,         0.6,         0.6,         0.6,         0.6,         0.6,         0.6,         0.6,         0.6,         0.6,         0.6,         0.6,         0.6,         0.6,         0.6,         0.6,\n",
              "                0.6,         0.6,         0.6,         0.6,         0.6,         0.6,         0.6,         0.6,         0.6,         0.6,         0.6,         0.6,         0.6,         0.6,         0.6,         0.6,         0.6,         0.6,         0.6,         0.6,         0.6,         0.6,         0.6,\n",
              "                0.6,         0.6,     0.59919,     0.59613,     0.59307,     0.59001,     0.58695,     0.58389,     0.58083,     0.57777,     0.57471,     0.57165,     0.56859,     0.56553,     0.56247,     0.55941,     0.55635,      0.5533,     0.55024,     0.54718,     0.54412,     0.54106,       0.538,\n",
              "            0.53494,     0.53188,     0.52882,     0.52576,      0.5227,     0.51964,     0.51658,     0.51352,     0.51046,      0.5074,     0.50434,     0.50128,     0.49822,     0.49516,      0.4921,     0.48904,     0.48598,     0.48292,     0.47986,      0.4768,     0.47374,     0.47068,     0.46762,\n",
              "            0.46456,      0.4615,     0.45844,     0.45538,     0.45232,     0.44926,      0.4462,     0.44314,     0.44008,     0.43702,     0.43396,      0.4309,     0.42784,     0.42478,     0.42172,     0.41866,     0.41561,     0.41255,     0.40949,     0.40643,     0.40337,     0.40031,     0.39716,\n",
              "            0.39401,     0.39085,      0.3877,     0.38455,     0.38139,     0.37824,     0.37508,     0.37193,     0.36878,     0.36562,     0.36247,     0.35931,     0.35616,     0.35301,     0.34985,      0.3467,     0.34355,     0.34039,     0.33724,     0.33408,     0.33093,     0.32778,     0.32462,\n",
              "            0.32147,     0.31831,     0.31516,     0.31201,     0.30885,      0.3057,     0.30254,     0.29939,     0.29624,     0.29308,     0.28993,     0.28677,     0.28362,     0.28047,     0.27731,     0.27416,       0.271,     0.26785,      0.2647,     0.26154,     0.25839,     0.25524,     0.25208,\n",
              "            0.24893,     0.24577,     0.24262,     0.23947,     0.23631,     0.23316,        0.23,     0.22685,      0.2237,     0.22054,     0.21739,     0.21423,     0.21108,     0.20793,     0.20477,     0.20162,           0,           0,           0,           0,           0,           0,           0,\n",
              "                  0,           0,           0,           0,           0,           0,           0,           0,           0,           0,           0,           0,           0,           0,           0,           0,           0,           0,           0,           0,           0,           0,           0,\n",
              "                  0,           0,           0,           0,           0,           0,           0,           0,           0,           0,           0]]), 'Confidence', 'Recall']]\n",
              "fitness: 0.2616588391316196\n",
              "keys: ['metrics/precision(B)', 'metrics/recall(B)', 'metrics/mAP50(B)', 'metrics/mAP50-95(B)']\n",
              "maps: array([    0.22311])\n",
              "names: {0: 'cat'}\n",
              "plot: True\n",
              "results_dict: {'metrics/precision(B)': 0.9725304348466113, 'metrics/recall(B)': 0.6, 'metrics/mAP50(B)': 0.608563267033432, 'metrics/mAP50-95(B)': 0.22311390269808484, 'fitness': 0.2616588391316196}\n",
              "save_dir: PosixPath('runs/detect/train')\n",
              "speed: {'preprocess': 0.33626556396484375, 'inference': 39.91894721984863, 'loss': 0.003719329833984375, 'postprocess': 1.7455101013183594}\n",
              "task: 'detect'"
            ]
          },
          "metadata": {},
          "execution_count": 5
        }
      ]
    },
    {
      "cell_type": "code",
      "source": [
        "test  = YOLO(\"/content/runs/detect/train/weights/best.pt\")"
      ],
      "metadata": {
        "id": "WjeaZNifi9s_"
      },
      "execution_count": 6,
      "outputs": []
    },
    {
      "cell_type": "code",
      "source": [
        "test.predict(\"/content/drive/MyDrive/Object-Detection/data/val/images\", save= True, save_txt=True, conf = 0.5)"
      ],
      "metadata": {
        "colab": {
          "base_uri": "https://localhost:8080/"
        },
        "id": "c2TAB3y9kwzk",
        "outputId": "4d4dfbe5-ed9c-493d-a8be-b54982b9dfd2"
      },
      "execution_count": 8,
      "outputs": [
        {
          "output_type": "stream",
          "name": "stdout",
          "text": [
            "\n",
            "image 1/5 /content/drive/MyDrive/Object-Detection/data/val/images/pexels-alina-vilchenko-2698519.jpg: 576x640 (no detections), 91.5ms\n",
            "image 2/5 /content/drive/MyDrive/Object-Detection/data/val/images/pexels-anna-shvets-3846135.jpg: 448x640 1 cat, 65.8ms\n",
            "image 3/5 /content/drive/MyDrive/Object-Detection/data/val/images/pexels-malek-dridi-3861171.jpg: 480x640 1 cat, 68.5ms\n",
            "image 4/5 /content/drive/MyDrive/Object-Detection/data/val/images/pexels-pixabay-45201.jpg: 640x640 (no detections), 91.7ms\n",
            "image 5/5 /content/drive/MyDrive/Object-Detection/data/val/images/pexels-евгения-егорова-8985189.jpg: 640x448 1 cat, 72.9ms\n",
            "Speed: 3.4ms preprocess, 78.1ms inference, 2.7ms postprocess per image at shape (1, 3, 640, 448)\n",
            "Results saved to \u001b[1mruns/detect/predict\u001b[0m\n",
            "3 labels saved to runs/detect/predict/labels\n"
          ]
        },
        {
          "output_type": "execute_result",
          "data": {
            "text/plain": [
              "[ultralytics.engine.results.Results object with attributes:\n",
              " \n",
              " boxes: ultralytics.engine.results.Boxes object\n",
              " keypoints: None\n",
              " masks: None\n",
              " names: {0: 'cat'}\n",
              " orig_img: array([[[215, 218, 209],\n",
              "         [216, 219, 210],\n",
              "         [216, 219, 210],\n",
              "         ...,\n",
              "         [218, 218, 206],\n",
              "         [218, 218, 206],\n",
              "         [218, 218, 206]],\n",
              " \n",
              "        [[215, 218, 209],\n",
              "         [215, 218, 209],\n",
              "         [216, 219, 210],\n",
              "         ...,\n",
              "         [218, 218, 206],\n",
              "         [218, 218, 206],\n",
              "         [218, 218, 206]],\n",
              " \n",
              "        [[215, 218, 209],\n",
              "         [215, 218, 209],\n",
              "         [216, 219, 210],\n",
              "         ...,\n",
              "         [218, 218, 206],\n",
              "         [218, 218, 206],\n",
              "         [218, 218, 206]],\n",
              " \n",
              "        ...,\n",
              " \n",
              "        [[232, 230, 219],\n",
              "         [232, 230, 219],\n",
              "         [232, 230, 219],\n",
              "         ...,\n",
              "         [144, 147, 145],\n",
              "         [143, 146, 144],\n",
              "         [144, 147, 145]],\n",
              " \n",
              "        [[232, 230, 219],\n",
              "         [232, 230, 219],\n",
              "         [232, 230, 219],\n",
              "         ...,\n",
              "         [146, 149, 147],\n",
              "         [146, 149, 147],\n",
              "         [145, 148, 146]],\n",
              " \n",
              "        [[232, 230, 219],\n",
              "         [232, 230, 219],\n",
              "         [232, 230, 219],\n",
              "         ...,\n",
              "         [144, 147, 145],\n",
              "         [146, 149, 147],\n",
              "         [143, 146, 144]]], dtype=uint8)\n",
              " orig_shape: (2560, 2967)\n",
              " path: '/content/drive/MyDrive/Object-Detection/data/val/images/pexels-alina-vilchenko-2698519.jpg'\n",
              " probs: None\n",
              " save_dir: 'runs/detect/predict'\n",
              " speed: {'preprocess': 3.412961959838867, 'inference': 91.5217399597168, 'postprocess': 1.870870590209961},\n",
              " ultralytics.engine.results.Results object with attributes:\n",
              " \n",
              " boxes: ultralytics.engine.results.Boxes object\n",
              " keypoints: None\n",
              " masks: None\n",
              " names: {0: 'cat'}\n",
              " orig_img: array([[[238, 237, 241],\n",
              "         [238, 237, 241],\n",
              "         [238, 237, 241],\n",
              "         ...,\n",
              "         [153, 156, 161],\n",
              "         [156, 159, 164],\n",
              "         [150, 153, 158]],\n",
              " \n",
              "        [[238, 237, 241],\n",
              "         [238, 237, 241],\n",
              "         [238, 237, 241],\n",
              "         ...,\n",
              "         [154, 157, 162],\n",
              "         [157, 160, 165],\n",
              "         [154, 157, 162]],\n",
              " \n",
              "        [[238, 237, 241],\n",
              "         [238, 237, 241],\n",
              "         [238, 237, 241],\n",
              "         ...,\n",
              "         [150, 153, 158],\n",
              "         [152, 155, 160],\n",
              "         [157, 160, 165]],\n",
              " \n",
              "        ...,\n",
              " \n",
              "        [[191, 190, 194],\n",
              "         [191, 190, 194],\n",
              "         [189, 188, 192],\n",
              "         ...,\n",
              "         [148, 152, 157],\n",
              "         [146, 150, 155],\n",
              "         [144, 148, 153]],\n",
              " \n",
              "        [[193, 192, 196],\n",
              "         [193, 192, 196],\n",
              "         [191, 190, 194],\n",
              "         ...,\n",
              "         [149, 153, 158],\n",
              "         [146, 150, 155],\n",
              "         [144, 148, 153]],\n",
              " \n",
              "        [[186, 185, 189],\n",
              "         [185, 184, 188],\n",
              "         [185, 184, 188],\n",
              "         ...,\n",
              "         [151, 155, 160],\n",
              "         [150, 154, 159],\n",
              "         [148, 152, 157]]], dtype=uint8)\n",
              " orig_shape: (3897, 5846)\n",
              " path: '/content/drive/MyDrive/Object-Detection/data/val/images/pexels-anna-shvets-3846135.jpg'\n",
              " probs: None\n",
              " save_dir: 'runs/detect/predict'\n",
              " speed: {'preprocess': 3.366231918334961, 'inference': 65.7813549041748, 'postprocess': 5.977630615234375},\n",
              " ultralytics.engine.results.Results object with attributes:\n",
              " \n",
              " boxes: ultralytics.engine.results.Boxes object\n",
              " keypoints: None\n",
              " masks: None\n",
              " names: {0: 'cat'}\n",
              " orig_img: array([[[192, 153,  91],\n",
              "         [191, 152,  90],\n",
              "         [179, 140,  78],\n",
              "         ...,\n",
              "         [178, 142,  78],\n",
              "         [185, 150,  84],\n",
              "         [187, 152,  86]],\n",
              " \n",
              "        [[154, 115,  53],\n",
              "         [180, 141,  79],\n",
              "         [186, 147,  85],\n",
              "         ...,\n",
              "         [170, 134,  70],\n",
              "         [176, 141,  75],\n",
              "         [186, 151,  85]],\n",
              " \n",
              "        [[171, 132,  70],\n",
              "         [196, 157,  95],\n",
              "         [192, 153,  91],\n",
              "         ...,\n",
              "         [170, 134,  70],\n",
              "         [173, 138,  72],\n",
              "         [189, 154,  88]],\n",
              " \n",
              "        ...,\n",
              " \n",
              "        [[ 39,  41,  29],\n",
              "         [ 39,  41,  29],\n",
              "         [ 39,  41,  29],\n",
              "         ...,\n",
              "         [ 46,  45,  31],\n",
              "         [ 46,  45,  31],\n",
              "         [ 46,  45,  31]],\n",
              " \n",
              "        [[ 39,  41,  29],\n",
              "         [ 39,  41,  29],\n",
              "         [ 39,  41,  29],\n",
              "         ...,\n",
              "         [ 45,  44,  30],\n",
              "         [ 45,  44,  30],\n",
              "         [ 45,  44,  30]],\n",
              " \n",
              "        [[ 39,  41,  29],\n",
              "         [ 39,  41,  29],\n",
              "         [ 39,  41,  29],\n",
              "         ...,\n",
              "         [ 45,  44,  30],\n",
              "         [ 45,  44,  30],\n",
              "         [ 45,  44,  30]]], dtype=uint8)\n",
              " orig_shape: (3000, 4000)\n",
              " path: '/content/drive/MyDrive/Object-Detection/data/val/images/pexels-malek-dridi-3861171.jpg'\n",
              " probs: None\n",
              " save_dir: 'runs/detect/predict'\n",
              " speed: {'preprocess': 3.242015838623047, 'inference': 68.53723526000977, 'postprocess': 1.9640922546386719},\n",
              " ultralytics.engine.results.Results object with attributes:\n",
              " \n",
              " boxes: ultralytics.engine.results.Boxes object\n",
              " keypoints: None\n",
              " masks: None\n",
              " names: {0: 'cat'}\n",
              " orig_img: array([[[ 0,  0,  0],\n",
              "         [ 0,  0,  0],\n",
              "         [ 0,  0,  0],\n",
              "         ...,\n",
              "         [ 0,  0,  6],\n",
              "         [ 0,  0,  6],\n",
              "         [ 0,  0,  6]],\n",
              " \n",
              "        [[ 0,  0,  0],\n",
              "         [ 0,  0,  0],\n",
              "         [ 0,  0,  0],\n",
              "         ...,\n",
              "         [ 0,  0,  6],\n",
              "         [ 0,  0,  6],\n",
              "         [ 0,  0,  6]],\n",
              " \n",
              "        [[ 0,  0,  0],\n",
              "         [ 0,  0,  0],\n",
              "         [ 0,  0,  0],\n",
              "         ...,\n",
              "         [ 0,  0,  6],\n",
              "         [ 0,  0,  6],\n",
              "         [ 0,  0,  6]],\n",
              " \n",
              "        ...,\n",
              " \n",
              "        [[35, 51, 74],\n",
              "         [33, 49, 72],\n",
              "         [31, 47, 70],\n",
              "         ...,\n",
              "         [ 5,  8, 13],\n",
              "         [ 4,  4, 10],\n",
              "         [ 1,  1,  7]],\n",
              " \n",
              "        [[35, 51, 74],\n",
              "         [33, 49, 72],\n",
              "         [30, 46, 69],\n",
              "         ...,\n",
              "         [ 6,  9, 14],\n",
              "         [ 5,  5, 11],\n",
              "         [ 2,  2,  8]],\n",
              " \n",
              "        [[34, 50, 73],\n",
              "         [32, 48, 71],\n",
              "         [30, 46, 69],\n",
              "         ...,\n",
              "         [ 6,  9, 14],\n",
              "         [ 5,  5, 11],\n",
              "         [ 3,  3,  9]]], dtype=uint8)\n",
              " orig_shape: (2500, 2392)\n",
              " path: '/content/drive/MyDrive/Object-Detection/data/val/images/pexels-pixabay-45201.jpg'\n",
              " probs: None\n",
              " save_dir: 'runs/detect/predict'\n",
              " speed: {'preprocess': 3.6382675170898438, 'inference': 91.68601036071777, 'postprocess': 1.3794898986816406},\n",
              " ultralytics.engine.results.Results object with attributes:\n",
              " \n",
              " boxes: ultralytics.engine.results.Boxes object\n",
              " keypoints: None\n",
              " masks: None\n",
              " names: {0: 'cat'}\n",
              " orig_img: array([[[210, 199, 185],\n",
              "         [210, 199, 185],\n",
              "         [211, 200, 186],\n",
              "         ...,\n",
              "         [210, 195, 179],\n",
              "         [215, 200, 184],\n",
              "         [219, 204, 188]],\n",
              " \n",
              "        [[208, 197, 183],\n",
              "         [208, 197, 183],\n",
              "         [209, 198, 184],\n",
              "         ...,\n",
              "         [212, 197, 181],\n",
              "         [214, 199, 183],\n",
              "         [218, 203, 187]],\n",
              " \n",
              "        [[205, 194, 180],\n",
              "         [206, 195, 181],\n",
              "         [207, 196, 182],\n",
              "         ...,\n",
              "         [214, 199, 183],\n",
              "         [214, 199, 183],\n",
              "         [215, 200, 184]],\n",
              " \n",
              "        ...,\n",
              " \n",
              "        [[ 46,  51,  42],\n",
              "         [ 44,  49,  40],\n",
              "         [ 42,  47,  38],\n",
              "         ...,\n",
              "         [103,  96,  93],\n",
              "         [105,  98,  95],\n",
              "         [106,  99,  96]],\n",
              " \n",
              "        [[ 40,  45,  36],\n",
              "         [ 40,  45,  36],\n",
              "         [ 40,  45,  36],\n",
              "         ...,\n",
              "         [100,  95,  92],\n",
              "         [101,  96,  93],\n",
              "         [102,  97,  94]],\n",
              " \n",
              "        [[ 36,  41,  32],\n",
              "         [ 37,  42,  33],\n",
              "         [ 39,  44,  35],\n",
              "         ...,\n",
              "         [ 98,  93,  90],\n",
              "         [ 98,  93,  90],\n",
              "         [ 98,  93,  90]]], dtype=uint8)\n",
              " orig_shape: (6016, 4016)\n",
              " path: '/content/drive/MyDrive/Object-Detection/data/val/images/pexels-евгения-егорова-8985189.jpg'\n",
              " probs: None\n",
              " save_dir: 'runs/detect/predict'\n",
              " speed: {'preprocess': 3.243684768676758, 'inference': 72.94034957885742, 'postprocess': 2.0890235900878906}]"
            ]
          },
          "metadata": {},
          "execution_count": 8
        }
      ]
    },
    {
      "cell_type": "code",
      "source": [],
      "metadata": {
        "id": "Gh96TjRNlKBA"
      },
      "execution_count": null,
      "outputs": []
    }
  ]
}