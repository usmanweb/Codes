{
 "cells": [
  {
   "cell_type": "code",
   "execution_count": null,
   "metadata": {
    "ExecuteTime": {
     "end_time": "2018-03-10T22:06:48.543758Z",
     "start_time": "2018-03-10T22:06:48.527016Z"
    }
   },
   "outputs": [],
   "source": [
    "import h5py\n",
    "import numpy as np\n",
    "import os\n",
    "from tqdm import tqdm\n",
    "\n",
    "from resnet3d import Resnet3DBuilder\n",
    "\n",
    "import keras\n",
    "from keras.utils import to_categorical\n",
    "from keras.optimizers import SGD, Nadam\n",
    "from keras.callbacks import ModelCheckpoint,TensorBoard,ReduceLROnPlateau\n",
    "from keras import backend as K\n",
    "\n",
    "from sklearn.model_selection import train_test_split"
   ]
  },
  {
   "cell_type": "markdown",
   "metadata": {
    "heading_collapsed": true
   },
   "source": [
    "# Training Parameters"
   ]
  },
  {
   "cell_type": "code",
   "execution_count": null,
   "metadata": {
    "ExecuteTime": {
     "end_time": "2018-03-10T22:07:41.984203Z",
     "start_time": "2018-03-10T22:07:41.974660Z"
    },
    "hidden": true
   },
   "outputs": [],
   "source": [
    "input_shape = (3, 256, 256, 3)\n",
    "\n",
    "class_labels = {0: 'others', 1: 'construction', 2: 'cultivation', 3: 'uncultivation'}\n",
    "class_labels_inv = {v: k for k,v in class_labels.items()}\n",
    "num_classes = len(class_labels)\n",
    "\n",
    "batch_size = 32\n",
    "nb_epoch = 100\n",
    "\n",
    "np.random.seed(42)"
   ]
  },
  {
   "cell_type": "code",
   "execution_count": null,
   "metadata": {
    "ExecuteTime": {
     "end_time": "2018-03-11T19:44:10.938180Z",
     "start_time": "2018-03-11T19:44:09.932426Z"
    },
    "hidden": true
   },
   "outputs": [],
   "source": [
    "model_name = 'resNet34_newdata2_leakyrelu_sgd'\n",
    "dataset_path ='dataset_3d_icasp.h5'\n",
    "if not os.path.exists(model_name):\n",
    "    os.mkdir(model_name)"
   ]
  },
  {
   "cell_type": "code",
   "execution_count": null,
   "metadata": {
    "ExecuteTime": {
     "end_time": "2018-03-10T22:03:59.180521Z",
     "start_time": "2018-03-10T22:03:59.137392Z"
    },
    "hidden": true
   },
   "outputs": [],
   "source": [
    "def load_dataset(dataset_path):\n",
    "    with h5py.File(dataset_path,'r') as f:\n",
    "        dx = f['data_x'][:]\n",
    "        dy = f['data_y'][:]  \n",
    "    return dx, to_categorical(dy, num_classes)\n",
    "\n",
    "def batch_generator(data_X, data_y, batch_size):\n",
    "    indexes = np.array(range(len(data_y)))\n",
    "    n = len(indexes)\n",
    "    while True:\n",
    "        batch_start = 0\n",
    "        batch_end = batch_size\n",
    "        np.random.shuffle(indexes)\n",
    "        while batch_start < n:\n",
    "            index = []\n",
    "            batch_y = []\n",
    "            y = []\n",
    "            index = indexes[batch_start:batch_end]\n",
    "            batch_x = np.array([data_X[i] for i in index])\n",
    "            batch_y = np.array([data_y[i] for i in index])\n",
    "            yield batch_x, batch_y\n",
    "            batch_start += batch_size   \n",
    "            batch_end += batch_size"
   ]
  },
  {
   "cell_type": "markdown",
   "metadata": {
    "heading_collapsed": true
   },
   "source": [
    "# Model"
   ]
  },
  {
   "cell_type": "code",
   "execution_count": null,
   "metadata": {
    "ExecuteTime": {
     "end_time": "2018-03-11T19:44:48.483608Z",
     "start_time": "2018-03-11T19:44:19.140397Z"
    },
    "hidden": true
   },
   "outputs": [],
   "source": [
    "model = Resnet3DBuilder.build_resnet_34(input_shape=input_shape, num_outputs=num_classes)\n",
    "model.load_weights(model_name + '/' + model_name+'.h5')\n",
    "\n",
    "sgd = SGD(lr=0.01, decay=1e-6, momentum=0.9, nesterov=True)\n",
    "# nadam = Nadam(lr=0.002, beta_1=0.9, beta_2=0.999, epsilon=K.epsilon(), schedule_decay=0.004)\n",
    "model.compile(loss='categorical_crossentropy', optimizer=sgd, metrics=['accuracy'])\n",
    "\n",
    "model.summary()"
   ]
  },
  {
   "cell_type": "markdown",
   "metadata": {
    "heading_collapsed": true
   },
   "source": [
    "# Load and split data"
   ]
  },
  {
   "cell_type": "code",
   "execution_count": null,
   "metadata": {},
   "outputs": [],
   "source": [
    "X, y = load_dataset(dataset_path)\n",
    "print ('Size of dataset:', len(y))\n",
    "print(X.shape)"
   ]
  },
  {
   "cell_type": "code",
   "execution_count": null,
   "metadata": {},
   "outputs": [],
   "source": [
    "#X_train, y_train = X[:600], y[:600]\n",
    "#X_val, y_val = X[600:700], y[600:700]\n",
    "#X_test, y_test = X[700:], y[700:]\n",
    "#print('Training: {}\\tValidation: {}\\tTesting: {}'.format(X_train.shape[0], X_val.shape[0], X_test.shape[0]))\n",
    "X_train, y_train = X[600:], y[600:]\n",
    "X_val, y_val = X[200:400], y[200:400]\n",
    "X_test, y_test = X[:200], y[:200]\n",
    "print('Training: {}\\tValidation: {}\\tTesting: {}'.format(X_train.shape[0], X_val.shape[0], X_test.shape[0]))"
   ]
  },
  {
   "cell_type": "code",
   "execution_count": null,
   "metadata": {
    "ExecuteTime": {
     "end_time": "2018-03-11T19:49:19.044605Z",
     "start_time": "2018-03-11T19:47:12.076123Z"
    },
    "hidden": true,
    "scrolled": true
   },
   "outputs": [],
   "source": [
    "# X_train, X_test, y_train, y_test = train_test_split(X, y, test_size=0.2)\n",
    "# X_train, X_val, y_train, y_val = train_test_split(X_train, y_train, test_size=0.2)\n",
    "# print('Training: {}\\tValidation: {}\\tTesting: {}'.format(X_train.shape[0], X_val.shape[0], X_test.shape[0]))"
   ]
  },
  {
   "cell_type": "code",
   "execution_count": null,
   "metadata": {},
   "outputs": [],
   "source": [
    "ot=0\n",
    "cul=0\n",
    "const=0\n",
    "uncul=0\n",
    "for i in range(0,1325):\n",
    "    if(y[i][0]==1):\n",
    "        ot=ot+1\n",
    "    if(y[i][1]==1):\n",
    "        const=const+1\n",
    "    if(y[i][2]==1):\n",
    "        cul=cul+1\n",
    "    if(y[i][3]==1):\n",
    "        uncul=uncul+1\n",
    "    \n",
    "print(ot)\n",
    "print(const)\n",
    "print(cul)\n",
    "print(uncul)"
   ]
  },
  {
   "cell_type": "code",
   "execution_count": null,
   "metadata": {
    "ExecuteTime": {
     "end_time": "2018-03-11T19:49:41.753859Z",
     "start_time": "2018-03-11T19:49:39.716978Z"
    },
    "hidden": true
   },
   "outputs": [],
   "source": [
    "assert not np.any(np.isnan(X_train))\n",
    "assert not np.any(np.isnan(y_train))\n",
    "assert not np.any(np.isnan(X_val))\n",
    "assert not np.any(np.isnan(y_val))\n",
    "assert not np.any(np.isnan(X_test))\n",
    "assert not np.any(np.isnan(y_test))"
   ]
  },
  {
   "cell_type": "code",
   "execution_count": null,
   "metadata": {
    "ExecuteTime": {
     "end_time": "2018-03-11T19:49:43.458019Z",
     "start_time": "2018-03-11T19:49:43.270860Z"
    },
    "hidden": true
   },
   "outputs": [],
   "source": [
    "train_gen = batch_generator(X_train, y_train, batch_size)\n",
    "val_gen = batch_generator(X_val, y_val, batch_size)\n",
    "test_gen = batch_generator(X_test, y_test, batch_size)"
   ]
  },
  {
   "cell_type": "code",
   "execution_count": null,
   "metadata": {},
   "outputs": [],
   "source": [
    "vx = X[1000:]\n",
    "vy=y[1000:]"
   ]
  },
  {
   "cell_type": "code",
   "execution_count": null,
   "metadata": {},
   "outputs": [],
   "source": [
    "vx, vy = val_gen.next()\n",
    "print (vx.shape, vy.shape)\n",
    "image_input = vx[1, :,:,:]\n",
    "print (image_input.shape)"
   ]
  },
  {
   "cell_type": "code",
   "execution_count": null,
   "metadata": {},
   "outputs": [],
   "source": [
    "#@### load best weights and make sub model\n",
    "from keras.models import Model, load_model\n",
    "model.load_weights (model_name+'/'+model_name+'.h5')\n",
    "sub_model = Model (inputs = model.input, outputs = model.get_layer('add_20').output)\n",
    "sub_model.summary()\n",
    "\n",
    "### compute activation of selected layer\n",
    "sub_output = sub_model.predict (vx)\n",
    "print (sub_output.shape)"
   ]
  },
  {
   "cell_type": "code",
   "execution_count": null,
   "metadata": {},
   "outputs": [],
   "source": [
    "vx.shape"
   ]
  },
  {
   "cell_type": "code",
   "execution_count": null,
   "metadata": {},
   "outputs": [],
   "source": [
    "import matplotlib.pyplot as plt\n",
    "import matplotlib.gridspec as gridspec\n",
    "from matplotlib.backends.backend_pdf import PdfPages\n",
    "\n",
    "feature = sub_output#[1,:,:,:]#model.predict(batch_imagesX)  # feature is activation of intermediate layer\n",
    "\n",
    "pdf = PdfPages( 'test.pdf' )\n",
    "gs = gridspec.GridSpec(8, 16, top=1., bottom=0., right=1., left=0., hspace=0.,\n",
    "        wspace=0.)\n",
    "i =0\n",
    "\n",
    "for g in gs:\n",
    "    ax = plt.subplot(g)\n",
    "    ax.imshow(feature[10][0,:,:,i])\n",
    "    ax.set_xticks([])\n",
    "    ax.set_yticks([])\n",
    "    ax.set_aspect('auto')\n",
    "    i+=1\n",
    "\n",
    "pdf.savefig()\n",
    "pdf.close()"
   ]
  },
  {
   "cell_type": "code",
   "execution_count": null,
   "metadata": {},
   "outputs": [],
   "source": [
    "plt.imshow(vx[90,0,:,:])"
   ]
  },
  {
   "cell_type": "code",
   "execution_count": null,
   "metadata": {},
   "outputs": [],
   "source": [
    "plt.savefig(vx[90,2,:,:])"
   ]
  },
  {
   "cell_type": "markdown",
   "metadata": {},
   "source": [
    "import matplotlib.cm as cm\n",
    "W = model.layers[1].get_weights()\n",
    "#print(W)\n",
    "W = np.squeeze(W)\n",
    "W = np.reshape(W[0], (3, 256, 5,5))\n",
    "print(\"W shape : \", W.shape)\n",
    "\n",
    "plt.figure(figsize=(15, 15))\n",
    "plt.title('conv1 weights')\n",
    "nice_imshow(plt.gca(), make_mosaic(W, 4, 5), cmap=cm.binary)"
   ]
  },
  {
   "cell_type": "markdown",
   "metadata": {},
   "source": [
    "def layer_to_visualize(layer):\n",
    "    inputs = [K.learning_phase()] + model.inputs\n",
    "\n",
    "    _convout1_f = K.function(inputs, [layer.output])\n",
    "    def convout1_f(X):\n",
    "        # The [0] is to disable the training phase flag\n",
    "        return _convout1_f([0] + [X])\n",
    "\n",
    "    convolutions = convout1_f(img_to_visualize)\n",
    "    convolutions = np.squeeze(convolutions)\n",
    "\n",
    "    print ('Shape of conv:', convolutions.shape)\n",
    "\n",
    "    n = convolutions.shape[0]\n",
    "    n = int(np.ceil(np.sqrt(n)))\n",
    "\n",
    "    # Visualization of each filter of the layer\n",
    "    fig = plt.figure(figsize=(12,8))\n",
    "    for i in range(len(convolutions)):\n",
    "        ax = fig.add_subplot(n,n,i+1)\n",
    "        ax.imshow(convolutions[i], cmap='gray')"
   ]
  },
  {
   "cell_type": "raw",
   "metadata": {},
   "source": [
    "layer_to_visualize(model.layers[1])"
   ]
  },
  {
   "cell_type": "markdown",
   "metadata": {},
   "source": [
    "# Training"
   ]
  },
  {
   "cell_type": "code",
   "execution_count": null,
   "metadata": {
    "ExecuteTime": {
     "start_time": "2018-03-11T19:49:47.111Z"
    },
    "scrolled": true
   },
   "outputs": [],
   "source": [
    "checkpoint = ModelCheckpoint(model_name+'/'+model_name+'.h5', monitor='val_loss', verbose=2, save_best_only=True, mode='auto')\n",
    "tensorboard = TensorBoard(log_dir=model_name, batch_size=batch_size, write_graph=True, write_images=True)\n",
    "reduce_lr = ReduceLROnPlateau(monitor='val_loss', factor=0.2, patience=5, min_lr=0.00001)\n",
    "earlystop = keras.callbacks.EarlyStopping(monitor='val_loss', min_delta=0, patience=10, verbose=2, mode='auto')\n",
    "cvslogger = keras.callbacks.CSVLogger(model_name+'/'+model_name+'.csv', separator=',', append=True)\n",
    "\n",
    "callbacks = [checkpoint, reduce_lr, cvslogger, tensorboard, earlystop]\n",
    "train_steps = int(len(y_train)//batch_size)\n",
    "val_steps = int(len(y_test)//batch_size)\n",
    "history = model.fit_generator(train_gen, train_steps, epochs=nb_epoch, verbose=1, \n",
    "                    max_queue_size=2, validation_data=val_gen, \n",
    "                    validation_steps=val_steps, shuffle=True,\n",
    "                    workers=1, use_multiprocessing= False, \n",
    "                    initial_epoch=0, callbacks=callbacks)"
   ]
  },
  {
   "cell_type": "markdown",
   "metadata": {},
   "source": [
    "# Results and evaluation"
   ]
  },
  {
   "cell_type": "code",
   "execution_count": null,
   "metadata": {},
   "outputs": [],
   "source": [
    "model.metrics_names"
   ]
  },
  {
   "cell_type": "markdown",
   "metadata": {},
   "source": [
    "sgd + relu --> 76\n",
    "sgd + selu --> 75\n",
    "sgd + leakyrelu --> 75\n",
    "nadam + selu --> 73"
   ]
  },
  {
   "cell_type": "code",
   "execution_count": null,
   "metadata": {},
   "outputs": [],
   "source": [
    "model.evaluate_generator(test_gen, steps=len(X_test)//batch_size)"
   ]
  },
  {
   "cell_type": "code",
   "execution_count": null,
   "metadata": {
    "ExecuteTime": {
     "end_time": "2018-03-10T20:55:39.859187Z",
     "start_time": "2018-03-10T20:55:38.404678Z"
    }
   },
   "outputs": [],
   "source": [
    "preds = model.predict(X_test)\n",
    "preds_bin = (preds == preds.max(axis=1, keepdims=True)).astype(int)\n",
    "preds.shape"
   ]
  },
  {
   "cell_type": "code",
   "execution_count": null,
   "metadata": {},
   "outputs": [],
   "source": [
    "pres_classes = []\n",
    "for p in preds.argmax(axis=1):\n",
    "    pres_classes.append(class_labels[p])"
   ]
  },
  {
   "cell_type": "code",
   "execution_count": null,
   "metadata": {},
   "outputs": [],
   "source": [
    "truth_classes = []\n",
    "for p in y_test.argmax(axis=1):\n",
    "    truth_classes.append(class_labels[p])"
   ]
  },
  {
   "cell_type": "code",
   "execution_count": null,
   "metadata": {},
   "outputs": [],
   "source": [
    "import pandas as pd"
   ]
  },
  {
   "cell_type": "code",
   "execution_count": null,
   "metadata": {},
   "outputs": [],
   "source": [
    "df = pd.read_csv('comparison3.csv')\n",
    "print(df.shape)\n",
    "df.head()"
   ]
  },
  {
   "cell_type": "code",
   "execution_count": null,
   "metadata": {},
   "outputs": [],
   "source": [
    "df['3d_pred'] = pres_classes\n",
    "df['truth'] = truth_classes\n",
    "df.head()"
   ]
  },
  {
   "cell_type": "code",
   "execution_count": null,
   "metadata": {},
   "outputs": [],
   "source": [
    "print('2d accuracy')\n",
    "(df['2d_pred'] == df['truth']).sum() / float(len(df))"
   ]
  },
  {
   "cell_type": "code",
   "execution_count": null,
   "metadata": {},
   "outputs": [],
   "source": [
    "print('3d accuracy')\n",
    "(df['3d_pred'] == dss: 5.587f['truth']).sum() / float(len(df))"
   ]
  },
  {
   "cell_type": "code",
   "execution_count": null,
   "metadata": {},
   "outputs": [],
   "source": [
    "df.to_csv('comparison4.csv', index=False, header=True)"
   ]
  },
  {
   "cell_type": "code",
   "execution_count": null,
   "metadata": {},
   "outputs": [],
   "source": [
    "df = pd.read_csv('comparison.csv')\n",
    "print(df.shape)\n",
    "df.head()"
   ]
  },
  {
   "cell_type": "code",
   "execution_count": null,
   "metadata": {},
   "outputs": [],
   "source": [
    "df['3d_pred'] = pres_classes\n",
    "df['truth'] = truth_classes\n",
    "df.head()"
   ]
  },
  {
   "cell_type": "code",
   "execution_count": null,
   "metadata": {},
   "outputs": [],
   "source": []
  },
  {
   "cell_type": "code",
   "execution_count": null,
   "metadata": {},
   "outputs": [],
   "source": []
  },
  {
   "cell_type": "code",
   "execution_count": null,
   "metadata": {
    "ExecuteTime": {
     "end_time": "2018-03-10T20:55:41.633692Z",
     "start_time": "2018-03-10T20:55:41.627869Z"
    },
    "scrolled": true
   },
   "outputs": [],
   "source": [
    "np.sum(np.all(preds_bin == y_test.astype(int), axis=1)) / float(len(y_test))"
   ]
  },
  {
   "cell_type": "code",
   "execution_count": null,
   "metadata": {
    "ExecuteTime": {
     "end_time": "2018-03-10T20:51:49.555397Z",
     "start_time": "2018-03-10T20:51:49.548729Z"
    }
   },
   "outputs": [],
   "source": [
    "import matplotlib.pyplot as plt\n",
    "import cv2\n",
    "%matplotlib inline"
   ]
  },
  {
   "cell_type": "code",
   "execution_count": null,
   "metadata": {},
   "outputs": [],
   "source": [
    "class_labels = {0: 'others', 1: 'construction', 2: 'cultivation', 3: 'uncultivation'}"
   ]
  },
  {
   "cell_type": "code",
   "execution_count": null,
   "metadata": {
    "scrolled": true
   },
   "outputs": [],
   "source": [
    "for imgnum in tqdm(range(len(preds))):\n",
    "#     imgnum = 112\n",
    "\n",
    "    fig = plt.figure(figsize=(15, 20))\n",
    "    plt.subplot(131)\n",
    "    plt.imshow(X_test[imgnum, 0][:,:,::-1])\n",
    "    plt.axis('off')\n",
    "\n",
    "    plt.subplot(132)\n",
    "    plt.imshow(X_test[imgnum, 1][:,:,::-1])\n",
    "    plt.axis('off')\n",
    "\n",
    "    plt.subplot(133)\n",
    "    plt.imshow(X_test[imgnum, 2][:,:,::-1])\n",
    "    plt.axis('off')\n",
    "\n",
    "    pred_label = class_labels[preds[imgnum].argmax()]\n",
    "    truth = class_labels[y_test[imgnum].astype(int)[0]]\n",
    "\n",
    "    probs_msg = ' /\\ '.join([c+': '+str(p) for c,p in zip(class_labels.values(), preds[imgnum])])\n",
    "    preds_msg = 'pred3d: {} /\\ pred2d: {}  /\\  truth: {}'.format(pred_label, df['2d_pred'].iloc[imgnum], truth)\n",
    "\n",
    "    fig.text(0.1, 0.62, probs_msg, fontsize=12)\n",
    "    fig.text(0.1, 0.6, preds_msg, fontsize=12)\n",
    "\n",
    "    plt.savefig('final_results_comparison/{}.png'.format(imgnum), bbox_inches='tight')\n",
    "    plt.close()"
   ]
  },
  {
   "cell_type": "code",
   "execution_count": null,
   "metadata": {},
   "outputs": [],
   "source": [
    "from keras.utils.visualize_util import plot  \n",
    "plot(model, to_file='model.png')  \n"
   ]
  },
  {
   "cell_type": "code",
   "execution_count": null,
   "metadata": {},
   "outputs": [],
   "source": []
  },
  {
   "cell_type": "code",
   "execution_count": null,
   "metadata": {},
   "outputs": [],
   "source": []
  },
  {
   "cell_type": "code",
   "execution_count": null,
   "metadata": {},
   "outputs": [],
   "source": []
  },
  {
   "cell_type": "code",
   "execution_count": null,
   "metadata": {},
   "outputs": [],
   "source": []
  },
  {
   "cell_type": "code",
   "execution_count": null,
   "metadata": {},
   "outputs": [],
   "source": []
  }
 ],
 "metadata": {
  "kernelspec": {
   "display_name": "Python 3",
   "language": "python",
   "name": "python3"
  },
  "language_info": {
   "codemirror_mode": {
    "name": "ipython",
    "version": 3
   },
   "file_extension": ".py",
   "mimetype": "text/x-python",
   "name": "python",
   "nbconvert_exporter": "python",
   "pygments_lexer": "ipython3",
   "version": "3.8.8"
  },
  "notify_time": "5"
 },
 "nbformat": 4,
 "nbformat_minor": 2
}
