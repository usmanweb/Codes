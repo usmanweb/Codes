{
 "cells": [
  {
   "cell_type": "code",
   "execution_count": 6,
   "metadata": {
    "pycharm": {
     "name": "#%%\n"
    }
   },
   "outputs": [],
   "source": [
    "# Wadood Part\n",
    "\n",
    "# from google.colab import drive\n",
    "#\n",
    "#\n",
    "# drive.mount('/gdrive')\n",
    "\n",
    "\n",
    "\n",
    "import h5py\n",
    "from pathlib import PosixPath\n",
    "\n",
    "\n",
    "class_labels = {0: 'others', 1: 'construction', 2: 'cultivation', 3: 'uncultivation'}\n",
    "class_labels_inv = {v: k for k,v in class_labels.items()}"
   ]
  },
  {
   "cell_type": "code",
   "execution_count": 7,
   "metadata": {},
   "outputs": [
    {
     "name": "stdout",
     "output_type": "stream",
     "text": [
      "Data loaded from disk successfully\n"
     ]
    }
   ],
   "source": [
    "dataset_dir = PosixPath('../datasets/c2d2')\n",
    "\n",
    "dataset_test = dataset_dir / 'test/test.h5'\n",
    "dataset_train = dataset_dir / 'train/train.h5'\n",
    "# dataset_lhr = dataset_dir / 'datasetlhr1.h5'\n",
    "\n",
    "with h5py.File(dataset_train, 'r') as f:\n",
    "    dx = f['data_x'][:]\n",
    "    dy = f['data_y'][:]\n",
    "\n",
    "with h5py.File(dataset_test, 'r') as f:\n",
    "    dx_s = f['data_x'][:]\n",
    "    dy_s = f['data_y'][:]\n",
    "\n",
    "\n",
    "print('Data loaded from disk successfully')"
   ]
  },
  {
   "cell_type": "code",
   "execution_count": 6,
   "metadata": {
    "pycharm": {
     "name": "#%%\n"
    }
   },
   "outputs": [
    {
     "name": "stdout",
     "output_type": "stream",
     "text": [
      "Temporal Land Change in 5th Index\n"
     ]
    }
   ],
   "source": [
    "import cv2\n",
    "\n",
    "print(f'Temporal Land Change in 5th Index')\n",
    "cv2.imshow('2011', dx[5][0])\n",
    "cv2.imshow('2013', dx[5][1])\n",
    "cv2.imshow('2017', dx[5][2])"
   ]
  },
  {
   "cell_type": "code",
   "execution_count": 8,
   "metadata": {},
   "outputs": [
    {
     "name": "stdout",
     "output_type": "stream",
     "text": [
      "Dataset Size (Large): (1996, 1996)\n",
      "Dataset Size (Small): (194, 194)\n",
      "Dataset Shape (Large): ((1996, 3, 256, 256, 3), (1996, 1))\n",
      "Dataset Shape (Small): ((194, 3, 256, 256, 3), (194, 1))\n"
     ]
    }
   ],
   "source": [
    "print(f'Dataset Size (Large): {len(dx), len(dy)}')\n",
    "print(f'Dataset Size (Small): {len(dx_s), len(dy_s)}')\n",
    "print(f'Dataset Shape (Large): {dx.shape, dy.shape}')\n",
    "print(f'Dataset Shape (Small): {dx_s.shape, dy_s.shape}')"
   ]
  },
  {
   "cell_type": "code",
   "execution_count": 9,
   "metadata": {},
   "outputs": [],
   "source": [
    "import numpy as np\n",
    "import pickle\n",
    "\n",
    "with open(dataset_dir / 'test.pkl', 'wb') as handle:\n",
    "    pickle.dump((np.float32(dx_s), np.float32(dy_s)), handle, protocol=pickle.HIGHEST_PROTOCOL)"
   ]
  },
  {
   "cell_type": "code",
   "execution_count": 10,
   "metadata": {},
   "outputs": [],
   "source": [
    "with open(dataset_dir / 'train.pkl', 'wb') as handle:\n",
    "    pickle.dump((np.float32(dx), np.float32(dy)), handle, protocol=pickle.HIGHEST_PROTOCOL)"
   ]
  },
  {
   "cell_type": "code",
   "execution_count": null,
   "metadata": {},
   "outputs": [],
   "source": [
    "from pathlib import PosixPath\n",
    "\n",
    "target_dir = dataset_dir\n",
    "\n",
    "\n",
    "target_small = target_dir / 'small'\n",
    "\n",
    "past = target_small / '2011'\n",
    "present = target_small / '2013'\n",
    "future = target_small / '2017'\n",
    "\n",
    "!mkdir $target_small $past $present $future\n",
    "\n",
    "for index, ((i, j, k), l) in enumerate(zip(dx_s, dy_s)):\n",
    "    print(i.shape, l, target_small / '2011' / f'{index}.jpg')\n",
    "    cv2.imwrite(str(target_small / '2011' / f'{index}.jpg'), i)\n",
    "    cv2.imwrite(str(target_small / '2013' / f'{index}.jpg'), j)\n",
    "    cv2.imwrite(str(target_small / '2017' / f'{index}.jpg'), k)\n"
   ]
  },
  {
   "cell_type": "code",
   "execution_count": null,
   "metadata": {},
   "outputs": [],
   "source": [
    "target_large = target_dir / 'large'\n",
    "\n",
    "past = target_large / '2011'\n",
    "present = target_large / '2013'\n",
    "future = target_large / '2017'\n",
    "\n",
    "!mkdir $target_large $past $present $future\n",
    "\n",
    "for index, ((i, j, k), l) in enumerate(zip(dx, dy)):\n",
    "    print(i.shape, l, target_large / '2011' / f'{index}.jpg')\n",
    "    cv2.imwrite(str(target_large / '2011' / f'{index}.jpg'), i)\n",
    "    cv2.imwrite(str(target_large / '2013' / f'{index}.jpg'), j)\n",
    "    cv2.imwrite(str(target_large / '2017' / f'{index}.jpg'), k)\n"
   ]
  },
  {
   "cell_type": "code",
   "execution_count": null,
   "metadata": {},
   "outputs": [],
   "source": [
    "# !rm -rf $target_small $target_large"
   ]
  }
 ],
 "metadata": {
  "kernelspec": {
   "display_name": "Python 3 (ipykernel)",
   "language": "python",
   "name": "python3"
  },
  "language_info": {
   "codemirror_mode": {
    "name": "ipython",
    "version": 3
   },
   "file_extension": ".py",
   "mimetype": "text/x-python",
   "name": "python",
   "nbconvert_exporter": "python",
   "pygments_lexer": "ipython3",
   "version": "3.8.10"
  }
 },
 "nbformat": 4,
 "nbformat_minor": 1
}
