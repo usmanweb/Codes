{
  "nbformat": 4,
  "nbformat_minor": 0,
  "metadata": {
    "accelerator": "GPU",
    "colab": {
      "name": "MNIST_Superpixel_GCN.ipynb",
      "provenance": [],
      "collapsed_sections": [
        "cSTDAc0jZTON",
        "HBodIcNlfqOF",
        "lhJYtenTje8-",
        "Axl1fpt1N_dv",
        "BQnbktyWU3r3"
      ]
    },
    "kernelspec": {
      "display_name": "Python 3",
      "name": "python3"
    }
  },
  "cells": [
    {
      "cell_type": "code",
      "source": [
        "# Install required packages.\n",
        "!pip install -q torch-scatter -f https://data.pyg.org/whl/torch-1.10.0+cu113.html\n",
        "!pip install -q torch-sparse -f https://data.pyg.org/whl/torch-1.10.0+cu113.html\n",
        "!pip install -q git+https://github.com/pyg-team/pytorch_geometric.git"
      ],
      "metadata": {
        "colab": {
          "base_uri": "https://localhost:8080/"
        },
        "id": "PN0iHjFxyb5r",
        "outputId": "1e069a8b-9662-4995-b2c5-e4bc5660d43f"
      },
      "execution_count": null,
      "outputs": [
        {
          "output_type": "stream",
          "name": "stdout",
          "text": [
            "\u001b[K     |████████████████████████████████| 7.9 MB 5.3 MB/s \n",
            "\u001b[K     |████████████████████████████████| 3.5 MB 2.6 MB/s \n",
            "\u001b[K     |████████████████████████████████| 482 kB 5.4 MB/s \n",
            "\u001b[K     |████████████████████████████████| 41 kB 494 kB/s \n",
            "\u001b[?25h  Building wheel for torch-geometric (setup.py) ... \u001b[?25l\u001b[?25hdone\n"
          ]
        }
      ]
    },
    {
      "cell_type": "markdown",
      "metadata": {
        "id": "GMDvh1OKeuYP"
      },
      "source": [
        "\n",
        "Graph Dataset"
      ]
    },
    {
      "cell_type": "code",
      "metadata": {
        "colab": {
          "base_uri": "https://localhost:8080/"
        },
        "id": "kL8_Pkmt07WM",
        "outputId": "6b34554d-2b2a-43f1-f37d-b1dc1d04f0c4"
      },
      "source": [
        "from torch_geometric.datasets import MNISTSuperpixels\n",
        "from torch_geometric.data import DataLoader\n",
        " \n",
        "# Load the MNISTSuperpixel dataset\n",
        "data = MNISTSuperpixels(root=\".\")\n",
        "data"
      ],
      "execution_count": null,
      "outputs": [
        {
          "output_type": "stream",
          "name": "stderr",
          "text": [
            "Downloading https://data.pyg.org/datasets/MNISTSuperpixels.zip\n",
            "Extracting ./raw/MNISTSuperpixels.zip\n",
            "Processing...\n",
            "Done!\n"
          ]
        },
        {
          "output_type": "execute_result",
          "data": {
            "text/plain": [
              "MNISTSuperpixels(60000)"
            ]
          },
          "metadata": {},
          "execution_count": 2
        }
      ]
    },
    {
      "cell_type": "markdown",
      "metadata": {
        "id": "t2aqwJJ_bUC_"
      },
      "source": [
        "# Implementing Graph Neural Network\n",
        "\n",
        "The GCN simply extends torch.nn.Module. GCNConv expects:\n",
        "\n",
        "    in_channels = Size of each input sample.\n",
        "    out_channels = Size of each output sample.\n",
        "\n",
        "We apply three convolutional layers, which means we learn the information about 3 neighbor hops. After that we apply a pooling layer to combine the information of the individual nodes, as we want to perform graph-level prediction.\n",
        "\n",
        "Always keep in mind that different learning problems (node, edge or graph prediction) require different GNN architectures.\n",
        "\n",
        "For example for node-level prediction you will often encounter masks. For graph-level predictions on the other hand you need to combine the node embeddings.\n"
      ]
    },
    {
      "cell_type": "code",
      "metadata": {
        "colab": {
          "base_uri": "https://localhost:8080/"
        },
        "id": "45raJzPsjhU7",
        "outputId": "ca91b259-70bf-435e-bb06-37df217c51e9"
      },
      "source": [
        "import torch\n",
        "from torch.nn import Linear\n",
        "import torch.nn.functional as F \n",
        "from torch_geometric.nn import GCNConv, TopKPooling, global_mean_pool\n",
        "from torch_geometric.nn import global_mean_pool as gap, global_max_pool as gmp\n",
        "embedding_size = 64\n",
        "class GCN(torch.nn.Module):\n",
        "    def __init__(self):\n",
        "        # Init parent\n",
        "        super(GCN, self).__init__()\n",
        "        torch.manual_seed(42)\n",
        "        # GCN layers\n",
        "        self.initial_conv = GCNConv(data.num_features, embedding_size)\n",
        "        self.conv1 = GCNConv(embedding_size, embedding_size)\n",
        "        self.conv2 = GCNConv(embedding_size, embedding_size)\n",
        "        self.conv3 = GCNConv(embedding_size, embedding_size)\n",
        "        # Output layer\n",
        "        self.out = Linear(embedding_size*2, data.num_classes)\n",
        "    def forward(self, x, edge_index, batch_index):\n",
        "        # First Conv layer\n",
        "        hidden = self.initial_conv(x, edge_index)\n",
        "        hidden = F.tanh(hidden)\n",
        "        # Other Conv layers\n",
        "        hidden = self.conv1(hidden, edge_index)\n",
        "        hidden = F.tanh(hidden)\n",
        "        hidden = self.conv2(hidden, edge_index)\n",
        "        hidden = F.tanh(hidden)\n",
        "        hidden = self.conv3(hidden, edge_index)\n",
        "        hidden = F.tanh(hidden)\n",
        "        # Global Pooling (stack different aggregations)\n",
        "        hidden = torch.cat([gmp(hidden, batch_index), \n",
        "                            gap(hidden, batch_index)], dim=1)\n",
        "        # Apply a final (linear) classifier.\n",
        "        out = self.out(hidden)\n",
        "        return out, hidden\n",
        "model = GCN()\n",
        "print(model)\n",
        "print(\"Number of parameters: \", sum(p.numel() for p in model.parameters()))"
      ],
      "execution_count": null,
      "outputs": [
        {
          "output_type": "stream",
          "name": "stdout",
          "text": [
            "GCN(\n",
            "  (initial_conv): GCNConv(1, 64)\n",
            "  (conv1): GCNConv(64, 64)\n",
            "  (conv2): GCNConv(64, 64)\n",
            "  (conv3): GCNConv(64, 64)\n",
            "  (out): Linear(in_features=128, out_features=10, bias=True)\n",
            ")\n",
            "Number of parameters:  13898\n"
          ]
        }
      ]
    },
    {
      "cell_type": "markdown",
      "metadata": {
        "id": "vf_KuYZmnRgn"
      },
      "source": [
        "## Training the GNN"
      ]
    },
    {
      "cell_type": "code",
      "metadata": {
        "id": "YiEyKu187Qrb"
      },
      "source": [
        "data_size = len(data)\n",
        "data=data[:int(data_size * 0.15)]"
      ],
      "execution_count": null,
      "outputs": []
    },
    {
      "cell_type": "code",
      "metadata": {
        "colab": {
          "base_uri": "https://localhost:8080/"
        },
        "id": "xDra7-J-k0EB",
        "outputId": "465e8242-cbc3-4cad-b7f7-fc14f7747462"
      },
      "source": [
        "from torch_geometric.data import DataLoader\n",
        "import warnings\n",
        "warnings.filterwarnings(\"ignore\")\n",
        "\n",
        "# Cross EntrophyLoss\n",
        "loss_fn = torch.nn.CrossEntropyLoss()\n",
        "optimizer = torch.optim.Adam(model.parameters(), lr=0.0007)  \n",
        "# Use GPU for training\n",
        "device = torch.device(\"cuda:0\" if torch.cuda.is_available() else \"cpu\")\n",
        "model = model.to(device)\n",
        "# Wrap data in a data loader\n",
        "data_size = len(data)\n",
        "NUM_GRAPHS_PER_BATCH = 64\n",
        "loader = DataLoader(data[:int(data_size * 0.8)], \n",
        "                    batch_size=NUM_GRAPHS_PER_BATCH, shuffle=True)\n",
        "test_loader = DataLoader(data[int(data_size * 0.8):], \n",
        "                         batch_size=NUM_GRAPHS_PER_BATCH, shuffle=True)\n",
        "\n",
        "def train(data):\n",
        "    # Enumerate over the data\n",
        "    for batch in loader:\n",
        "      # Use GPU\n",
        "      batch.to(device)  \n",
        "      # Reset gradients\n",
        "      optimizer.zero_grad() \n",
        "      # Passing the node features and the connection info\n",
        "      pred, embedding = model(batch.x.float(), batch.edge_index, batch.batch) \n",
        "      # Calculating the loss and gradients\n",
        "      loss = torch.sqrt(loss_fn(pred, batch.y))       \n",
        "      loss.backward()  \n",
        "      # Update using the gradients\n",
        "      optimizer.step()   \n",
        "    return loss, embedding\n",
        "print(\"Starting training...\")\n",
        "losses = []\n",
        "for epoch in range(500):\n",
        "    loss, h = train(data)\n",
        "    losses.append(loss)\n",
        "    if epoch % 10 == 0:\n",
        "      print(f\"Epoch {epoch} | Train Loss {loss}\")"
      ],
      "execution_count": null,
      "outputs": [
        {
          "output_type": "stream",
          "name": "stdout",
          "text": [
            "Starting training...\n",
            "Epoch 0 | Train Loss 1.5215650796890259\n",
            "Epoch 10 | Train Loss 1.4856492280960083\n",
            "Epoch 20 | Train Loss 1.4277688264846802\n",
            "Epoch 30 | Train Loss 1.4231071472167969\n",
            "Epoch 40 | Train Loss 1.360479712486267\n",
            "Epoch 50 | Train Loss 1.3938465118408203\n",
            "Epoch 60 | Train Loss 1.4424673318862915\n",
            "Epoch 70 | Train Loss 1.3430346250534058\n",
            "Epoch 80 | Train Loss 1.3887927532196045\n",
            "Epoch 90 | Train Loss 1.3358087539672852\n",
            "Epoch 100 | Train Loss 1.319111704826355\n",
            "Epoch 110 | Train Loss 1.342343807220459\n",
            "Epoch 120 | Train Loss 1.2416421175003052\n",
            "Epoch 130 | Train Loss 1.262344479560852\n",
            "Epoch 140 | Train Loss 1.3680349588394165\n",
            "Epoch 150 | Train Loss 1.4285576343536377\n",
            "Epoch 160 | Train Loss 1.3161044120788574\n",
            "Epoch 170 | Train Loss 1.3198858499526978\n",
            "Epoch 180 | Train Loss 1.394052505493164\n",
            "Epoch 190 | Train Loss 1.3034861087799072\n",
            "Epoch 200 | Train Loss 1.2781985998153687\n",
            "Epoch 210 | Train Loss 1.4042556285858154\n",
            "Epoch 220 | Train Loss 1.3243162631988525\n",
            "Epoch 230 | Train Loss 1.435455560684204\n",
            "Epoch 240 | Train Loss 1.4408928155899048\n",
            "Epoch 250 | Train Loss 1.367803931236267\n",
            "Epoch 260 | Train Loss 1.4249353408813477\n",
            "Epoch 270 | Train Loss 1.2567652463912964\n",
            "Epoch 280 | Train Loss 1.2648214101791382\n",
            "Epoch 290 | Train Loss 1.2607977390289307\n",
            "Epoch 300 | Train Loss 1.3338890075683594\n",
            "Epoch 310 | Train Loss 1.1797319650650024\n",
            "Epoch 320 | Train Loss 1.255549430847168\n",
            "Epoch 330 | Train Loss 1.4115228652954102\n",
            "Epoch 340 | Train Loss 1.3396954536437988\n",
            "Epoch 350 | Train Loss 1.2246599197387695\n",
            "Epoch 360 | Train Loss 1.3421592712402344\n",
            "Epoch 370 | Train Loss 1.3898258209228516\n",
            "Epoch 380 | Train Loss 1.2923189401626587\n",
            "Epoch 390 | Train Loss 1.3969674110412598\n",
            "Epoch 400 | Train Loss 1.306320071220398\n",
            "Epoch 410 | Train Loss 1.2580540180206299\n",
            "Epoch 420 | Train Loss 1.395656943321228\n",
            "Epoch 430 | Train Loss 1.298769474029541\n",
            "Epoch 440 | Train Loss 1.3024028539657593\n",
            "Epoch 450 | Train Loss 1.2940483093261719\n",
            "Epoch 460 | Train Loss 1.2910104990005493\n",
            "Epoch 470 | Train Loss 1.179249882698059\n",
            "Epoch 480 | Train Loss 1.279240369796753\n",
            "Epoch 490 | Train Loss 1.3209422826766968\n"
          ]
        }
      ]
    },
    {
      "cell_type": "markdown",
      "metadata": {
        "id": "Axl1fpt1N_dv"
      },
      "source": [
        "### Visualizing the Training loss"
      ]
    },
    {
      "cell_type": "code",
      "metadata": {
        "id": "Z3Eh6uL15AYX",
        "colab": {
          "base_uri": "https://localhost:8080/",
          "height": 283
        },
        "outputId": "70420c09-b081-43c4-8df6-08513ba771c5"
      },
      "source": [
        "# Visualize learning (training loss)\n",
        "import seaborn as sns\n",
        "losses_float = [float(loss.cpu().detach().numpy()) for loss in losses] \n",
        "loss_indices = [i for i,l in enumerate(losses_float)] \n",
        "plt = sns.lineplot(loss_indices, losses_float)\n",
        "plt\n",
        "\n"
      ],
      "execution_count": null,
      "outputs": [
        {
          "output_type": "execute_result",
          "data": {
            "text/plain": [
              "<matplotlib.axes._subplots.AxesSubplot at 0x7f03daae71d0>"
            ]
          },
          "metadata": {},
          "execution_count": 14
        },
        {
          "output_type": "display_data",
          "data": {
            "image/png": "[encoded data removed]",
            "text/plain": [
              "<Figure size 432x288 with 1 Axes>"
            ]
          },
          "metadata": {
            "needs_background": "light"
          }
        }
      ]
    },
    {
      "cell_type": "markdown",
      "metadata": {
        "id": "plirCWZL3RAQ"
      },
      "source": [
        "### Getting a test prediction"
      ]
    },
    {
      "cell_type": "code",
      "metadata": {
        "id": "mpnH7cf03Uxi",
        "colab": {
          "base_uri": "https://localhost:8080/"
        },
        "outputId": "08c462e0-2d78-404c-9969-c66301a86030"
      },
      "source": [
        "import pandas as pd \n",
        "test_batch = next(iter(test_loader))\n",
        "with torch.no_grad():\n",
        "    test_batch.to(device)\n",
        "    pred, embed = model(test_batch.x.float(), test_batch.edge_index, test_batch.batch) \n",
        "    pred=torch.argmax(pred,dim=1)\n",
        "print(test_batch.y[0])#Actual REsult\n",
        "print(pred[0])#Predicted Result\n"
      ],
      "execution_count": null,
      "outputs": [
        {
          "output_type": "stream",
          "name": "stdout",
          "text": [
            "tensor(8, device='cuda:0')\n",
            "tensor(0, device='cuda:0')\n"
          ]
        }
      ]
    }
  ]
}